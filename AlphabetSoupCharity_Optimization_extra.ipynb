{
  "cells": [
    {
      "cell_type": "markdown",
      "metadata": {
        "id": "view-in-github",
        "colab_type": "text"
      },
      "source": [
        "<a href=\"https://colab.research.google.com/github/mugsiemx/deep-learning-challenge/blob/main/AlphabetSoupCharity_Optimization_extra.ipynb\" target=\"_parent\"><img src=\"https://colab.research.google.com/assets/colab-badge.svg\" alt=\"Open In Colab\"/></a>"
      ]
    },
    {
      "cell_type": "markdown",
      "metadata": {
        "id": "Ahsk0UBXaPzo"
      },
      "source": [
        "## Preprocessing"
      ]
    },
    {
      "cell_type": "code",
      "source": [
        "# import the repository for the csv file\n",
        "! git clone https://github.com/mugsiemx/deep-learning-challenge"
      ],
      "metadata": {
        "id": "FnGqSNObDMuT",
        "colab": {
          "base_uri": "https://localhost:8080/"
        },
        "outputId": "8e3d7c75-d4f7-43bc-ff8e-e93a7d1d6518"
      },
      "execution_count": 1,
      "outputs": [
        {
          "output_type": "stream",
          "name": "stdout",
          "text": [
            "Cloning into 'deep-learning-challenge'...\n",
            "remote: Enumerating objects: 192, done.\u001b[K\n",
            "remote: Counting objects: 100% (192/192), done.\u001b[K\n",
            "remote: Compressing objects: 100% (158/158), done.\u001b[K\n",
            "remote: Total 192 (delta 103), reused 74 (delta 31), pack-reused 0\u001b[K\n",
            "Receiving objects: 100% (192/192), 4.98 MiB | 16.83 MiB/s, done.\n",
            "Resolving deltas: 100% (103/103), done.\n"
          ]
        }
      ]
    },
    {
      "cell_type": "code",
      "execution_count": 2,
      "metadata": {
        "colab": {
          "base_uri": "https://localhost:8080/"
        },
        "id": "WzNBL7LyaPzq",
        "outputId": "6baa80ca-03f0-4d72-b95b-ccd23ca2e1be"
      },
      "outputs": [
        {
          "output_type": "stream",
          "name": "stdout",
          "text": [
            "CPU times: user 8.89 ms, sys: 3.83 ms, total: 12.7 ms\n",
            "Wall time: 16.5 ms\n"
          ]
        },
        {
          "output_type": "execute_result",
          "data": {
            "text/plain": [
              "(EIN                        int64\n",
              " NAME                      string\n",
              " APPLICATION_TYPE          string\n",
              " AFFILIATION               string\n",
              " CLASSIFICATION            string\n",
              " USE_CASE                  string\n",
              " ORGANIZATION              string\n",
              " STATUS                     int64\n",
              " INCOME_AMT                string\n",
              " SPECIAL_CONSIDERATIONS    string\n",
              " ASK_AMT                    int64\n",
              " IS_SUCCESSFUL              int64\n",
              " dtype: object,\n",
              " (Delayed('int-4b3f8b63-eef2-47bc-ae1d-b2bc51fdc251'), 12))"
            ]
          },
          "metadata": {},
          "execution_count": 2
        }
      ],
      "source": [
        "# Import our dependencies\n",
        "import matplotlib.pyplot as plt\n",
        "import dask.dataframe as dd\n",
        "import pandas as pd\n",
        "import numpy as np\n",
        "import tensorflow as tf\n",
        "from tensorflow import keras\n",
        "from imblearn.over_sampling import RandomOverSampler\n",
        "from sklearn.model_selection import train_test_split\n",
        "from sklearn.metrics import classification_report\n",
        "from sklearn.preprocessing import StandardScaler, LabelEncoder\n",
        "\n",
        "# read the CSV file from the Resources folder into a dask DataFrame\n",
        "## change the data types to strings and integers\n",
        "%time df = dd.read_csv('/content/deep-learning-challenge/Resources/charity_data.csv', low_memory=False,\\\n",
        "                       dtype={'APPLICATION_TYPE': 'string','AFFILIATION': 'string','CLASSIFICATION': 'string',\\\n",
        "                              'USE_CASE': 'string','ORGANIZATION': 'string','STATUS': 'int','INCOME_AMT': 'string',\\\n",
        "                              'SPECIAL_CONSIDERATIONS': 'string', 'NAME': 'string'}\\\n",
        "                       )\n",
        "# review the DataFrame\n",
        "df.dtypes, df.shape"
      ]
    },
    {
      "cell_type": "code",
      "execution_count": 3,
      "metadata": {
        "colab": {
          "base_uri": "https://localhost:8080/"
        },
        "id": "6ONtAijWaPzs",
        "outputId": "1c629abf-a16a-470f-a1c7-4603e561c220"
      },
      "outputs": [
        {
          "output_type": "stream",
          "name": "stdout",
          "text": [
            "<class 'dask.dataframe.core.DataFrame'>\n",
            "Columns: 11 entries, NAME to IS_SUCCESSFUL\n",
            "dtypes: int64(3), string(8)"
          ]
        },
        {
          "output_type": "execute_result",
          "data": {
            "text/plain": [
              "(None,\n",
              " NAME                      string\n",
              " APPLICATION_TYPE          string\n",
              " AFFILIATION               string\n",
              " CLASSIFICATION            string\n",
              " USE_CASE                  string\n",
              " ORGANIZATION              string\n",
              " STATUS                     int64\n",
              " INCOME_AMT                string\n",
              " SPECIAL_CONSIDERATIONS    string\n",
              " ASK_AMT                    int64\n",
              " IS_SUCCESSFUL              int64\n",
              " dtype: object)"
            ]
          },
          "metadata": {},
          "execution_count": 3
        }
      ],
      "source": [
        "# Drop the non-beneficial ID columns, 'EIN' and 'NAME'.\n",
        "# df = df.drop(['EIN','NAME'], axis=1)\n",
        "\n",
        "# revisited, dropping only EIN\n",
        "df = df.drop(['EIN'], axis=1)\n",
        "df.info(), df.dtypes"
      ]
    },
    {
      "cell_type": "code",
      "source": [
        "# create DataFrame with compute\n",
        "application_df = df.compute()\n",
        "application_df"
      ],
      "metadata": {
        "colab": {
          "base_uri": "https://localhost:8080/",
          "height": 921
        },
        "id": "HHxhSi0waq5V",
        "outputId": "590a3532-8f70-422e-8d0c-244892d7138b"
      },
      "execution_count": 4,
      "outputs": [
        {
          "output_type": "execute_result",
          "data": {
            "text/plain": [
              "                                                    NAME APPLICATION_TYPE  \\\n",
              "0                           BLUE KNIGHTS MOTORCYCLE CLUB              T10   \n",
              "1                 AMERICAN CHESAPEAKE CLUB CHARITABLE TR               T3   \n",
              "2                     ST CLOUD PROFESSIONAL FIREFIGHTERS               T5   \n",
              "3                         SOUTHSIDE ATHLETIC ASSOCIATION               T3   \n",
              "4               GENETIC RESEARCH INSTITUTE OF THE DESERT               T3   \n",
              "...                                                  ...              ...   \n",
              "34294              THE LIONS CLUB OF HONOLULU KAMEHAMEHA               T4   \n",
              "34295           INTERNATIONAL ASSOCIATION OF LIONS CLUBS               T4   \n",
              "34296                                PTA HAWAII CONGRESS               T3   \n",
              "34297  AMERICAN FEDERATION OF GOVERNMENT EMPLOYEES LO...               T5   \n",
              "34298                           WATERHOUSE CHARITABLE TR               T3   \n",
              "\n",
              "            AFFILIATION CLASSIFICATION      USE_CASE  ORGANIZATION  STATUS  \\\n",
              "0           Independent          C1000    ProductDev   Association       1   \n",
              "1           Independent          C2000  Preservation  Co-operative       1   \n",
              "2      CompanySponsored          C3000    ProductDev   Association       1   \n",
              "3      CompanySponsored          C2000  Preservation         Trust       1   \n",
              "4           Independent          C1000     Heathcare         Trust       1   \n",
              "...                 ...            ...           ...           ...     ...   \n",
              "34294       Independent          C1000    ProductDev   Association       1   \n",
              "34295  CompanySponsored          C3000    ProductDev   Association       1   \n",
              "34296  CompanySponsored          C2000  Preservation   Association       1   \n",
              "34297       Independent          C3000    ProductDev   Association       1   \n",
              "34298       Independent          C1000  Preservation  Co-operative       1   \n",
              "\n",
              "          INCOME_AMT SPECIAL_CONSIDERATIONS   ASK_AMT  IS_SUCCESSFUL  \n",
              "0                  0                      N      5000              1  \n",
              "1             1-9999                      N    108590              1  \n",
              "2                  0                      N      5000              0  \n",
              "3        10000-24999                      N      6692              1  \n",
              "4      100000-499999                      N    142590              1  \n",
              "...              ...                    ...       ...            ...  \n",
              "34294              0                      N      5000              0  \n",
              "34295              0                      N      5000              0  \n",
              "34296              0                      N      5000              0  \n",
              "34297              0                      N      5000              1  \n",
              "34298          1M-5M                      N  36500179              0  \n",
              "\n",
              "[34299 rows x 11 columns]"
            ],
            "text/html": [
              "\n",
              "  <div id=\"df-3df73dda-7a85-46a8-928f-729728d432f7\">\n",
              "    <div class=\"colab-df-container\">\n",
              "      <div>\n",
              "<style scoped>\n",
              "    .dataframe tbody tr th:only-of-type {\n",
              "        vertical-align: middle;\n",
              "    }\n",
              "\n",
              "    .dataframe tbody tr th {\n",
              "        vertical-align: top;\n",
              "    }\n",
              "\n",
              "    .dataframe thead th {\n",
              "        text-align: right;\n",
              "    }\n",
              "</style>\n",
              "<table border=\"1\" class=\"dataframe\">\n",
              "  <thead>\n",
              "    <tr style=\"text-align: right;\">\n",
              "      <th></th>\n",
              "      <th>NAME</th>\n",
              "      <th>APPLICATION_TYPE</th>\n",
              "      <th>AFFILIATION</th>\n",
              "      <th>CLASSIFICATION</th>\n",
              "      <th>USE_CASE</th>\n",
              "      <th>ORGANIZATION</th>\n",
              "      <th>STATUS</th>\n",
              "      <th>INCOME_AMT</th>\n",
              "      <th>SPECIAL_CONSIDERATIONS</th>\n",
              "      <th>ASK_AMT</th>\n",
              "      <th>IS_SUCCESSFUL</th>\n",
              "    </tr>\n",
              "  </thead>\n",
              "  <tbody>\n",
              "    <tr>\n",
              "      <th>0</th>\n",
              "      <td>BLUE KNIGHTS MOTORCYCLE CLUB</td>\n",
              "      <td>T10</td>\n",
              "      <td>Independent</td>\n",
              "      <td>C1000</td>\n",
              "      <td>ProductDev</td>\n",
              "      <td>Association</td>\n",
              "      <td>1</td>\n",
              "      <td>0</td>\n",
              "      <td>N</td>\n",
              "      <td>5000</td>\n",
              "      <td>1</td>\n",
              "    </tr>\n",
              "    <tr>\n",
              "      <th>1</th>\n",
              "      <td>AMERICAN CHESAPEAKE CLUB CHARITABLE TR</td>\n",
              "      <td>T3</td>\n",
              "      <td>Independent</td>\n",
              "      <td>C2000</td>\n",
              "      <td>Preservation</td>\n",
              "      <td>Co-operative</td>\n",
              "      <td>1</td>\n",
              "      <td>1-9999</td>\n",
              "      <td>N</td>\n",
              "      <td>108590</td>\n",
              "      <td>1</td>\n",
              "    </tr>\n",
              "    <tr>\n",
              "      <th>2</th>\n",
              "      <td>ST CLOUD PROFESSIONAL FIREFIGHTERS</td>\n",
              "      <td>T5</td>\n",
              "      <td>CompanySponsored</td>\n",
              "      <td>C3000</td>\n",
              "      <td>ProductDev</td>\n",
              "      <td>Association</td>\n",
              "      <td>1</td>\n",
              "      <td>0</td>\n",
              "      <td>N</td>\n",
              "      <td>5000</td>\n",
              "      <td>0</td>\n",
              "    </tr>\n",
              "    <tr>\n",
              "      <th>3</th>\n",
              "      <td>SOUTHSIDE ATHLETIC ASSOCIATION</td>\n",
              "      <td>T3</td>\n",
              "      <td>CompanySponsored</td>\n",
              "      <td>C2000</td>\n",
              "      <td>Preservation</td>\n",
              "      <td>Trust</td>\n",
              "      <td>1</td>\n",
              "      <td>10000-24999</td>\n",
              "      <td>N</td>\n",
              "      <td>6692</td>\n",
              "      <td>1</td>\n",
              "    </tr>\n",
              "    <tr>\n",
              "      <th>4</th>\n",
              "      <td>GENETIC RESEARCH INSTITUTE OF THE DESERT</td>\n",
              "      <td>T3</td>\n",
              "      <td>Independent</td>\n",
              "      <td>C1000</td>\n",
              "      <td>Heathcare</td>\n",
              "      <td>Trust</td>\n",
              "      <td>1</td>\n",
              "      <td>100000-499999</td>\n",
              "      <td>N</td>\n",
              "      <td>142590</td>\n",
              "      <td>1</td>\n",
              "    </tr>\n",
              "    <tr>\n",
              "      <th>...</th>\n",
              "      <td>...</td>\n",
              "      <td>...</td>\n",
              "      <td>...</td>\n",
              "      <td>...</td>\n",
              "      <td>...</td>\n",
              "      <td>...</td>\n",
              "      <td>...</td>\n",
              "      <td>...</td>\n",
              "      <td>...</td>\n",
              "      <td>...</td>\n",
              "      <td>...</td>\n",
              "    </tr>\n",
              "    <tr>\n",
              "      <th>34294</th>\n",
              "      <td>THE LIONS CLUB OF HONOLULU KAMEHAMEHA</td>\n",
              "      <td>T4</td>\n",
              "      <td>Independent</td>\n",
              "      <td>C1000</td>\n",
              "      <td>ProductDev</td>\n",
              "      <td>Association</td>\n",
              "      <td>1</td>\n",
              "      <td>0</td>\n",
              "      <td>N</td>\n",
              "      <td>5000</td>\n",
              "      <td>0</td>\n",
              "    </tr>\n",
              "    <tr>\n",
              "      <th>34295</th>\n",
              "      <td>INTERNATIONAL ASSOCIATION OF LIONS CLUBS</td>\n",
              "      <td>T4</td>\n",
              "      <td>CompanySponsored</td>\n",
              "      <td>C3000</td>\n",
              "      <td>ProductDev</td>\n",
              "      <td>Association</td>\n",
              "      <td>1</td>\n",
              "      <td>0</td>\n",
              "      <td>N</td>\n",
              "      <td>5000</td>\n",
              "      <td>0</td>\n",
              "    </tr>\n",
              "    <tr>\n",
              "      <th>34296</th>\n",
              "      <td>PTA HAWAII CONGRESS</td>\n",
              "      <td>T3</td>\n",
              "      <td>CompanySponsored</td>\n",
              "      <td>C2000</td>\n",
              "      <td>Preservation</td>\n",
              "      <td>Association</td>\n",
              "      <td>1</td>\n",
              "      <td>0</td>\n",
              "      <td>N</td>\n",
              "      <td>5000</td>\n",
              "      <td>0</td>\n",
              "    </tr>\n",
              "    <tr>\n",
              "      <th>34297</th>\n",
              "      <td>AMERICAN FEDERATION OF GOVERNMENT EMPLOYEES LO...</td>\n",
              "      <td>T5</td>\n",
              "      <td>Independent</td>\n",
              "      <td>C3000</td>\n",
              "      <td>ProductDev</td>\n",
              "      <td>Association</td>\n",
              "      <td>1</td>\n",
              "      <td>0</td>\n",
              "      <td>N</td>\n",
              "      <td>5000</td>\n",
              "      <td>1</td>\n",
              "    </tr>\n",
              "    <tr>\n",
              "      <th>34298</th>\n",
              "      <td>WATERHOUSE CHARITABLE TR</td>\n",
              "      <td>T3</td>\n",
              "      <td>Independent</td>\n",
              "      <td>C1000</td>\n",
              "      <td>Preservation</td>\n",
              "      <td>Co-operative</td>\n",
              "      <td>1</td>\n",
              "      <td>1M-5M</td>\n",
              "      <td>N</td>\n",
              "      <td>36500179</td>\n",
              "      <td>0</td>\n",
              "    </tr>\n",
              "  </tbody>\n",
              "</table>\n",
              "<p>34299 rows × 11 columns</p>\n",
              "</div>\n",
              "      <button class=\"colab-df-convert\" onclick=\"convertToInteractive('df-3df73dda-7a85-46a8-928f-729728d432f7')\"\n",
              "              title=\"Convert this dataframe to an interactive table.\"\n",
              "              style=\"display:none;\">\n",
              "        \n",
              "  <svg xmlns=\"http://www.w3.org/2000/svg\" height=\"24px\"viewBox=\"0 0 24 24\"\n",
              "       width=\"24px\">\n",
              "    <path d=\"M0 0h24v24H0V0z\" fill=\"none\"/>\n",
              "    <path d=\"M18.56 5.44l.94 2.06.94-2.06 2.06-.94-2.06-.94-.94-2.06-.94 2.06-2.06.94zm-11 1L8.5 8.5l.94-2.06 2.06-.94-2.06-.94L8.5 2.5l-.94 2.06-2.06.94zm10 10l.94 2.06.94-2.06 2.06-.94-2.06-.94-.94-2.06-.94 2.06-2.06.94z\"/><path d=\"M17.41 7.96l-1.37-1.37c-.4-.4-.92-.59-1.43-.59-.52 0-1.04.2-1.43.59L10.3 9.45l-7.72 7.72c-.78.78-.78 2.05 0 2.83L4 21.41c.39.39.9.59 1.41.59.51 0 1.02-.2 1.41-.59l7.78-7.78 2.81-2.81c.8-.78.8-2.07 0-2.86zM5.41 20L4 18.59l7.72-7.72 1.47 1.35L5.41 20z\"/>\n",
              "  </svg>\n",
              "      </button>\n",
              "      \n",
              "  <style>\n",
              "    .colab-df-container {\n",
              "      display:flex;\n",
              "      flex-wrap:wrap;\n",
              "      gap: 12px;\n",
              "    }\n",
              "\n",
              "    .colab-df-convert {\n",
              "      background-color: #E8F0FE;\n",
              "      border: none;\n",
              "      border-radius: 50%;\n",
              "      cursor: pointer;\n",
              "      display: none;\n",
              "      fill: #1967D2;\n",
              "      height: 32px;\n",
              "      padding: 0 0 0 0;\n",
              "      width: 32px;\n",
              "    }\n",
              "\n",
              "    .colab-df-convert:hover {\n",
              "      background-color: #E2EBFA;\n",
              "      box-shadow: 0px 1px 2px rgba(60, 64, 67, 0.3), 0px 1px 3px 1px rgba(60, 64, 67, 0.15);\n",
              "      fill: #174EA6;\n",
              "    }\n",
              "\n",
              "    [theme=dark] .colab-df-convert {\n",
              "      background-color: #3B4455;\n",
              "      fill: #D2E3FC;\n",
              "    }\n",
              "\n",
              "    [theme=dark] .colab-df-convert:hover {\n",
              "      background-color: #434B5C;\n",
              "      box-shadow: 0px 1px 3px 1px rgba(0, 0, 0, 0.15);\n",
              "      filter: drop-shadow(0px 1px 2px rgba(0, 0, 0, 0.3));\n",
              "      fill: #FFFFFF;\n",
              "    }\n",
              "  </style>\n",
              "\n",
              "      <script>\n",
              "        const buttonEl =\n",
              "          document.querySelector('#df-3df73dda-7a85-46a8-928f-729728d432f7 button.colab-df-convert');\n",
              "        buttonEl.style.display =\n",
              "          google.colab.kernel.accessAllowed ? 'block' : 'none';\n",
              "\n",
              "        async function convertToInteractive(key) {\n",
              "          const element = document.querySelector('#df-3df73dda-7a85-46a8-928f-729728d432f7');\n",
              "          const dataTable =\n",
              "            await google.colab.kernel.invokeFunction('convertToInteractive',\n",
              "                                                     [key], {});\n",
              "          if (!dataTable) return;\n",
              "\n",
              "          const docLinkHtml = 'Like what you see? Visit the ' +\n",
              "            '<a target=\"_blank\" href=https://colab.research.google.com/notebooks/data_table.ipynb>data table notebook</a>'\n",
              "            + ' to learn more about interactive tables.';\n",
              "          element.innerHTML = '';\n",
              "          dataTable['output_type'] = 'display_data';\n",
              "          await google.colab.output.renderOutput(dataTable, element);\n",
              "          const docLink = document.createElement('div');\n",
              "          docLink.innerHTML = docLinkHtml;\n",
              "          element.appendChild(docLink);\n",
              "        }\n",
              "      </script>\n",
              "    </div>\n",
              "  </div>\n",
              "  "
            ]
          },
          "metadata": {},
          "execution_count": 4
        }
      ]
    },
    {
      "cell_type": "markdown",
      "source": [
        "# Analyze individual columns for optimization opportunities"
      ],
      "metadata": {
        "id": "An1ouGyYm29r"
      }
    },
    {
      "cell_type": "code",
      "execution_count": 5,
      "metadata": {
        "colab": {
          "base_uri": "https://localhost:8080/"
        },
        "id": "2I6Xxhb4aPzs",
        "outputId": "d934d759-5034-4939-cfef-73bb379a1ca4"
      },
      "outputs": [
        {
          "output_type": "execute_result",
          "data": {
            "text/plain": [
              "NAME                      19568\n",
              "APPLICATION_TYPE             17\n",
              "AFFILIATION                   6\n",
              "CLASSIFICATION               71\n",
              "USE_CASE                      5\n",
              "ORGANIZATION                  4\n",
              "STATUS                        2\n",
              "INCOME_AMT                    9\n",
              "SPECIAL_CONSIDERATIONS        2\n",
              "ASK_AMT                    8747\n",
              "IS_SUCCESSFUL                 2\n",
              "dtype: int64"
            ]
          },
          "metadata": {},
          "execution_count": 5
        }
      ],
      "source": [
        "# Determine the number of unique values in each column.\n",
        "application_df.nunique()"
      ]
    },
    {
      "cell_type": "markdown",
      "source": [
        "* NAME"
      ],
      "metadata": {
        "id": "aPBxueZfNM5t"
      }
    },
    {
      "cell_type": "code",
      "source": [
        "nam_counts = application_df['NAME'].value_counts()\n",
        "nam_counts"
      ],
      "metadata": {
        "colab": {
          "base_uri": "https://localhost:8080/"
        },
        "id": "zsJXdfMmNJEI",
        "outputId": "b3c7eeee-0614-42dd-ee49-2e871b1edd48"
      },
      "execution_count": 6,
      "outputs": [
        {
          "output_type": "execute_result",
          "data": {
            "text/plain": [
              "PARENT BOOSTER USA INC                               1260\n",
              "TOPS CLUB INC                                         765\n",
              "UNITED STATES BOWLING CONGRESS INC                    700\n",
              "WASHINGTON STATE UNIVERSITY                           492\n",
              "AMATEUR ATHLETIC UNION OF THE UNITED STATES INC       408\n",
              "                                                     ... \n",
              "POM-POMS CASTLE                                         1\n",
              "FOUNDATION FOR INTERVENTIONAL RADIOLOGICAL RES...       1\n",
              "DARE U TO CARE OUTREACH MINISTRY                        1\n",
              "GEFFEN PLAYHOUSE INC                                    1\n",
              "WATERHOUSE CHARITABLE TR                                1\n",
              "Name: NAME, Length: 19568, dtype: Int64"
            ]
          },
          "metadata": {},
          "execution_count": 6
        }
      ]
    },
    {
      "cell_type": "code",
      "source": [
        "application_df.groupby(['IS_SUCCESSFUL','NAME'])['IS_SUCCESSFUL'].agg('count')"
      ],
      "metadata": {
        "colab": {
          "base_uri": "https://localhost:8080/"
        },
        "id": "523VOZH3NJ5-",
        "outputId": "cbe57a1b-6dda-442e-d0b7-688491d3cc48"
      },
      "execution_count": 7,
      "outputs": [
        {
          "output_type": "execute_result",
          "data": {
            "text/plain": [
              "IS_SUCCESSFUL  NAME                                     \n",
              "0              100 BLACK MEN OF WEST GEORGIA INC            1\n",
              "               1150 WEBSTER STREET INC                      1\n",
              "               146TH ALUMNI ASSOCIATION                     1\n",
              "               1K NATION INC                                1\n",
              "               2041 FOUNDATION INCORPORATED                 1\n",
              "                                                           ..\n",
              "1              ZOZ AMBA FOUNDATION                          1\n",
              "               ZUMAS RESCUE RANCH INC                       1\n",
              "               ZUNEN AGRIBUSINESS SOLUTIONS                 1\n",
              "               ZUNI MOUNTAIN ENVIRONMENTAL ACTION LEAGUE    1\n",
              "               ZURICH PUBLISHING FOUNDATION INC             1\n",
              "Name: IS_SUCCESSFUL, Length: 19828, dtype: int64"
            ]
          },
          "metadata": {},
          "execution_count": 7
        }
      ]
    },
    {
      "cell_type": "markdown",
      "source": [
        "* APPLICATION_TYPE"
      ],
      "metadata": {
        "id": "xFj9VRK6v_W7"
      }
    },
    {
      "cell_type": "code",
      "source": [
        "app_counts = application_df['APPLICATION_TYPE'].value_counts()\n",
        "app_counts"
      ],
      "metadata": {
        "colab": {
          "base_uri": "https://localhost:8080/"
        },
        "id": "gHSaGGFTwVpq",
        "outputId": "0c5e0a06-a7ff-4fa4-90f6-61cf501baa27"
      },
      "execution_count": 8,
      "outputs": [
        {
          "output_type": "execute_result",
          "data": {
            "text/plain": [
              "T3     27037\n",
              "T4      1542\n",
              "T6      1216\n",
              "T5      1173\n",
              "T19     1065\n",
              "T8       737\n",
              "T7       725\n",
              "T10      528\n",
              "T9       156\n",
              "T13       66\n",
              "T12       27\n",
              "T2        16\n",
              "T25        3\n",
              "T14        3\n",
              "T29        2\n",
              "T15        2\n",
              "T17        1\n",
              "Name: APPLICATION_TYPE, dtype: Int64"
            ]
          },
          "metadata": {},
          "execution_count": 8
        }
      ]
    },
    {
      "cell_type": "code",
      "source": [
        "application_df.groupby(['IS_SUCCESSFUL','APPLICATION_TYPE'])['IS_SUCCESSFUL'].agg('count')"
      ],
      "metadata": {
        "colab": {
          "base_uri": "https://localhost:8080/"
        },
        "id": "0uky7D5rtG5A",
        "outputId": "efd4b999-f421-48a0-9bbb-4801951b9768"
      },
      "execution_count": 9,
      "outputs": [
        {
          "output_type": "execute_result",
          "data": {
            "text/plain": [
              "IS_SUCCESSFUL  APPLICATION_TYPE\n",
              "0              T10                    64\n",
              "               T12                     3\n",
              "               T13                     5\n",
              "               T19                   864\n",
              "               T2                      7\n",
              "               T25                     1\n",
              "               T3                  12649\n",
              "               T4                   1071\n",
              "               T5                    273\n",
              "               T6                    316\n",
              "               T7                    315\n",
              "               T8                    426\n",
              "               T9                     44\n",
              "1              T10                   464\n",
              "               T12                    24\n",
              "               T13                    61\n",
              "               T14                     3\n",
              "               T15                     2\n",
              "               T17                     1\n",
              "               T19                   201\n",
              "               T2                      9\n",
              "               T25                     2\n",
              "               T29                     2\n",
              "               T3                  14388\n",
              "               T4                    471\n",
              "               T5                    900\n",
              "               T6                    900\n",
              "               T7                    410\n",
              "               T8                    311\n",
              "               T9                    112\n",
              "Name: IS_SUCCESSFUL, dtype: int64"
            ]
          },
          "metadata": {},
          "execution_count": 9
        }
      ]
    },
    {
      "cell_type": "markdown",
      "source": [
        "* AFFILIATION"
      ],
      "metadata": {
        "id": "kJaiI-DEwPXO"
      }
    },
    {
      "cell_type": "code",
      "source": [
        "afl_counts = application_df['AFFILIATION'].value_counts()\n",
        "afl_counts"
      ],
      "metadata": {
        "colab": {
          "base_uri": "https://localhost:8080/"
        },
        "id": "i1UYdUdZweed",
        "outputId": "397ce89d-e6f6-48ab-d977-f5c5482e71d5"
      },
      "execution_count": 10,
      "outputs": [
        {
          "output_type": "execute_result",
          "data": {
            "text/plain": [
              "Independent         18480\n",
              "CompanySponsored    15705\n",
              "Family/Parent          64\n",
              "National               33\n",
              "Regional               13\n",
              "Other                   4\n",
              "Name: AFFILIATION, dtype: Int64"
            ]
          },
          "metadata": {},
          "execution_count": 10
        }
      ]
    },
    {
      "cell_type": "code",
      "source": [
        "application_df.groupby(['IS_SUCCESSFUL','AFFILIATION'])['IS_SUCCESSFUL'].agg('count')"
      ],
      "metadata": {
        "colab": {
          "base_uri": "https://localhost:8080/"
        },
        "id": "8y7lhbRpmX5E",
        "outputId": "f7d4578e-7008-4c9c-b2a8-d680d5fa8d2f"
      },
      "execution_count": 11,
      "outputs": [
        {
          "output_type": "execute_result",
          "data": {
            "text/plain": [
              "IS_SUCCESSFUL  AFFILIATION     \n",
              "0              CompanySponsored    10493\n",
              "               Family/Parent          28\n",
              "               Independent          5499\n",
              "               National               13\n",
              "               Regional                5\n",
              "1              CompanySponsored     5212\n",
              "               Family/Parent          36\n",
              "               Independent         12981\n",
              "               National               20\n",
              "               Other                   4\n",
              "               Regional                8\n",
              "Name: IS_SUCCESSFUL, dtype: int64"
            ]
          },
          "metadata": {},
          "execution_count": 11
        }
      ]
    },
    {
      "cell_type": "markdown",
      "source": [
        "* CLASSIFICATION"
      ],
      "metadata": {
        "id": "Q9WmAI33wlFc"
      }
    },
    {
      "cell_type": "code",
      "source": [
        "cls_counts = application_df['CLASSIFICATION'].value_counts()\n",
        "cls_counts"
      ],
      "metadata": {
        "colab": {
          "base_uri": "https://localhost:8080/"
        },
        "id": "aqMoTOWtwuH-",
        "outputId": "c67358bf-d0d9-453e-b4cb-8c97557d53aa"
      },
      "execution_count": 12,
      "outputs": [
        {
          "output_type": "execute_result",
          "data": {
            "text/plain": [
              "C1000    17326\n",
              "C2000     6074\n",
              "C1200     4837\n",
              "C3000     1918\n",
              "C2100     1883\n",
              "         ...  \n",
              "C5200        1\n",
              "C2600        1\n",
              "C4200        1\n",
              "C2190        1\n",
              "C2150        1\n",
              "Name: CLASSIFICATION, Length: 71, dtype: Int64"
            ]
          },
          "metadata": {},
          "execution_count": 12
        }
      ]
    },
    {
      "cell_type": "code",
      "source": [
        "application_df.groupby(['IS_SUCCESSFUL','CLASSIFICATION'])['IS_SUCCESSFUL'].agg('count')"
      ],
      "metadata": {
        "colab": {
          "base_uri": "https://localhost:8080/"
        },
        "id": "C2d4eFwVnQ2U",
        "outputId": "630fe040-8a6e-4579-cc86-f7065eaeffb8"
      },
      "execution_count": 13,
      "outputs": [
        {
          "output_type": "execute_result",
          "data": {
            "text/plain": [
              "IS_SUCCESSFUL  CLASSIFICATION\n",
              "0              C0                   1\n",
              "               C1000             7566\n",
              "               C1200             2599\n",
              "               C1230                6\n",
              "               C1236                1\n",
              "                                 ... \n",
              "1              C7200               28\n",
              "               C7210                7\n",
              "               C8000               14\n",
              "               C8200                1\n",
              "               C8210                1\n",
              "Name: IS_SUCCESSFUL, Length: 108, dtype: int64"
            ]
          },
          "metadata": {},
          "execution_count": 13
        }
      ]
    },
    {
      "cell_type": "markdown",
      "source": [
        "* USE_CASE"
      ],
      "metadata": {
        "id": "OscEgEzvw0M_"
      }
    },
    {
      "cell_type": "code",
      "source": [
        "use_counts = application_df['USE_CASE'].value_counts()\n",
        "use_counts"
      ],
      "metadata": {
        "colab": {
          "base_uri": "https://localhost:8080/"
        },
        "id": "5WLtFpO2w4F5",
        "outputId": "0c0d43b1-b221-4357-93b1-510bb02cf1ac"
      },
      "execution_count": 14,
      "outputs": [
        {
          "output_type": "execute_result",
          "data": {
            "text/plain": [
              "Preservation     28095\n",
              "ProductDev        5671\n",
              "CommunityServ      384\n",
              "Heathcare          146\n",
              "Other                3\n",
              "Name: USE_CASE, dtype: Int64"
            ]
          },
          "metadata": {},
          "execution_count": 14
        }
      ]
    },
    {
      "cell_type": "code",
      "source": [
        "application_df.groupby(['IS_SUCCESSFUL','USE_CASE'])['IS_SUCCESSFUL'].agg('count')"
      ],
      "metadata": {
        "colab": {
          "base_uri": "https://localhost:8080/"
        },
        "id": "JNBOpMTMnRAD",
        "outputId": "0f57b95b-af37-4b72-f4d5-04e21ebf1b51"
      },
      "execution_count": 15,
      "outputs": [
        {
          "output_type": "execute_result",
          "data": {
            "text/plain": [
              "IS_SUCCESSFUL  USE_CASE     \n",
              "0              CommunityServ      250\n",
              "               Heathcare           83\n",
              "               Preservation     12978\n",
              "               ProductDev        2727\n",
              "1              CommunityServ      134\n",
              "               Heathcare           63\n",
              "               Other                3\n",
              "               Preservation     15117\n",
              "               ProductDev        2944\n",
              "Name: IS_SUCCESSFUL, dtype: int64"
            ]
          },
          "metadata": {},
          "execution_count": 15
        }
      ]
    },
    {
      "cell_type": "markdown",
      "source": [
        "* ORGANIZATION"
      ],
      "metadata": {
        "id": "tqcDME6fxAG7"
      }
    },
    {
      "cell_type": "code",
      "source": [
        "org_counts = application_df['ORGANIZATION'].value_counts()\n",
        "org_counts"
      ],
      "metadata": {
        "colab": {
          "base_uri": "https://localhost:8080/"
        },
        "id": "vUx8jBm4vriL",
        "outputId": "9166ca78-fa2f-4d84-fbf6-c5b8e36ff8ab"
      },
      "execution_count": 16,
      "outputs": [
        {
          "output_type": "execute_result",
          "data": {
            "text/plain": [
              "Trust           23515\n",
              "Association     10255\n",
              "Co-operative      486\n",
              "Corporation        43\n",
              "Name: ORGANIZATION, dtype: Int64"
            ]
          },
          "metadata": {},
          "execution_count": 16
        }
      ]
    },
    {
      "cell_type": "code",
      "source": [
        "application_df.groupby(['IS_SUCCESSFUL','ORGANIZATION'])['IS_SUCCESSFUL'].agg('count')"
      ],
      "metadata": {
        "colab": {
          "base_uri": "https://localhost:8080/"
        },
        "id": "PgTjJXAtnRL-",
        "outputId": "ad958fb8-aa59-45a1-b248-6eaf71a6b3e4"
      },
      "execution_count": 17,
      "outputs": [
        {
          "output_type": "execute_result",
          "data": {
            "text/plain": [
              "IS_SUCCESSFUL  ORGANIZATION\n",
              "0              Association      6202\n",
              "               Co-operative      119\n",
              "               Corporation        10\n",
              "               Trust            9707\n",
              "1              Association      4053\n",
              "               Co-operative      367\n",
              "               Corporation        33\n",
              "               Trust           13808\n",
              "Name: IS_SUCCESSFUL, dtype: int64"
            ]
          },
          "metadata": {},
          "execution_count": 17
        }
      ]
    },
    {
      "cell_type": "markdown",
      "source": [
        "* STATUS"
      ],
      "metadata": {
        "id": "DNnqme7FyTxN"
      }
    },
    {
      "cell_type": "code",
      "source": [
        "sts_counts = application_df['STATUS'].value_counts()\n",
        "sts_counts"
      ],
      "metadata": {
        "colab": {
          "base_uri": "https://localhost:8080/"
        },
        "id": "HGizG0TznliI",
        "outputId": "ee8b8d77-b5c6-43c6-febd-7cfc8b7712f3"
      },
      "execution_count": 18,
      "outputs": [
        {
          "output_type": "execute_result",
          "data": {
            "text/plain": [
              "1    34294\n",
              "0        5\n",
              "Name: STATUS, dtype: int64"
            ]
          },
          "metadata": {},
          "execution_count": 18
        }
      ]
    },
    {
      "cell_type": "code",
      "source": [
        "application_df.groupby(['IS_SUCCESSFUL','STATUS'])['IS_SUCCESSFUL'].agg('count')"
      ],
      "metadata": {
        "colab": {
          "base_uri": "https://localhost:8080/"
        },
        "id": "l4blWy1ZySaN",
        "outputId": "4aba65f3-d47e-41ed-c8fe-9ae13bcae255"
      },
      "execution_count": 19,
      "outputs": [
        {
          "output_type": "execute_result",
          "data": {
            "text/plain": [
              "IS_SUCCESSFUL  STATUS\n",
              "0              0             2\n",
              "               1         16036\n",
              "1              0             3\n",
              "               1         18258\n",
              "Name: IS_SUCCESSFUL, dtype: int64"
            ]
          },
          "metadata": {},
          "execution_count": 19
        }
      ]
    },
    {
      "cell_type": "markdown",
      "source": [
        "* INCOME_AMT"
      ],
      "metadata": {
        "id": "cCy9qe8VxOBq"
      }
    },
    {
      "cell_type": "code",
      "source": [
        "inc_counts = application_df['INCOME_AMT'].value_counts()\n",
        "inc_counts"
      ],
      "metadata": {
        "colab": {
          "base_uri": "https://localhost:8080/"
        },
        "id": "UCQkA9xAnb_i",
        "outputId": "99d9f17b-678b-4952-f49e-3a7d86be383c"
      },
      "execution_count": 20,
      "outputs": [
        {
          "output_type": "execute_result",
          "data": {
            "text/plain": [
              "0                24388\n",
              "25000-99999       3747\n",
              "100000-499999     3374\n",
              "1M-5M              955\n",
              "1-9999             728\n",
              "10000-24999        543\n",
              "10M-50M            240\n",
              "5M-10M             185\n",
              "50M+               139\n",
              "Name: INCOME_AMT, dtype: Int64"
            ]
          },
          "metadata": {},
          "execution_count": 20
        }
      ]
    },
    {
      "cell_type": "code",
      "source": [
        "application_df.groupby(['IS_SUCCESSFUL','INCOME_AMT'])['IS_SUCCESSFUL'].agg('count')"
      ],
      "metadata": {
        "colab": {
          "base_uri": "https://localhost:8080/"
        },
        "id": "hGS33IYaxS8q",
        "outputId": "8cbb1f61-00aa-47f2-9039-85bda9e17c82"
      },
      "execution_count": 21,
      "outputs": [
        {
          "output_type": "execute_result",
          "data": {
            "text/plain": [
              "IS_SUCCESSFUL  INCOME_AMT   \n",
              "0              0                11811\n",
              "               1-9999             175\n",
              "               10000-24999        175\n",
              "               100000-499999     1422\n",
              "               10M-50M            143\n",
              "               1M-5M              510\n",
              "               25000-99999       1612\n",
              "               50M+                92\n",
              "               5M-10M              98\n",
              "1              0                12577\n",
              "               1-9999             553\n",
              "               10000-24999        368\n",
              "               100000-499999     1952\n",
              "               10M-50M             97\n",
              "               1M-5M              445\n",
              "               25000-99999       2135\n",
              "               50M+                47\n",
              "               5M-10M              87\n",
              "Name: IS_SUCCESSFUL, dtype: int64"
            ]
          },
          "metadata": {},
          "execution_count": 21
        }
      ]
    },
    {
      "cell_type": "markdown",
      "source": [
        "* SPECIAL_CONSIDERATIONS"
      ],
      "metadata": {
        "id": "JuoBJkP0ykFz"
      }
    },
    {
      "cell_type": "code",
      "source": [
        "spc_counts = application_df['SPECIAL_CONSIDERATIONS'].value_counts()\n",
        "spc_counts"
      ],
      "metadata": {
        "colab": {
          "base_uri": "https://localhost:8080/"
        },
        "id": "JVjJyrEP47mq",
        "outputId": "7ad5d714-18db-439f-abda-d69f69151ad3"
      },
      "execution_count": 22,
      "outputs": [
        {
          "output_type": "execute_result",
          "data": {
            "text/plain": [
              "N    34272\n",
              "Y       27\n",
              "Name: SPECIAL_CONSIDERATIONS, dtype: Int64"
            ]
          },
          "metadata": {},
          "execution_count": 22
        }
      ]
    },
    {
      "cell_type": "code",
      "source": [
        "application_df.groupby(['IS_SUCCESSFUL','SPECIAL_CONSIDERATIONS'])['IS_SUCCESSFUL'].agg('count')"
      ],
      "metadata": {
        "colab": {
          "base_uri": "https://localhost:8080/"
        },
        "id": "IEDlJvbJykVL",
        "outputId": "7bf5e548-085a-468d-f1fa-b86fc9cfd763"
      },
      "execution_count": 23,
      "outputs": [
        {
          "output_type": "execute_result",
          "data": {
            "text/plain": [
              "IS_SUCCESSFUL  SPECIAL_CONSIDERATIONS\n",
              "0              N                         16028\n",
              "               Y                            10\n",
              "1              N                         18244\n",
              "               Y                            17\n",
              "Name: IS_SUCCESSFUL, dtype: int64"
            ]
          },
          "metadata": {},
          "execution_count": 23
        }
      ]
    },
    {
      "cell_type": "markdown",
      "source": [
        "* ASK_AMT"
      ],
      "metadata": {
        "id": "HCID8ftoxZce"
      }
    },
    {
      "cell_type": "code",
      "source": [
        "ask_counts = application_df['ASK_AMT'].value_counts()\n",
        "ask_counts"
      ],
      "metadata": {
        "colab": {
          "base_uri": "https://localhost:8080/"
        },
        "id": "R8wnWkNZnle7",
        "outputId": "788c7bf8-a9c3-4bb5-8449-9ecddb1fba13"
      },
      "execution_count": 24,
      "outputs": [
        {
          "output_type": "execute_result",
          "data": {
            "text/plain": [
              "5000        25398\n",
              "10478           3\n",
              "15583           3\n",
              "63981           3\n",
              "6725            3\n",
              "            ...  \n",
              "5371754         1\n",
              "30060           1\n",
              "43091152        1\n",
              "18683           1\n",
              "36500179        1\n",
              "Name: ASK_AMT, Length: 8747, dtype: int64"
            ]
          },
          "metadata": {},
          "execution_count": 24
        }
      ]
    },
    {
      "cell_type": "code",
      "source": [
        "application_df.groupby(['IS_SUCCESSFUL','ASK_AMT'])['IS_SUCCESSFUL'].agg('count')"
      ],
      "metadata": {
        "colab": {
          "base_uri": "https://localhost:8080/"
        },
        "id": "s1BTxYoUxeLx",
        "outputId": "9ebbee00-d6b7-4e4d-d5c4-8432aacf0162"
      },
      "execution_count": 25,
      "outputs": [
        {
          "output_type": "execute_result",
          "data": {
            "text/plain": [
              "IS_SUCCESSFUL  ASK_AMT   \n",
              "0              5000          12095\n",
              "               5006              2\n",
              "               5040              1\n",
              "               5044              1\n",
              "               5050              1\n",
              "                             ...  \n",
              "1              1281905997        1\n",
              "               1736232349        1\n",
              "               2310256039        1\n",
              "               3391919220        1\n",
              "               8597806340        1\n",
              "Name: IS_SUCCESSFUL, Length: 8823, dtype: int64"
            ]
          },
          "metadata": {},
          "execution_count": 25
        }
      ]
    },
    {
      "cell_type": "markdown",
      "source": [
        "\n",
        "# Create bins for features with a low number of \"bucket\" counts\n",
        "\n",
        "---\n",
        "\n"
      ],
      "metadata": {
        "id": "4pwXimnyow3c"
      }
    },
    {
      "cell_type": "code",
      "source": [
        "# NAME - Revise default bins\n",
        "name_types_to_replace = nam_counts[nam_counts < 10].index.values\n",
        "    \n",
        "# # Replace in dataframe\n",
        "for nam in name_types_to_replace:\n",
        "    application_df['NAME'] = application_df['NAME'].replace(nam,\"Other\")\n",
        "\n",
        "# Check to make sure binning was successful\n",
        "application_df['NAME'].value_counts()"
      ],
      "metadata": {
        "colab": {
          "base_uri": "https://localhost:8080/"
        },
        "id": "edqEXHv8N6Y_",
        "outputId": "94db2749-9187-4e9a-a0cb-d249577baef9"
      },
      "execution_count": 50,
      "outputs": [
        {
          "output_type": "execute_result",
          "data": {
            "text/plain": [
              "Other                                                25987\n",
              "PARENT BOOSTER USA INC                                1260\n",
              "TOPS CLUB INC                                          765\n",
              "UNITED STATES BOWLING CONGRESS INC                     700\n",
              "WASHINGTON STATE UNIVERSITY                            492\n",
              "AMATEUR ATHLETIC UNION OF THE UNITED STATES INC        408\n",
              "PTA TEXAS CONGRESS                                     368\n",
              "SOROPTIMIST INTERNATIONAL OF THE AMERICAS INC          331\n",
              "ALPHA PHI SIGMA                                        313\n",
              "TOASTMASTERS INTERNATIONAL                             293\n",
              "MOST WORSHIPFUL STRINGER FREE AND ACCEPTED MASONS      287\n",
              "LITTLE LEAGUE BASEBALL INC                             277\n",
              "INTERNATIONAL ASSOCIATION OF LIONS CLUBS               266\n",
              "MOMS CLUB                                              210\n",
              "INTERNATIONAL ASSOCIATION OF SHEET METAL AIR R...      206\n",
              "AMERICAN ASSOCIATION OF UNIVERSITY WOMEN               197\n",
              "FARMERS EDUCATIONAL AND COOPERATIVE UNION OF A...      166\n",
              "KNIGHTS OF COLUMBUS                                    158\n",
              "HABITAT FOR HUMANITY INTERNATIONAL INC                 154\n",
              "TENNESSEE ORDER OF THE EASTERN STAR                    151\n",
              "VETERANS OF FOREIGN WARS OF THE UNITED STATES ...      144\n",
              "PTA UTAH CONGRESS                                      140\n",
              "THE UNITED STATES PONY CLUBS INC                       136\n",
              "CIVITAN INTERNATIONAL                                  131\n",
              "SIGMA BETA DELTA INC                                   127\n",
              "HONOR SOCIETY OF PHI KAPPA PHI                         107\n",
              "MONTANA 4-H FOUNDATION INC                             107\n",
              "WASHINGTON STATE GRANGE                                106\n",
              "UNIVERSITY OF WYOMING                                  105\n",
              "DEMOLAY INTERNATIONAL                                  104\n",
              "SERTOMA INC                                            103\n",
              "Name: NAME, dtype: Int64"
            ]
          },
          "metadata": {},
          "execution_count": 50
        }
      ]
    },
    {
      "cell_type": "code",
      "execution_count": 48,
      "metadata": {
        "id": "EZe6qfotaPzt",
        "outputId": "36ef802a-8516-4c7e-ab4f-657c0e5f5d60",
        "colab": {
          "base_uri": "https://localhost:8080/"
        }
      },
      "outputs": [
        {
          "output_type": "execute_result",
          "data": {
            "text/plain": [
              "T3       27037\n",
              "T4        1542\n",
              "T6        1216\n",
              "T5        1173\n",
              "T19       1065\n",
              "T8         737\n",
              "T7         725\n",
              "T10        528\n",
              "Other      276\n",
              "Name: APPLICATION_TYPE, dtype: Int64"
            ]
          },
          "metadata": {},
          "execution_count": 48
        }
      ],
      "source": [
        "# APPLICATION_TYPE - Revise default bins\n",
        "application_types_to_replace = app_counts[app_counts < 500].index.values\n",
        "    \n",
        "# # Replace in dataframe\n",
        "for app in application_types_to_replace:\n",
        "    application_df['APPLICATION_TYPE'] = application_df['APPLICATION_TYPE'].replace(app,\"Other\")\n",
        "\n",
        "# Check to make sure binning was successful\n",
        "application_df['APPLICATION_TYPE'].value_counts()"
      ]
    },
    {
      "cell_type": "code",
      "source": [
        "# # AFFILIATION - Revise default bins\n",
        "# affiliations_to_replace = afl_counts[afl_counts < 15000].index.values\n",
        "\n",
        "# # Replace in dataframe\n",
        "# for afl in affiliations_to_replace:\n",
        "#     application_df['AFFILIATION'] = application_df['AFFILIATION'].replace(afl,\"Other\")\n",
        "    \n",
        "# # Check to make sure binning was successful\n",
        "# application_df['AFFILIATION'].value_counts()"
      ],
      "metadata": {
        "id": "L1X1pj99sxl1"
      },
      "execution_count": 28,
      "outputs": []
    },
    {
      "cell_type": "code",
      "execution_count": 29,
      "metadata": {
        "id": "gu-SfyiXaPzt",
        "outputId": "952911c1-3a7c-4efc-9f66-34d5908f3774",
        "colab": {
          "base_uri": "https://localhost:8080/"
        }
      },
      "outputs": [
        {
          "output_type": "execute_result",
          "data": {
            "text/plain": [
              "C1000    17326\n",
              "C2000     6074\n",
              "C1200     4837\n",
              "C3000     1918\n",
              "C2100     1883\n",
              "C7000      777\n",
              "Other      669\n",
              "C1700      287\n",
              "C4000      194\n",
              "C5000      116\n",
              "C1270      114\n",
              "C2700      104\n",
              "Name: CLASSIFICATION, dtype: Int64"
            ]
          },
          "metadata": {},
          "execution_count": 29
        }
      ],
      "source": [
        "# CLASSIFICATION - Revise default bins\n",
        "classification_to_replace = cls_counts[cls_counts < 100].index.values\n",
        "\n",
        "# Replace in dataframe\n",
        "for cls in classification_to_replace:\n",
        "    application_df['CLASSIFICATION'] = application_df['CLASSIFICATION'].replace(cls,\"Other\")\n",
        "    \n",
        "# Check to make sure binning was successful\n",
        "application_df['CLASSIFICATION'].value_counts()"
      ]
    },
    {
      "cell_type": "code",
      "source": [
        "# # USE_CASE - Revise default bins\n",
        "# use_case_to_replace = use_counts[use_counts < 20000].index.values\n",
        "\n",
        "# # Replace in dataframe\n",
        "# for use in use_case_to_replace:\n",
        "#     application_df['USE_CASE'] = application_df['USE_CASE'].replace(use,\"Other\")\n",
        "    \n",
        "# # Check to make sure binning was successful\n",
        "# application_df['USE_CASE'].value_counts()"
      ],
      "metadata": {
        "colab": {
          "base_uri": "https://localhost:8080/"
        },
        "id": "gvuZIcLP6NPQ",
        "outputId": "0a9ae44c-4957-4af5-e361-d0800921bd8d"
      },
      "execution_count": 30,
      "outputs": [
        {
          "output_type": "execute_result",
          "data": {
            "text/plain": [
              "Preservation    28095\n",
              "ProductDev       5671\n",
              "Other             533\n",
              "Name: USE_CASE, dtype: Int64"
            ]
          },
          "metadata": {},
          "execution_count": 30
        }
      ]
    },
    {
      "cell_type": "code",
      "source": [
        "# ASK_AMT - Revise default bins\n",
        "application_df['ask_amt_bin'] = pd.qcut(application_df['ASK_AMT'], duplicates='drop', q=10)\n",
        "application_df.groupby(['IS_SUCCESSFUL','ask_amt_bin'])['IS_SUCCESSFUL'].agg('count')"
      ],
      "metadata": {
        "colab": {
          "base_uri": "https://localhost:8080/"
        },
        "id": "ET1L4zQH7ma5",
        "outputId": "369fa46f-4e3e-4051-eef7-9c75c66d5084"
      },
      "execution_count": 31,
      "outputs": [
        {
          "output_type": "execute_result",
          "data": {
            "text/plain": [
              "IS_SUCCESSFUL  ask_amt_bin             \n",
              "0              (4999.999, 30898.8]         12899\n",
              "               (30898.8, 196546.2]          1462\n",
              "               (196546.2, 8597806340.0]     1677\n",
              "1              (4999.999, 30898.8]         14540\n",
              "               (30898.8, 196546.2]          1968\n",
              "               (196546.2, 8597806340.0]     1753\n",
              "Name: IS_SUCCESSFUL, dtype: int64"
            ]
          },
          "metadata": {},
          "execution_count": 31
        }
      ]
    },
    {
      "cell_type": "code",
      "source": [
        "application_df['ask_amt_bin'].value_counts()"
      ],
      "metadata": {
        "colab": {
          "base_uri": "https://localhost:8080/"
        },
        "id": "v6BaBB278zre",
        "outputId": "113f2fc2-dd9d-40f4-a4c6-756ee913f3f1"
      },
      "execution_count": 32,
      "outputs": [
        {
          "output_type": "execute_result",
          "data": {
            "text/plain": [
              "(4999.999, 30898.8]         27439\n",
              "(30898.8, 196546.2]          3430\n",
              "(196546.2, 8597806340.0]     3430\n",
              "Name: ask_amt_bin, dtype: int64"
            ]
          },
          "metadata": {},
          "execution_count": 32
        }
      ]
    },
    {
      "cell_type": "markdown",
      "source": [
        "# Drop unproductive columns, convert categorical variables into zeroes/ones, confirm df"
      ],
      "metadata": {
        "id": "qX9yD1DJx6ue"
      }
    },
    {
      "cell_type": "code",
      "source": [
        "application_df = application_df.drop(['STATUS', 'SPECIAL_CONSIDERATIONS', 'ASK_AMT', 'AFFILIATION', 'USE_CASE'], axis=1)\n",
        "df.info()"
      ],
      "metadata": {
        "colab": {
          "base_uri": "https://localhost:8080/"
        },
        "id": "ik8jH28Ax7th",
        "outputId": "219cfa48-216e-44e4-c474-b44817973cd0"
      },
      "execution_count": 33,
      "outputs": [
        {
          "output_type": "stream",
          "name": "stdout",
          "text": [
            "<class 'dask.dataframe.core.DataFrame'>\n",
            "Columns: 11 entries, NAME to IS_SUCCESSFUL\n",
            "dtypes: int64(3), string(8)"
          ]
        }
      ]
    },
    {
      "cell_type": "code",
      "source": [
        "application_df"
      ],
      "metadata": {
        "id": "r_5EC-Vec7ab",
        "outputId": "dce353f6-991f-4910-d1a3-92ebe58437a4",
        "colab": {
          "base_uri": "https://localhost:8080/",
          "height": 696
        }
      },
      "execution_count": 34,
      "outputs": [
        {
          "output_type": "execute_result",
          "data": {
            "text/plain": [
              "                                           NAME APPLICATION_TYPE  \\\n",
              "0                                         Other              T10   \n",
              "1                                         Other               T3   \n",
              "2                                         Other               T5   \n",
              "3                                         Other               T3   \n",
              "4                                         Other               T3   \n",
              "...                                         ...              ...   \n",
              "34294                                     Other               T4   \n",
              "34295  INTERNATIONAL ASSOCIATION OF LIONS CLUBS               T4   \n",
              "34296                                     Other               T3   \n",
              "34297                                     Other               T5   \n",
              "34298                                     Other               T3   \n",
              "\n",
              "      CLASSIFICATION      USE_CASE  ORGANIZATION     INCOME_AMT  \\\n",
              "0              C1000    ProductDev   Association              0   \n",
              "1              C2000  Preservation  Co-operative         1-9999   \n",
              "2              C3000    ProductDev   Association              0   \n",
              "3              C2000  Preservation         Trust    10000-24999   \n",
              "4              C1000         Other         Trust  100000-499999   \n",
              "...              ...           ...           ...            ...   \n",
              "34294          C1000    ProductDev   Association              0   \n",
              "34295          C3000    ProductDev   Association              0   \n",
              "34296          C2000  Preservation   Association              0   \n",
              "34297          C3000    ProductDev   Association              0   \n",
              "34298          C1000  Preservation  Co-operative          1M-5M   \n",
              "\n",
              "       IS_SUCCESSFUL               ask_amt_bin  \n",
              "0                  1       (4999.999, 30898.8]  \n",
              "1                  1       (30898.8, 196546.2]  \n",
              "2                  0       (4999.999, 30898.8]  \n",
              "3                  1       (4999.999, 30898.8]  \n",
              "4                  1       (30898.8, 196546.2]  \n",
              "...              ...                       ...  \n",
              "34294              0       (4999.999, 30898.8]  \n",
              "34295              0       (4999.999, 30898.8]  \n",
              "34296              0       (4999.999, 30898.8]  \n",
              "34297              1       (4999.999, 30898.8]  \n",
              "34298              0  (196546.2, 8597806340.0]  \n",
              "\n",
              "[34299 rows x 8 columns]"
            ],
            "text/html": [
              "\n",
              "  <div id=\"df-b61fb7ff-621b-41e5-ba59-a5cb788f302a\">\n",
              "    <div class=\"colab-df-container\">\n",
              "      <div>\n",
              "<style scoped>\n",
              "    .dataframe tbody tr th:only-of-type {\n",
              "        vertical-align: middle;\n",
              "    }\n",
              "\n",
              "    .dataframe tbody tr th {\n",
              "        vertical-align: top;\n",
              "    }\n",
              "\n",
              "    .dataframe thead th {\n",
              "        text-align: right;\n",
              "    }\n",
              "</style>\n",
              "<table border=\"1\" class=\"dataframe\">\n",
              "  <thead>\n",
              "    <tr style=\"text-align: right;\">\n",
              "      <th></th>\n",
              "      <th>NAME</th>\n",
              "      <th>APPLICATION_TYPE</th>\n",
              "      <th>CLASSIFICATION</th>\n",
              "      <th>USE_CASE</th>\n",
              "      <th>ORGANIZATION</th>\n",
              "      <th>INCOME_AMT</th>\n",
              "      <th>IS_SUCCESSFUL</th>\n",
              "      <th>ask_amt_bin</th>\n",
              "    </tr>\n",
              "  </thead>\n",
              "  <tbody>\n",
              "    <tr>\n",
              "      <th>0</th>\n",
              "      <td>Other</td>\n",
              "      <td>T10</td>\n",
              "      <td>C1000</td>\n",
              "      <td>ProductDev</td>\n",
              "      <td>Association</td>\n",
              "      <td>0</td>\n",
              "      <td>1</td>\n",
              "      <td>(4999.999, 30898.8]</td>\n",
              "    </tr>\n",
              "    <tr>\n",
              "      <th>1</th>\n",
              "      <td>Other</td>\n",
              "      <td>T3</td>\n",
              "      <td>C2000</td>\n",
              "      <td>Preservation</td>\n",
              "      <td>Co-operative</td>\n",
              "      <td>1-9999</td>\n",
              "      <td>1</td>\n",
              "      <td>(30898.8, 196546.2]</td>\n",
              "    </tr>\n",
              "    <tr>\n",
              "      <th>2</th>\n",
              "      <td>Other</td>\n",
              "      <td>T5</td>\n",
              "      <td>C3000</td>\n",
              "      <td>ProductDev</td>\n",
              "      <td>Association</td>\n",
              "      <td>0</td>\n",
              "      <td>0</td>\n",
              "      <td>(4999.999, 30898.8]</td>\n",
              "    </tr>\n",
              "    <tr>\n",
              "      <th>3</th>\n",
              "      <td>Other</td>\n",
              "      <td>T3</td>\n",
              "      <td>C2000</td>\n",
              "      <td>Preservation</td>\n",
              "      <td>Trust</td>\n",
              "      <td>10000-24999</td>\n",
              "      <td>1</td>\n",
              "      <td>(4999.999, 30898.8]</td>\n",
              "    </tr>\n",
              "    <tr>\n",
              "      <th>4</th>\n",
              "      <td>Other</td>\n",
              "      <td>T3</td>\n",
              "      <td>C1000</td>\n",
              "      <td>Other</td>\n",
              "      <td>Trust</td>\n",
              "      <td>100000-499999</td>\n",
              "      <td>1</td>\n",
              "      <td>(30898.8, 196546.2]</td>\n",
              "    </tr>\n",
              "    <tr>\n",
              "      <th>...</th>\n",
              "      <td>...</td>\n",
              "      <td>...</td>\n",
              "      <td>...</td>\n",
              "      <td>...</td>\n",
              "      <td>...</td>\n",
              "      <td>...</td>\n",
              "      <td>...</td>\n",
              "      <td>...</td>\n",
              "    </tr>\n",
              "    <tr>\n",
              "      <th>34294</th>\n",
              "      <td>Other</td>\n",
              "      <td>T4</td>\n",
              "      <td>C1000</td>\n",
              "      <td>ProductDev</td>\n",
              "      <td>Association</td>\n",
              "      <td>0</td>\n",
              "      <td>0</td>\n",
              "      <td>(4999.999, 30898.8]</td>\n",
              "    </tr>\n",
              "    <tr>\n",
              "      <th>34295</th>\n",
              "      <td>INTERNATIONAL ASSOCIATION OF LIONS CLUBS</td>\n",
              "      <td>T4</td>\n",
              "      <td>C3000</td>\n",
              "      <td>ProductDev</td>\n",
              "      <td>Association</td>\n",
              "      <td>0</td>\n",
              "      <td>0</td>\n",
              "      <td>(4999.999, 30898.8]</td>\n",
              "    </tr>\n",
              "    <tr>\n",
              "      <th>34296</th>\n",
              "      <td>Other</td>\n",
              "      <td>T3</td>\n",
              "      <td>C2000</td>\n",
              "      <td>Preservation</td>\n",
              "      <td>Association</td>\n",
              "      <td>0</td>\n",
              "      <td>0</td>\n",
              "      <td>(4999.999, 30898.8]</td>\n",
              "    </tr>\n",
              "    <tr>\n",
              "      <th>34297</th>\n",
              "      <td>Other</td>\n",
              "      <td>T5</td>\n",
              "      <td>C3000</td>\n",
              "      <td>ProductDev</td>\n",
              "      <td>Association</td>\n",
              "      <td>0</td>\n",
              "      <td>1</td>\n",
              "      <td>(4999.999, 30898.8]</td>\n",
              "    </tr>\n",
              "    <tr>\n",
              "      <th>34298</th>\n",
              "      <td>Other</td>\n",
              "      <td>T3</td>\n",
              "      <td>C1000</td>\n",
              "      <td>Preservation</td>\n",
              "      <td>Co-operative</td>\n",
              "      <td>1M-5M</td>\n",
              "      <td>0</td>\n",
              "      <td>(196546.2, 8597806340.0]</td>\n",
              "    </tr>\n",
              "  </tbody>\n",
              "</table>\n",
              "<p>34299 rows × 8 columns</p>\n",
              "</div>\n",
              "      <button class=\"colab-df-convert\" onclick=\"convertToInteractive('df-b61fb7ff-621b-41e5-ba59-a5cb788f302a')\"\n",
              "              title=\"Convert this dataframe to an interactive table.\"\n",
              "              style=\"display:none;\">\n",
              "        \n",
              "  <svg xmlns=\"http://www.w3.org/2000/svg\" height=\"24px\"viewBox=\"0 0 24 24\"\n",
              "       width=\"24px\">\n",
              "    <path d=\"M0 0h24v24H0V0z\" fill=\"none\"/>\n",
              "    <path d=\"M18.56 5.44l.94 2.06.94-2.06 2.06-.94-2.06-.94-.94-2.06-.94 2.06-2.06.94zm-11 1L8.5 8.5l.94-2.06 2.06-.94-2.06-.94L8.5 2.5l-.94 2.06-2.06.94zm10 10l.94 2.06.94-2.06 2.06-.94-2.06-.94-.94-2.06-.94 2.06-2.06.94z\"/><path d=\"M17.41 7.96l-1.37-1.37c-.4-.4-.92-.59-1.43-.59-.52 0-1.04.2-1.43.59L10.3 9.45l-7.72 7.72c-.78.78-.78 2.05 0 2.83L4 21.41c.39.39.9.59 1.41.59.51 0 1.02-.2 1.41-.59l7.78-7.78 2.81-2.81c.8-.78.8-2.07 0-2.86zM5.41 20L4 18.59l7.72-7.72 1.47 1.35L5.41 20z\"/>\n",
              "  </svg>\n",
              "      </button>\n",
              "      \n",
              "  <style>\n",
              "    .colab-df-container {\n",
              "      display:flex;\n",
              "      flex-wrap:wrap;\n",
              "      gap: 12px;\n",
              "    }\n",
              "\n",
              "    .colab-df-convert {\n",
              "      background-color: #E8F0FE;\n",
              "      border: none;\n",
              "      border-radius: 50%;\n",
              "      cursor: pointer;\n",
              "      display: none;\n",
              "      fill: #1967D2;\n",
              "      height: 32px;\n",
              "      padding: 0 0 0 0;\n",
              "      width: 32px;\n",
              "    }\n",
              "\n",
              "    .colab-df-convert:hover {\n",
              "      background-color: #E2EBFA;\n",
              "      box-shadow: 0px 1px 2px rgba(60, 64, 67, 0.3), 0px 1px 3px 1px rgba(60, 64, 67, 0.15);\n",
              "      fill: #174EA6;\n",
              "    }\n",
              "\n",
              "    [theme=dark] .colab-df-convert {\n",
              "      background-color: #3B4455;\n",
              "      fill: #D2E3FC;\n",
              "    }\n",
              "\n",
              "    [theme=dark] .colab-df-convert:hover {\n",
              "      background-color: #434B5C;\n",
              "      box-shadow: 0px 1px 3px 1px rgba(0, 0, 0, 0.15);\n",
              "      filter: drop-shadow(0px 1px 2px rgba(0, 0, 0, 0.3));\n",
              "      fill: #FFFFFF;\n",
              "    }\n",
              "  </style>\n",
              "\n",
              "      <script>\n",
              "        const buttonEl =\n",
              "          document.querySelector('#df-b61fb7ff-621b-41e5-ba59-a5cb788f302a button.colab-df-convert');\n",
              "        buttonEl.style.display =\n",
              "          google.colab.kernel.accessAllowed ? 'block' : 'none';\n",
              "\n",
              "        async function convertToInteractive(key) {\n",
              "          const element = document.querySelector('#df-b61fb7ff-621b-41e5-ba59-a5cb788f302a');\n",
              "          const dataTable =\n",
              "            await google.colab.kernel.invokeFunction('convertToInteractive',\n",
              "                                                     [key], {});\n",
              "          if (!dataTable) return;\n",
              "\n",
              "          const docLinkHtml = 'Like what you see? Visit the ' +\n",
              "            '<a target=\"_blank\" href=https://colab.research.google.com/notebooks/data_table.ipynb>data table notebook</a>'\n",
              "            + ' to learn more about interactive tables.';\n",
              "          element.innerHTML = '';\n",
              "          dataTable['output_type'] = 'display_data';\n",
              "          await google.colab.output.renderOutput(dataTable, element);\n",
              "          const docLink = document.createElement('div');\n",
              "          docLink.innerHTML = docLinkHtml;\n",
              "          element.appendChild(docLink);\n",
              "        }\n",
              "      </script>\n",
              "    </div>\n",
              "  </div>\n",
              "  "
            ]
          },
          "metadata": {},
          "execution_count": 34
        }
      ]
    },
    {
      "cell_type": "code",
      "source": [
        "application_df.info()"
      ],
      "metadata": {
        "colab": {
          "base_uri": "https://localhost:8080/"
        },
        "id": "-r6vZkbNzrLs",
        "outputId": "c2a4f0e0-b3aa-4bc0-b2c8-759262a3722c"
      },
      "execution_count": 35,
      "outputs": [
        {
          "output_type": "stream",
          "name": "stdout",
          "text": [
            "<class 'pandas.core.frame.DataFrame'>\n",
            "RangeIndex: 34299 entries, 0 to 34298\n",
            "Data columns (total 8 columns):\n",
            " #   Column            Non-Null Count  Dtype   \n",
            "---  ------            --------------  -----   \n",
            " 0   NAME              34299 non-null  string  \n",
            " 1   APPLICATION_TYPE  34299 non-null  string  \n",
            " 2   CLASSIFICATION    34299 non-null  string  \n",
            " 3   USE_CASE          34299 non-null  string  \n",
            " 4   ORGANIZATION      34299 non-null  string  \n",
            " 5   INCOME_AMT        34299 non-null  string  \n",
            " 6   IS_SUCCESSFUL     34299 non-null  int64   \n",
            " 7   ask_amt_bin       34299 non-null  category\n",
            "dtypes: category(1), int64(1), string(6)\n",
            "memory usage: 1.9 MB\n"
          ]
        }
      ]
    },
    {
      "cell_type": "code",
      "execution_count": 36,
      "metadata": {
        "id": "jrinVNBJaPzu",
        "colab": {
          "base_uri": "https://localhost:8080/",
          "height": 574
        },
        "outputId": "413393ac-d84a-4145-f9af-673e2ac3ecfa"
      },
      "outputs": [
        {
          "output_type": "execute_result",
          "data": {
            "text/plain": [
              "       IS_SUCCESSFUL  NAME_ALPHA PHI SIGMA  \\\n",
              "0                  1                     0   \n",
              "1                  1                     0   \n",
              "2                  0                     0   \n",
              "3                  1                     0   \n",
              "4                  1                     0   \n",
              "...              ...                   ...   \n",
              "34294              0                     0   \n",
              "34295              0                     0   \n",
              "34296              0                     0   \n",
              "34297              1                     0   \n",
              "34298              0                     0   \n",
              "\n",
              "       NAME_AMATEUR ATHLETIC UNION OF THE UNITED STATES INC  \\\n",
              "0                                                      0      \n",
              "1                                                      0      \n",
              "2                                                      0      \n",
              "3                                                      0      \n",
              "4                                                      0      \n",
              "...                                                  ...      \n",
              "34294                                                  0      \n",
              "34295                                                  0      \n",
              "34296                                                  0      \n",
              "34297                                                  0      \n",
              "34298                                                  0      \n",
              "\n",
              "       NAME_AMERICAN ASSOCIATION OF UNIVERSITY WOMEN  \\\n",
              "0                                                  0   \n",
              "1                                                  0   \n",
              "2                                                  0   \n",
              "3                                                  0   \n",
              "4                                                  0   \n",
              "...                                              ...   \n",
              "34294                                              0   \n",
              "34295                                              0   \n",
              "34296                                              0   \n",
              "34297                                              0   \n",
              "34298                                              0   \n",
              "\n",
              "       NAME_CIVITAN INTERNATIONAL  NAME_DEMOLAY INTERNATIONAL  \\\n",
              "0                               0                           0   \n",
              "1                               0                           0   \n",
              "2                               0                           0   \n",
              "3                               0                           0   \n",
              "4                               0                           0   \n",
              "...                           ...                         ...   \n",
              "34294                           0                           0   \n",
              "34295                           0                           0   \n",
              "34296                           0                           0   \n",
              "34297                           0                           0   \n",
              "34298                           0                           0   \n",
              "\n",
              "       NAME_FARMERS EDUCATIONAL AND COOPERATIVE UNION OF AMERICA  \\\n",
              "0                                                      0           \n",
              "1                                                      0           \n",
              "2                                                      0           \n",
              "3                                                      0           \n",
              "4                                                      0           \n",
              "...                                                  ...           \n",
              "34294                                                  0           \n",
              "34295                                                  0           \n",
              "34296                                                  0           \n",
              "34297                                                  0           \n",
              "34298                                                  0           \n",
              "\n",
              "       NAME_HABITAT FOR HUMANITY INTERNATIONAL INC  \\\n",
              "0                                                0   \n",
              "1                                                0   \n",
              "2                                                0   \n",
              "3                                                0   \n",
              "4                                                0   \n",
              "...                                            ...   \n",
              "34294                                            0   \n",
              "34295                                            0   \n",
              "34296                                            0   \n",
              "34297                                            0   \n",
              "34298                                            0   \n",
              "\n",
              "       NAME_HONOR SOCIETY OF PHI KAPPA PHI  \\\n",
              "0                                        0   \n",
              "1                                        0   \n",
              "2                                        0   \n",
              "3                                        0   \n",
              "4                                        0   \n",
              "...                                    ...   \n",
              "34294                                    0   \n",
              "34295                                    0   \n",
              "34296                                    0   \n",
              "34297                                    0   \n",
              "34298                                    0   \n",
              "\n",
              "       NAME_INTERNATIONAL ASSOCIATION OF LIONS CLUBS  ...  \\\n",
              "0                                                  0  ...   \n",
              "1                                                  0  ...   \n",
              "2                                                  0  ...   \n",
              "3                                                  0  ...   \n",
              "4                                                  0  ...   \n",
              "...                                              ...  ...   \n",
              "34294                                              0  ...   \n",
              "34295                                              1  ...   \n",
              "34296                                              0  ...   \n",
              "34297                                              0  ...   \n",
              "34298                                              0  ...   \n",
              "\n",
              "       INCOME_AMT_10000-24999  INCOME_AMT_100000-499999  INCOME_AMT_10M-50M  \\\n",
              "0                           0                         0                   0   \n",
              "1                           0                         0                   0   \n",
              "2                           0                         0                   0   \n",
              "3                           1                         0                   0   \n",
              "4                           0                         1                   0   \n",
              "...                       ...                       ...                 ...   \n",
              "34294                       0                         0                   0   \n",
              "34295                       0                         0                   0   \n",
              "34296                       0                         0                   0   \n",
              "34297                       0                         0                   0   \n",
              "34298                       0                         0                   0   \n",
              "\n",
              "       INCOME_AMT_1M-5M  INCOME_AMT_25000-99999  INCOME_AMT_50M+  \\\n",
              "0                     0                       0                0   \n",
              "1                     0                       0                0   \n",
              "2                     0                       0                0   \n",
              "3                     0                       0                0   \n",
              "4                     0                       0                0   \n",
              "...                 ...                     ...              ...   \n",
              "34294                 0                       0                0   \n",
              "34295                 0                       0                0   \n",
              "34296                 0                       0                0   \n",
              "34297                 0                       0                0   \n",
              "34298                 1                       0                0   \n",
              "\n",
              "       INCOME_AMT_5M-10M  ask_amt_bin_(4999.999, 30898.8]  \\\n",
              "0                      0                                1   \n",
              "1                      0                                0   \n",
              "2                      0                                1   \n",
              "3                      0                                1   \n",
              "4                      0                                0   \n",
              "...                  ...                              ...   \n",
              "34294                  0                                1   \n",
              "34295                  0                                1   \n",
              "34296                  0                                1   \n",
              "34297                  0                                1   \n",
              "34298                  0                                0   \n",
              "\n",
              "       ask_amt_bin_(30898.8, 196546.2]  ask_amt_bin_(196546.2, 8597806340.0]  \n",
              "0                                    0                                     0  \n",
              "1                                    1                                     0  \n",
              "2                                    0                                     0  \n",
              "3                                    0                                     0  \n",
              "4                                    1                                     0  \n",
              "...                                ...                                   ...  \n",
              "34294                                0                                     0  \n",
              "34295                                0                                     0  \n",
              "34296                                0                                     0  \n",
              "34297                                0                                     0  \n",
              "34298                                0                                     1  \n",
              "\n",
              "[34299 rows x 72 columns]"
            ],
            "text/html": [
              "\n",
              "  <div id=\"df-76bcb933-9984-466a-8be9-c62b804aa596\">\n",
              "    <div class=\"colab-df-container\">\n",
              "      <div>\n",
              "<style scoped>\n",
              "    .dataframe tbody tr th:only-of-type {\n",
              "        vertical-align: middle;\n",
              "    }\n",
              "\n",
              "    .dataframe tbody tr th {\n",
              "        vertical-align: top;\n",
              "    }\n",
              "\n",
              "    .dataframe thead th {\n",
              "        text-align: right;\n",
              "    }\n",
              "</style>\n",
              "<table border=\"1\" class=\"dataframe\">\n",
              "  <thead>\n",
              "    <tr style=\"text-align: right;\">\n",
              "      <th></th>\n",
              "      <th>IS_SUCCESSFUL</th>\n",
              "      <th>NAME_ALPHA PHI SIGMA</th>\n",
              "      <th>NAME_AMATEUR ATHLETIC UNION OF THE UNITED STATES INC</th>\n",
              "      <th>NAME_AMERICAN ASSOCIATION OF UNIVERSITY WOMEN</th>\n",
              "      <th>NAME_CIVITAN INTERNATIONAL</th>\n",
              "      <th>NAME_DEMOLAY INTERNATIONAL</th>\n",
              "      <th>NAME_FARMERS EDUCATIONAL AND COOPERATIVE UNION OF AMERICA</th>\n",
              "      <th>NAME_HABITAT FOR HUMANITY INTERNATIONAL INC</th>\n",
              "      <th>NAME_HONOR SOCIETY OF PHI KAPPA PHI</th>\n",
              "      <th>NAME_INTERNATIONAL ASSOCIATION OF LIONS CLUBS</th>\n",
              "      <th>...</th>\n",
              "      <th>INCOME_AMT_10000-24999</th>\n",
              "      <th>INCOME_AMT_100000-499999</th>\n",
              "      <th>INCOME_AMT_10M-50M</th>\n",
              "      <th>INCOME_AMT_1M-5M</th>\n",
              "      <th>INCOME_AMT_25000-99999</th>\n",
              "      <th>INCOME_AMT_50M+</th>\n",
              "      <th>INCOME_AMT_5M-10M</th>\n",
              "      <th>ask_amt_bin_(4999.999, 30898.8]</th>\n",
              "      <th>ask_amt_bin_(30898.8, 196546.2]</th>\n",
              "      <th>ask_amt_bin_(196546.2, 8597806340.0]</th>\n",
              "    </tr>\n",
              "  </thead>\n",
              "  <tbody>\n",
              "    <tr>\n",
              "      <th>0</th>\n",
              "      <td>1</td>\n",
              "      <td>0</td>\n",
              "      <td>0</td>\n",
              "      <td>0</td>\n",
              "      <td>0</td>\n",
              "      <td>0</td>\n",
              "      <td>0</td>\n",
              "      <td>0</td>\n",
              "      <td>0</td>\n",
              "      <td>0</td>\n",
              "      <td>...</td>\n",
              "      <td>0</td>\n",
              "      <td>0</td>\n",
              "      <td>0</td>\n",
              "      <td>0</td>\n",
              "      <td>0</td>\n",
              "      <td>0</td>\n",
              "      <td>0</td>\n",
              "      <td>1</td>\n",
              "      <td>0</td>\n",
              "      <td>0</td>\n",
              "    </tr>\n",
              "    <tr>\n",
              "      <th>1</th>\n",
              "      <td>1</td>\n",
              "      <td>0</td>\n",
              "      <td>0</td>\n",
              "      <td>0</td>\n",
              "      <td>0</td>\n",
              "      <td>0</td>\n",
              "      <td>0</td>\n",
              "      <td>0</td>\n",
              "      <td>0</td>\n",
              "      <td>0</td>\n",
              "      <td>...</td>\n",
              "      <td>0</td>\n",
              "      <td>0</td>\n",
              "      <td>0</td>\n",
              "      <td>0</td>\n",
              "      <td>0</td>\n",
              "      <td>0</td>\n",
              "      <td>0</td>\n",
              "      <td>0</td>\n",
              "      <td>1</td>\n",
              "      <td>0</td>\n",
              "    </tr>\n",
              "    <tr>\n",
              "      <th>2</th>\n",
              "      <td>0</td>\n",
              "      <td>0</td>\n",
              "      <td>0</td>\n",
              "      <td>0</td>\n",
              "      <td>0</td>\n",
              "      <td>0</td>\n",
              "      <td>0</td>\n",
              "      <td>0</td>\n",
              "      <td>0</td>\n",
              "      <td>0</td>\n",
              "      <td>...</td>\n",
              "      <td>0</td>\n",
              "      <td>0</td>\n",
              "      <td>0</td>\n",
              "      <td>0</td>\n",
              "      <td>0</td>\n",
              "      <td>0</td>\n",
              "      <td>0</td>\n",
              "      <td>1</td>\n",
              "      <td>0</td>\n",
              "      <td>0</td>\n",
              "    </tr>\n",
              "    <tr>\n",
              "      <th>3</th>\n",
              "      <td>1</td>\n",
              "      <td>0</td>\n",
              "      <td>0</td>\n",
              "      <td>0</td>\n",
              "      <td>0</td>\n",
              "      <td>0</td>\n",
              "      <td>0</td>\n",
              "      <td>0</td>\n",
              "      <td>0</td>\n",
              "      <td>0</td>\n",
              "      <td>...</td>\n",
              "      <td>1</td>\n",
              "      <td>0</td>\n",
              "      <td>0</td>\n",
              "      <td>0</td>\n",
              "      <td>0</td>\n",
              "      <td>0</td>\n",
              "      <td>0</td>\n",
              "      <td>1</td>\n",
              "      <td>0</td>\n",
              "      <td>0</td>\n",
              "    </tr>\n",
              "    <tr>\n",
              "      <th>4</th>\n",
              "      <td>1</td>\n",
              "      <td>0</td>\n",
              "      <td>0</td>\n",
              "      <td>0</td>\n",
              "      <td>0</td>\n",
              "      <td>0</td>\n",
              "      <td>0</td>\n",
              "      <td>0</td>\n",
              "      <td>0</td>\n",
              "      <td>0</td>\n",
              "      <td>...</td>\n",
              "      <td>0</td>\n",
              "      <td>1</td>\n",
              "      <td>0</td>\n",
              "      <td>0</td>\n",
              "      <td>0</td>\n",
              "      <td>0</td>\n",
              "      <td>0</td>\n",
              "      <td>0</td>\n",
              "      <td>1</td>\n",
              "      <td>0</td>\n",
              "    </tr>\n",
              "    <tr>\n",
              "      <th>...</th>\n",
              "      <td>...</td>\n",
              "      <td>...</td>\n",
              "      <td>...</td>\n",
              "      <td>...</td>\n",
              "      <td>...</td>\n",
              "      <td>...</td>\n",
              "      <td>...</td>\n",
              "      <td>...</td>\n",
              "      <td>...</td>\n",
              "      <td>...</td>\n",
              "      <td>...</td>\n",
              "      <td>...</td>\n",
              "      <td>...</td>\n",
              "      <td>...</td>\n",
              "      <td>...</td>\n",
              "      <td>...</td>\n",
              "      <td>...</td>\n",
              "      <td>...</td>\n",
              "      <td>...</td>\n",
              "      <td>...</td>\n",
              "      <td>...</td>\n",
              "    </tr>\n",
              "    <tr>\n",
              "      <th>34294</th>\n",
              "      <td>0</td>\n",
              "      <td>0</td>\n",
              "      <td>0</td>\n",
              "      <td>0</td>\n",
              "      <td>0</td>\n",
              "      <td>0</td>\n",
              "      <td>0</td>\n",
              "      <td>0</td>\n",
              "      <td>0</td>\n",
              "      <td>0</td>\n",
              "      <td>...</td>\n",
              "      <td>0</td>\n",
              "      <td>0</td>\n",
              "      <td>0</td>\n",
              "      <td>0</td>\n",
              "      <td>0</td>\n",
              "      <td>0</td>\n",
              "      <td>0</td>\n",
              "      <td>1</td>\n",
              "      <td>0</td>\n",
              "      <td>0</td>\n",
              "    </tr>\n",
              "    <tr>\n",
              "      <th>34295</th>\n",
              "      <td>0</td>\n",
              "      <td>0</td>\n",
              "      <td>0</td>\n",
              "      <td>0</td>\n",
              "      <td>0</td>\n",
              "      <td>0</td>\n",
              "      <td>0</td>\n",
              "      <td>0</td>\n",
              "      <td>0</td>\n",
              "      <td>1</td>\n",
              "      <td>...</td>\n",
              "      <td>0</td>\n",
              "      <td>0</td>\n",
              "      <td>0</td>\n",
              "      <td>0</td>\n",
              "      <td>0</td>\n",
              "      <td>0</td>\n",
              "      <td>0</td>\n",
              "      <td>1</td>\n",
              "      <td>0</td>\n",
              "      <td>0</td>\n",
              "    </tr>\n",
              "    <tr>\n",
              "      <th>34296</th>\n",
              "      <td>0</td>\n",
              "      <td>0</td>\n",
              "      <td>0</td>\n",
              "      <td>0</td>\n",
              "      <td>0</td>\n",
              "      <td>0</td>\n",
              "      <td>0</td>\n",
              "      <td>0</td>\n",
              "      <td>0</td>\n",
              "      <td>0</td>\n",
              "      <td>...</td>\n",
              "      <td>0</td>\n",
              "      <td>0</td>\n",
              "      <td>0</td>\n",
              "      <td>0</td>\n",
              "      <td>0</td>\n",
              "      <td>0</td>\n",
              "      <td>0</td>\n",
              "      <td>1</td>\n",
              "      <td>0</td>\n",
              "      <td>0</td>\n",
              "    </tr>\n",
              "    <tr>\n",
              "      <th>34297</th>\n",
              "      <td>1</td>\n",
              "      <td>0</td>\n",
              "      <td>0</td>\n",
              "      <td>0</td>\n",
              "      <td>0</td>\n",
              "      <td>0</td>\n",
              "      <td>0</td>\n",
              "      <td>0</td>\n",
              "      <td>0</td>\n",
              "      <td>0</td>\n",
              "      <td>...</td>\n",
              "      <td>0</td>\n",
              "      <td>0</td>\n",
              "      <td>0</td>\n",
              "      <td>0</td>\n",
              "      <td>0</td>\n",
              "      <td>0</td>\n",
              "      <td>0</td>\n",
              "      <td>1</td>\n",
              "      <td>0</td>\n",
              "      <td>0</td>\n",
              "    </tr>\n",
              "    <tr>\n",
              "      <th>34298</th>\n",
              "      <td>0</td>\n",
              "      <td>0</td>\n",
              "      <td>0</td>\n",
              "      <td>0</td>\n",
              "      <td>0</td>\n",
              "      <td>0</td>\n",
              "      <td>0</td>\n",
              "      <td>0</td>\n",
              "      <td>0</td>\n",
              "      <td>0</td>\n",
              "      <td>...</td>\n",
              "      <td>0</td>\n",
              "      <td>0</td>\n",
              "      <td>0</td>\n",
              "      <td>1</td>\n",
              "      <td>0</td>\n",
              "      <td>0</td>\n",
              "      <td>0</td>\n",
              "      <td>0</td>\n",
              "      <td>0</td>\n",
              "      <td>1</td>\n",
              "    </tr>\n",
              "  </tbody>\n",
              "</table>\n",
              "<p>34299 rows × 72 columns</p>\n",
              "</div>\n",
              "      <button class=\"colab-df-convert\" onclick=\"convertToInteractive('df-76bcb933-9984-466a-8be9-c62b804aa596')\"\n",
              "              title=\"Convert this dataframe to an interactive table.\"\n",
              "              style=\"display:none;\">\n",
              "        \n",
              "  <svg xmlns=\"http://www.w3.org/2000/svg\" height=\"24px\"viewBox=\"0 0 24 24\"\n",
              "       width=\"24px\">\n",
              "    <path d=\"M0 0h24v24H0V0z\" fill=\"none\"/>\n",
              "    <path d=\"M18.56 5.44l.94 2.06.94-2.06 2.06-.94-2.06-.94-.94-2.06-.94 2.06-2.06.94zm-11 1L8.5 8.5l.94-2.06 2.06-.94-2.06-.94L8.5 2.5l-.94 2.06-2.06.94zm10 10l.94 2.06.94-2.06 2.06-.94-2.06-.94-.94-2.06-.94 2.06-2.06.94z\"/><path d=\"M17.41 7.96l-1.37-1.37c-.4-.4-.92-.59-1.43-.59-.52 0-1.04.2-1.43.59L10.3 9.45l-7.72 7.72c-.78.78-.78 2.05 0 2.83L4 21.41c.39.39.9.59 1.41.59.51 0 1.02-.2 1.41-.59l7.78-7.78 2.81-2.81c.8-.78.8-2.07 0-2.86zM5.41 20L4 18.59l7.72-7.72 1.47 1.35L5.41 20z\"/>\n",
              "  </svg>\n",
              "      </button>\n",
              "      \n",
              "  <style>\n",
              "    .colab-df-container {\n",
              "      display:flex;\n",
              "      flex-wrap:wrap;\n",
              "      gap: 12px;\n",
              "    }\n",
              "\n",
              "    .colab-df-convert {\n",
              "      background-color: #E8F0FE;\n",
              "      border: none;\n",
              "      border-radius: 50%;\n",
              "      cursor: pointer;\n",
              "      display: none;\n",
              "      fill: #1967D2;\n",
              "      height: 32px;\n",
              "      padding: 0 0 0 0;\n",
              "      width: 32px;\n",
              "    }\n",
              "\n",
              "    .colab-df-convert:hover {\n",
              "      background-color: #E2EBFA;\n",
              "      box-shadow: 0px 1px 2px rgba(60, 64, 67, 0.3), 0px 1px 3px 1px rgba(60, 64, 67, 0.15);\n",
              "      fill: #174EA6;\n",
              "    }\n",
              "\n",
              "    [theme=dark] .colab-df-convert {\n",
              "      background-color: #3B4455;\n",
              "      fill: #D2E3FC;\n",
              "    }\n",
              "\n",
              "    [theme=dark] .colab-df-convert:hover {\n",
              "      background-color: #434B5C;\n",
              "      box-shadow: 0px 1px 3px 1px rgba(0, 0, 0, 0.15);\n",
              "      filter: drop-shadow(0px 1px 2px rgba(0, 0, 0, 0.3));\n",
              "      fill: #FFFFFF;\n",
              "    }\n",
              "  </style>\n",
              "\n",
              "      <script>\n",
              "        const buttonEl =\n",
              "          document.querySelector('#df-76bcb933-9984-466a-8be9-c62b804aa596 button.colab-df-convert');\n",
              "        buttonEl.style.display =\n",
              "          google.colab.kernel.accessAllowed ? 'block' : 'none';\n",
              "\n",
              "        async function convertToInteractive(key) {\n",
              "          const element = document.querySelector('#df-76bcb933-9984-466a-8be9-c62b804aa596');\n",
              "          const dataTable =\n",
              "            await google.colab.kernel.invokeFunction('convertToInteractive',\n",
              "                                                     [key], {});\n",
              "          if (!dataTable) return;\n",
              "\n",
              "          const docLinkHtml = 'Like what you see? Visit the ' +\n",
              "            '<a target=\"_blank\" href=https://colab.research.google.com/notebooks/data_table.ipynb>data table notebook</a>'\n",
              "            + ' to learn more about interactive tables.';\n",
              "          element.innerHTML = '';\n",
              "          dataTable['output_type'] = 'display_data';\n",
              "          await google.colab.output.renderOutput(dataTable, element);\n",
              "          const docLink = document.createElement('div');\n",
              "          docLink.innerHTML = docLinkHtml;\n",
              "          element.appendChild(docLink);\n",
              "        }\n",
              "      </script>\n",
              "    </div>\n",
              "  </div>\n",
              "  "
            ]
          },
          "metadata": {},
          "execution_count": 36
        }
      ],
      "source": [
        "# Convert categorical data to numeric with `pd.get_dummies`\n",
        "clean_df = application_df.copy()\n",
        "clean_df = pd.get_dummies(application_df)\n",
        "clean_df"
      ]
    },
    {
      "cell_type": "code",
      "source": [
        "clean_df.info()"
      ],
      "metadata": {
        "id": "CdpEHlzvjxCW",
        "outputId": "fdf24031-ba7f-4961-f736-5c2f32dde587",
        "colab": {
          "base_uri": "https://localhost:8080/"
        }
      },
      "execution_count": 37,
      "outputs": [
        {
          "output_type": "stream",
          "name": "stdout",
          "text": [
            "<class 'pandas.core.frame.DataFrame'>\n",
            "RangeIndex: 34299 entries, 0 to 34298\n",
            "Data columns (total 72 columns):\n",
            " #   Column                                                                   Non-Null Count  Dtype\n",
            "---  ------                                                                   --------------  -----\n",
            " 0   IS_SUCCESSFUL                                                            34299 non-null  int64\n",
            " 1   NAME_ALPHA PHI SIGMA                                                     34299 non-null  uint8\n",
            " 2   NAME_AMATEUR ATHLETIC UNION OF THE UNITED STATES INC                     34299 non-null  uint8\n",
            " 3   NAME_AMERICAN ASSOCIATION OF UNIVERSITY WOMEN                            34299 non-null  uint8\n",
            " 4   NAME_CIVITAN INTERNATIONAL                                               34299 non-null  uint8\n",
            " 5   NAME_DEMOLAY INTERNATIONAL                                               34299 non-null  uint8\n",
            " 6   NAME_FARMERS EDUCATIONAL AND COOPERATIVE UNION OF AMERICA                34299 non-null  uint8\n",
            " 7   NAME_HABITAT FOR HUMANITY INTERNATIONAL INC                              34299 non-null  uint8\n",
            " 8   NAME_HONOR SOCIETY OF PHI KAPPA PHI                                      34299 non-null  uint8\n",
            " 9   NAME_INTERNATIONAL ASSOCIATION OF LIONS CLUBS                            34299 non-null  uint8\n",
            " 10  NAME_INTERNATIONAL ASSOCIATION OF SHEET METAL AIR RAIL & TRANSPORTATION  34299 non-null  uint8\n",
            " 11  NAME_KNIGHTS OF COLUMBUS                                                 34299 non-null  uint8\n",
            " 12  NAME_LITTLE LEAGUE BASEBALL INC                                          34299 non-null  uint8\n",
            " 13  NAME_MOMS CLUB                                                           34299 non-null  uint8\n",
            " 14  NAME_MONTANA 4-H FOUNDATION INC                                          34299 non-null  uint8\n",
            " 15  NAME_MOST WORSHIPFUL STRINGER FREE AND ACCEPTED MASONS                   34299 non-null  uint8\n",
            " 16  NAME_Other                                                               34299 non-null  uint8\n",
            " 17  NAME_PARENT BOOSTER USA INC                                              34299 non-null  uint8\n",
            " 18  NAME_PTA TEXAS CONGRESS                                                  34299 non-null  uint8\n",
            " 19  NAME_PTA UTAH CONGRESS                                                   34299 non-null  uint8\n",
            " 20  NAME_SERTOMA INC                                                         34299 non-null  uint8\n",
            " 21  NAME_SIGMA BETA DELTA INC                                                34299 non-null  uint8\n",
            " 22  NAME_SOROPTIMIST INTERNATIONAL OF THE AMERICAS INC                       34299 non-null  uint8\n",
            " 23  NAME_TENNESSEE ORDER OF THE EASTERN STAR                                 34299 non-null  uint8\n",
            " 24  NAME_THE UNITED STATES PONY CLUBS INC                                    34299 non-null  uint8\n",
            " 25  NAME_TOASTMASTERS INTERNATIONAL                                          34299 non-null  uint8\n",
            " 26  NAME_TOPS CLUB INC                                                       34299 non-null  uint8\n",
            " 27  NAME_UNITED STATES BOWLING CONGRESS INC                                  34299 non-null  uint8\n",
            " 28  NAME_UNIVERSITY OF WYOMING                                               34299 non-null  uint8\n",
            " 29  NAME_VETERANS OF FOREIGN WARS OF THE UNITED STATES AUXILIARY             34299 non-null  uint8\n",
            " 30  NAME_WASHINGTON STATE GRANGE                                             34299 non-null  uint8\n",
            " 31  NAME_WASHINGTON STATE UNIVERSITY                                         34299 non-null  uint8\n",
            " 32  APPLICATION_TYPE_Other                                                   34299 non-null  uint8\n",
            " 33  APPLICATION_TYPE_T10                                                     34299 non-null  uint8\n",
            " 34  APPLICATION_TYPE_T19                                                     34299 non-null  uint8\n",
            " 35  APPLICATION_TYPE_T3                                                      34299 non-null  uint8\n",
            " 36  APPLICATION_TYPE_T4                                                      34299 non-null  uint8\n",
            " 37  APPLICATION_TYPE_T5                                                      34299 non-null  uint8\n",
            " 38  APPLICATION_TYPE_T6                                                      34299 non-null  uint8\n",
            " 39  APPLICATION_TYPE_T7                                                      34299 non-null  uint8\n",
            " 40  APPLICATION_TYPE_T8                                                      34299 non-null  uint8\n",
            " 41  CLASSIFICATION_C1000                                                     34299 non-null  uint8\n",
            " 42  CLASSIFICATION_C1200                                                     34299 non-null  uint8\n",
            " 43  CLASSIFICATION_C1270                                                     34299 non-null  uint8\n",
            " 44  CLASSIFICATION_C1700                                                     34299 non-null  uint8\n",
            " 45  CLASSIFICATION_C2000                                                     34299 non-null  uint8\n",
            " 46  CLASSIFICATION_C2100                                                     34299 non-null  uint8\n",
            " 47  CLASSIFICATION_C2700                                                     34299 non-null  uint8\n",
            " 48  CLASSIFICATION_C3000                                                     34299 non-null  uint8\n",
            " 49  CLASSIFICATION_C4000                                                     34299 non-null  uint8\n",
            " 50  CLASSIFICATION_C5000                                                     34299 non-null  uint8\n",
            " 51  CLASSIFICATION_C7000                                                     34299 non-null  uint8\n",
            " 52  CLASSIFICATION_Other                                                     34299 non-null  uint8\n",
            " 53  USE_CASE_Other                                                           34299 non-null  uint8\n",
            " 54  USE_CASE_Preservation                                                    34299 non-null  uint8\n",
            " 55  USE_CASE_ProductDev                                                      34299 non-null  uint8\n",
            " 56  ORGANIZATION_Association                                                 34299 non-null  uint8\n",
            " 57  ORGANIZATION_Co-operative                                                34299 non-null  uint8\n",
            " 58  ORGANIZATION_Corporation                                                 34299 non-null  uint8\n",
            " 59  ORGANIZATION_Trust                                                       34299 non-null  uint8\n",
            " 60  INCOME_AMT_0                                                             34299 non-null  uint8\n",
            " 61  INCOME_AMT_1-9999                                                        34299 non-null  uint8\n",
            " 62  INCOME_AMT_10000-24999                                                   34299 non-null  uint8\n",
            " 63  INCOME_AMT_100000-499999                                                 34299 non-null  uint8\n",
            " 64  INCOME_AMT_10M-50M                                                       34299 non-null  uint8\n",
            " 65  INCOME_AMT_1M-5M                                                         34299 non-null  uint8\n",
            " 66  INCOME_AMT_25000-99999                                                   34299 non-null  uint8\n",
            " 67  INCOME_AMT_50M+                                                          34299 non-null  uint8\n",
            " 68  INCOME_AMT_5M-10M                                                        34299 non-null  uint8\n",
            " 69  ask_amt_bin_(4999.999, 30898.8]                                          34299 non-null  uint8\n",
            " 70  ask_amt_bin_(30898.8, 196546.2]                                          34299 non-null  uint8\n",
            " 71  ask_amt_bin_(196546.2, 8597806340.0]                                     34299 non-null  uint8\n",
            "dtypes: int64(1), uint8(71)\n",
            "memory usage: 2.6 MB\n"
          ]
        }
      ]
    },
    {
      "cell_type": "code",
      "execution_count": 38,
      "metadata": {
        "id": "ooVVklu7aPzu"
      },
      "outputs": [],
      "source": [
        "df = clean_df.copy()"
      ]
    },
    {
      "cell_type": "markdown",
      "source": [
        "## Train, validation, test datasets"
      ],
      "metadata": {
        "id": "lVFrq93Y_89i"
      }
    },
    {
      "cell_type": "code",
      "source": [
        "# manually split instead of using train_test_split\n",
        "train, valid, test = np.split(df.sample(frac=1), [int(0.6*len(df)), int(0.8*len(df))]) "
      ],
      "metadata": {
        "id": "o5xEQLz0EOMl"
      },
      "execution_count": 39,
      "outputs": []
    },
    {
      "cell_type": "code",
      "source": [
        "# Separate the data into labels and features\n",
        "  # the y variable, the labels\n",
        "y = df['IS_SUCCESSFUL']\n",
        "  # the X variable, the features\n",
        "X = df.drop(columns='IS_SUCCESSFUL')\n",
        "\n",
        "# Split into testing and training sets using train_test_split\n",
        "X_train, X_test, y_train, y_test = train_test_split(X, y, random_state=1)\n",
        "X_valid, X_test, y_valid, y_test = train_test_split(X_test, y_test, random_state=1)\n",
        "\n",
        "# create datasets\n",
        "train = X_train.join(y_train)\n",
        "valid = X_valid.join(y_valid)\n",
        "test = X_test.join(y_test) "
      ],
      "metadata": {
        "id": "5Zo1elC8pEzn"
      },
      "execution_count": 40,
      "outputs": []
    },
    {
      "cell_type": "code",
      "source": [
        "def scale_dataset(dataframe, oversample=False):\n",
        "  # Split our preprocessed data into our features and target arrays\n",
        "  y = df.IS_SUCCESSFUL.values\n",
        "  X = df.drop(columns='IS_SUCCESSFUL').values\n",
        "\n",
        "  scaler = StandardScaler()\n",
        "  X = scaler.fit_transform(X)\n",
        "\n",
        "  # match lesser class to larger class # of samples\n",
        "  if oversample:\n",
        "    ros = RandomOverSampler()\n",
        "    X, y = ros.fit_resample(X, y)\n",
        "\n",
        "  data = np.hstack((X, np.reshape(y, (-1, 1))))\n",
        "\n",
        "  return data, X, y"
      ],
      "metadata": {
        "id": "vtK9Nuqz_6Xl"
      },
      "execution_count": 41,
      "outputs": []
    },
    {
      "cell_type": "code",
      "source": [
        "# rescale training data with random oversampler\n",
        "train, X_train, y_train = scale_dataset(train, oversample=True)\n",
        "valid, X_valid, y_valid = scale_dataset(valid, oversample=False)\n",
        "test, X_test, y_test = scale_dataset(test, oversample=False)"
      ],
      "metadata": {
        "id": "4ERNosU7GSmt"
      },
      "execution_count": 42,
      "outputs": []
    },
    {
      "cell_type": "code",
      "source": [
        "# # evenly rebalanced to equal the same number of samples\n",
        "len(y_train), sum(y_train == 1), sum(y_train == 0)"
      ],
      "metadata": {
        "id": "6joAgWkuG9-M",
        "outputId": "a17b4321-4bdc-4b6a-b018-f558de1e62d4",
        "colab": {
          "base_uri": "https://localhost:8080/"
        }
      },
      "execution_count": 43,
      "outputs": [
        {
          "output_type": "execute_result",
          "data": {
            "text/plain": [
              "(36522, 18261, 18261)"
            ]
          },
          "metadata": {},
          "execution_count": 43
        }
      ]
    },
    {
      "cell_type": "markdown",
      "metadata": {
        "id": "3NwXHKT2aPzu"
      },
      "source": [
        "## Compile, Train and Evaluate the Model"
      ]
    },
    {
      "cell_type": "code",
      "source": [
        "# functions to plot the loss and accuracy\n",
        "def plot_history(history, a_score, l_score, node, dropout_probability, learning_rate, batch_size, epochs ):\n",
        "    # plot variables\n",
        "    acc = f'{a_score:.3%}'\n",
        "    los = f'{l_score}'\n",
        "    s_title = f'Model: StandardScaler with {number_input_features} Features, Accuracy: {acc}'\n",
        "    n_title = f'Nodes: {node}, dropout: {dropout_probability}, lr: {learning_rate}, epochs: {epochs}, batch_size: {batch_size}, Loss: {los}'\n",
        "\n",
        "    # plot\n",
        "    fig, (ax1, ax2) = plt.subplots(1, 2, figsize=(10, 4))\n",
        "    ax1.plot(history.history['loss'], label='loss')\n",
        "    ax1.plot(history.history['val_loss'], label='val_loss')\n",
        "    ax1.set_xlabel('Epoch')\n",
        "    ax1.set_ylabel('Binary crossentrophy')\n",
        "    ax1.legend()\n",
        "    ax1.grid(True)\n",
        "\n",
        "    ax2.plot(history.history['accuracy'], label='accuracy')\n",
        "    ax2.plot(history.history['val_accuracy'], label='val_accuracy')\n",
        "    ax2.set_xlabel('Epoch')\n",
        "    ax2.set_ylabel('Binary crossentrophy')\n",
        "    ax2.legend()\n",
        "    ax2.grid(True)\n",
        "\n",
        "    plt.suptitle(s_title)\n",
        "    plt.title(n_title, ha='left')\n",
        "    plt.show()"
      ],
      "metadata": {
        "id": "o_WabEQTZi2I"
      },
      "execution_count": 44,
      "outputs": []
    },
    {
      "cell_type": "code",
      "source": [
        "# define variables for quick access to training\n",
        "number_input_features = len(X_train[0])"
      ],
      "metadata": {
        "id": "_UHKesRRfi8a"
      },
      "execution_count": 45,
      "outputs": []
    },
    {
      "cell_type": "code",
      "execution_count": 46,
      "metadata": {
        "id": "j1-JdvpiaPzv"
      },
      "outputs": [],
      "source": [
        "def train_model(X_train, y_train, nodes, dropout_probability, learning_rate, batch_size, epochs):\n",
        "# Define the model - deep neural net, i.e., the number of input features and hidden nodes for each layer.\n",
        "  nn = tf.keras.models.Sequential([\n",
        "  # First hidden layer\n",
        "      tf.keras.layers.Dense(nodes, input_dim=number_input_features, activation=\"relu\"),\n",
        "      tf.keras.layers.Dropout(dropout_probability),\n",
        "  # Second hidden layer\n",
        "      tf.keras.layers.Dense(nodes, activation=\"relu\"),\n",
        "      tf.keras.layers.Dropout(dropout_probability),\n",
        "  # Output layer\n",
        "      tf.keras.layers.Dense(1, activation=\"sigmoid\")\n",
        "  ])\n",
        "  # Check the structure of the model\n",
        "  nn.summary()\n",
        "\n",
        "  # Compile the model\n",
        "  nn.compile(optimizer=tf.keras.optimizers.Adam(learning_rate), loss=\"binary_crossentropy\", metrics=[\"accuracy\"])\n",
        "\n",
        "  # Train the model\n",
        "  history = nn.fit(X_train, y_train, batch_size=batch_size, epochs=epochs, validation_data=(X_valid, y_valid), verbose=0)\n",
        "\n",
        "  return nn, history"
      ]
    },
    {
      "cell_type": "code",
      "source": [
        "# set up and run model predictions\n",
        "epochs = 100\n",
        "filepath = 'deep-learning-challenge/checkpoints/EXTRA_AlphabetSoupCharity.h5'\n",
        "\n",
        "# view the loss and accuracy of model\n",
        "least_val_loss = float('inf')\n",
        "least_loss_model = None\n",
        "\n",
        "for node in [8, 16, 24]:\n",
        "  for dropout_probability in [0, 0.2]:\n",
        "    for learning_rate in [0.01, 0.005, 0.001]:\n",
        "      for batch_size in [32, 64, 128]:\n",
        "        print(f'{node} nodes, dropout {dropout_probability}, lr {learning_rate}, batch size {batch_size}, epochs={epochs}')\n",
        "        nn, history = train_model(X_train, y_train, node, dropout_probability, learning_rate, batch_size, epochs)\n",
        "        loss_acc = nn.evaluate(X_valid, y_valid)\n",
        "        a_score = loss_acc[1]\n",
        "        l_score = loss_acc[0]\n",
        "        plot_history(history, a_score, l_score, node, dropout_probability, learning_rate, batch_size, epochs)\n",
        "        if l_score < least_val_loss:\n",
        "          least_val_loss = l_score\n",
        "          least_loss_model = nn\n",
        "          tf.keras.saving.save_model(\n",
        "          nn, filepath, overwrite=True, save_format=None)\n",
        "          "
      ],
      "metadata": {
        "id": "tcX3yblpQxRV",
        "outputId": "38c55bb4-8ce6-4df7-83e5-030de3c855bf",
        "colab": {
          "base_uri": "https://localhost:8080/",
          "height": 823
        }
      },
      "execution_count": 47,
      "outputs": [
        {
          "output_type": "stream",
          "name": "stdout",
          "text": [
            "8 nodes, dropout 0, lr 0.01, batch size 32, epochs=100\n",
            "Model: \"sequential\"\n",
            "_________________________________________________________________\n",
            " Layer (type)                Output Shape              Param #   \n",
            "=================================================================\n",
            " dense (Dense)               (None, 8)                 576       \n",
            "                                                                 \n",
            " dropout (Dropout)           (None, 8)                 0         \n",
            "                                                                 \n",
            " dense_1 (Dense)             (None, 8)                 72        \n",
            "                                                                 \n",
            " dropout_1 (Dropout)         (None, 8)                 0         \n",
            "                                                                 \n",
            " dense_2 (Dense)             (None, 1)                 9         \n",
            "                                                                 \n",
            "=================================================================\n",
            "Total params: 657\n",
            "Trainable params: 657\n",
            "Non-trainable params: 0\n",
            "_________________________________________________________________\n"
          ]
        },
        {
          "output_type": "error",
          "ename": "KeyboardInterrupt",
          "evalue": "ignored",
          "traceback": [
            "\u001b[0;31m---------------------------------------------------------------------------\u001b[0m",
            "\u001b[0;31mKeyboardInterrupt\u001b[0m                         Traceback (most recent call last)",
            "\u001b[0;32m<ipython-input-47-a7748ba37a82>\u001b[0m in \u001b[0;36m<cell line: 9>\u001b[0;34m()\u001b[0m\n\u001b[1;32m     12\u001b[0m       \u001b[0;32mfor\u001b[0m \u001b[0mbatch_size\u001b[0m \u001b[0;32min\u001b[0m \u001b[0;34m[\u001b[0m\u001b[0;36m32\u001b[0m\u001b[0;34m,\u001b[0m \u001b[0;36m64\u001b[0m\u001b[0;34m,\u001b[0m \u001b[0;36m128\u001b[0m\u001b[0;34m]\u001b[0m\u001b[0;34m:\u001b[0m\u001b[0;34m\u001b[0m\u001b[0;34m\u001b[0m\u001b[0m\n\u001b[1;32m     13\u001b[0m         \u001b[0mprint\u001b[0m\u001b[0;34m(\u001b[0m\u001b[0;34mf'{node} nodes, dropout {dropout_probability}, lr {learning_rate}, batch size {batch_size}, epochs={epochs}'\u001b[0m\u001b[0;34m)\u001b[0m\u001b[0;34m\u001b[0m\u001b[0;34m\u001b[0m\u001b[0m\n\u001b[0;32m---> 14\u001b[0;31m         \u001b[0mnn\u001b[0m\u001b[0;34m,\u001b[0m \u001b[0mhistory\u001b[0m \u001b[0;34m=\u001b[0m \u001b[0mtrain_model\u001b[0m\u001b[0;34m(\u001b[0m\u001b[0mX_train\u001b[0m\u001b[0;34m,\u001b[0m \u001b[0my_train\u001b[0m\u001b[0;34m,\u001b[0m \u001b[0mnode\u001b[0m\u001b[0;34m,\u001b[0m \u001b[0mdropout_probability\u001b[0m\u001b[0;34m,\u001b[0m \u001b[0mlearning_rate\u001b[0m\u001b[0;34m,\u001b[0m \u001b[0mbatch_size\u001b[0m\u001b[0;34m,\u001b[0m \u001b[0mepochs\u001b[0m\u001b[0;34m)\u001b[0m\u001b[0;34m\u001b[0m\u001b[0;34m\u001b[0m\u001b[0m\n\u001b[0m\u001b[1;32m     15\u001b[0m         \u001b[0mloss_acc\u001b[0m \u001b[0;34m=\u001b[0m \u001b[0mnn\u001b[0m\u001b[0;34m.\u001b[0m\u001b[0mevaluate\u001b[0m\u001b[0;34m(\u001b[0m\u001b[0mX_valid\u001b[0m\u001b[0;34m,\u001b[0m \u001b[0my_valid\u001b[0m\u001b[0;34m)\u001b[0m\u001b[0;34m\u001b[0m\u001b[0;34m\u001b[0m\u001b[0m\n\u001b[1;32m     16\u001b[0m         \u001b[0ma_score\u001b[0m \u001b[0;34m=\u001b[0m \u001b[0mloss_acc\u001b[0m\u001b[0;34m[\u001b[0m\u001b[0;36m1\u001b[0m\u001b[0;34m]\u001b[0m\u001b[0;34m\u001b[0m\u001b[0;34m\u001b[0m\u001b[0m\n",
            "\u001b[0;32m<ipython-input-46-cac909d81ccd>\u001b[0m in \u001b[0;36mtrain_model\u001b[0;34m(X_train, y_train, nodes, dropout_probability, learning_rate, batch_size, epochs)\u001b[0m\n\u001b[1;32m     18\u001b[0m \u001b[0;34m\u001b[0m\u001b[0m\n\u001b[1;32m     19\u001b[0m   \u001b[0;31m# Train the model\u001b[0m\u001b[0;34m\u001b[0m\u001b[0;34m\u001b[0m\u001b[0m\n\u001b[0;32m---> 20\u001b[0;31m   \u001b[0mhistory\u001b[0m \u001b[0;34m=\u001b[0m \u001b[0mnn\u001b[0m\u001b[0;34m.\u001b[0m\u001b[0mfit\u001b[0m\u001b[0;34m(\u001b[0m\u001b[0mX_train\u001b[0m\u001b[0;34m,\u001b[0m \u001b[0my_train\u001b[0m\u001b[0;34m,\u001b[0m \u001b[0mbatch_size\u001b[0m\u001b[0;34m=\u001b[0m\u001b[0mbatch_size\u001b[0m\u001b[0;34m,\u001b[0m \u001b[0mepochs\u001b[0m\u001b[0;34m=\u001b[0m\u001b[0mepochs\u001b[0m\u001b[0;34m,\u001b[0m \u001b[0mvalidation_data\u001b[0m\u001b[0;34m=\u001b[0m\u001b[0;34m(\u001b[0m\u001b[0mX_valid\u001b[0m\u001b[0;34m,\u001b[0m \u001b[0my_valid\u001b[0m\u001b[0;34m)\u001b[0m\u001b[0;34m,\u001b[0m \u001b[0mverbose\u001b[0m\u001b[0;34m=\u001b[0m\u001b[0;36m0\u001b[0m\u001b[0;34m)\u001b[0m\u001b[0;34m\u001b[0m\u001b[0;34m\u001b[0m\u001b[0m\n\u001b[0m\u001b[1;32m     21\u001b[0m \u001b[0;34m\u001b[0m\u001b[0m\n\u001b[1;32m     22\u001b[0m   \u001b[0;32mreturn\u001b[0m \u001b[0mnn\u001b[0m\u001b[0;34m,\u001b[0m \u001b[0mhistory\u001b[0m\u001b[0;34m\u001b[0m\u001b[0;34m\u001b[0m\u001b[0m\n",
            "\u001b[0;32m/usr/local/lib/python3.10/dist-packages/keras/utils/traceback_utils.py\u001b[0m in \u001b[0;36merror_handler\u001b[0;34m(*args, **kwargs)\u001b[0m\n\u001b[1;32m     63\u001b[0m         \u001b[0mfiltered_tb\u001b[0m \u001b[0;34m=\u001b[0m \u001b[0;32mNone\u001b[0m\u001b[0;34m\u001b[0m\u001b[0;34m\u001b[0m\u001b[0m\n\u001b[1;32m     64\u001b[0m         \u001b[0;32mtry\u001b[0m\u001b[0;34m:\u001b[0m\u001b[0;34m\u001b[0m\u001b[0;34m\u001b[0m\u001b[0m\n\u001b[0;32m---> 65\u001b[0;31m             \u001b[0;32mreturn\u001b[0m \u001b[0mfn\u001b[0m\u001b[0;34m(\u001b[0m\u001b[0;34m*\u001b[0m\u001b[0margs\u001b[0m\u001b[0;34m,\u001b[0m \u001b[0;34m**\u001b[0m\u001b[0mkwargs\u001b[0m\u001b[0;34m)\u001b[0m\u001b[0;34m\u001b[0m\u001b[0;34m\u001b[0m\u001b[0m\n\u001b[0m\u001b[1;32m     66\u001b[0m         \u001b[0;32mexcept\u001b[0m \u001b[0mException\u001b[0m \u001b[0;32mas\u001b[0m \u001b[0me\u001b[0m\u001b[0;34m:\u001b[0m\u001b[0;34m\u001b[0m\u001b[0;34m\u001b[0m\u001b[0m\n\u001b[1;32m     67\u001b[0m             \u001b[0mfiltered_tb\u001b[0m \u001b[0;34m=\u001b[0m \u001b[0m_process_traceback_frames\u001b[0m\u001b[0;34m(\u001b[0m\u001b[0me\u001b[0m\u001b[0;34m.\u001b[0m\u001b[0m__traceback__\u001b[0m\u001b[0;34m)\u001b[0m\u001b[0;34m\u001b[0m\u001b[0;34m\u001b[0m\u001b[0m\n",
            "\u001b[0;32m/usr/local/lib/python3.10/dist-packages/keras/engine/training.py\u001b[0m in \u001b[0;36mfit\u001b[0;34m(self, x, y, batch_size, epochs, verbose, callbacks, validation_split, validation_data, shuffle, class_weight, sample_weight, initial_epoch, steps_per_epoch, validation_steps, validation_batch_size, validation_freq, max_queue_size, workers, use_multiprocessing)\u001b[0m\n\u001b[1;32m   1683\u001b[0m                         ):\n\u001b[1;32m   1684\u001b[0m                             \u001b[0mcallbacks\u001b[0m\u001b[0;34m.\u001b[0m\u001b[0mon_train_batch_begin\u001b[0m\u001b[0;34m(\u001b[0m\u001b[0mstep\u001b[0m\u001b[0;34m)\u001b[0m\u001b[0;34m\u001b[0m\u001b[0;34m\u001b[0m\u001b[0m\n\u001b[0;32m-> 1685\u001b[0;31m                             \u001b[0mtmp_logs\u001b[0m \u001b[0;34m=\u001b[0m \u001b[0mself\u001b[0m\u001b[0;34m.\u001b[0m\u001b[0mtrain_function\u001b[0m\u001b[0;34m(\u001b[0m\u001b[0miterator\u001b[0m\u001b[0;34m)\u001b[0m\u001b[0;34m\u001b[0m\u001b[0;34m\u001b[0m\u001b[0m\n\u001b[0m\u001b[1;32m   1686\u001b[0m                             \u001b[0;32mif\u001b[0m \u001b[0mdata_handler\u001b[0m\u001b[0;34m.\u001b[0m\u001b[0mshould_sync\u001b[0m\u001b[0;34m:\u001b[0m\u001b[0;34m\u001b[0m\u001b[0;34m\u001b[0m\u001b[0m\n\u001b[1;32m   1687\u001b[0m                                 \u001b[0mcontext\u001b[0m\u001b[0;34m.\u001b[0m\u001b[0masync_wait\u001b[0m\u001b[0;34m(\u001b[0m\u001b[0;34m)\u001b[0m\u001b[0;34m\u001b[0m\u001b[0;34m\u001b[0m\u001b[0m\n",
            "\u001b[0;32m/usr/local/lib/python3.10/dist-packages/tensorflow/python/util/traceback_utils.py\u001b[0m in \u001b[0;36merror_handler\u001b[0;34m(*args, **kwargs)\u001b[0m\n\u001b[1;32m    148\u001b[0m     \u001b[0mfiltered_tb\u001b[0m \u001b[0;34m=\u001b[0m \u001b[0;32mNone\u001b[0m\u001b[0;34m\u001b[0m\u001b[0;34m\u001b[0m\u001b[0m\n\u001b[1;32m    149\u001b[0m     \u001b[0;32mtry\u001b[0m\u001b[0;34m:\u001b[0m\u001b[0;34m\u001b[0m\u001b[0;34m\u001b[0m\u001b[0m\n\u001b[0;32m--> 150\u001b[0;31m       \u001b[0;32mreturn\u001b[0m \u001b[0mfn\u001b[0m\u001b[0;34m(\u001b[0m\u001b[0;34m*\u001b[0m\u001b[0margs\u001b[0m\u001b[0;34m,\u001b[0m \u001b[0;34m**\u001b[0m\u001b[0mkwargs\u001b[0m\u001b[0;34m)\u001b[0m\u001b[0;34m\u001b[0m\u001b[0;34m\u001b[0m\u001b[0m\n\u001b[0m\u001b[1;32m    151\u001b[0m     \u001b[0;32mexcept\u001b[0m \u001b[0mException\u001b[0m \u001b[0;32mas\u001b[0m \u001b[0me\u001b[0m\u001b[0;34m:\u001b[0m\u001b[0;34m\u001b[0m\u001b[0;34m\u001b[0m\u001b[0m\n\u001b[1;32m    152\u001b[0m       \u001b[0mfiltered_tb\u001b[0m \u001b[0;34m=\u001b[0m \u001b[0m_process_traceback_frames\u001b[0m\u001b[0;34m(\u001b[0m\u001b[0me\u001b[0m\u001b[0;34m.\u001b[0m\u001b[0m__traceback__\u001b[0m\u001b[0;34m)\u001b[0m\u001b[0;34m\u001b[0m\u001b[0;34m\u001b[0m\u001b[0m\n",
            "\u001b[0;32m/usr/local/lib/python3.10/dist-packages/tensorflow/python/eager/polymorphic_function/polymorphic_function.py\u001b[0m in \u001b[0;36m__call__\u001b[0;34m(self, *args, **kwds)\u001b[0m\n\u001b[1;32m    892\u001b[0m \u001b[0;34m\u001b[0m\u001b[0m\n\u001b[1;32m    893\u001b[0m       \u001b[0;32mwith\u001b[0m \u001b[0mOptionalXlaContext\u001b[0m\u001b[0;34m(\u001b[0m\u001b[0mself\u001b[0m\u001b[0;34m.\u001b[0m\u001b[0m_jit_compile\u001b[0m\u001b[0;34m)\u001b[0m\u001b[0;34m:\u001b[0m\u001b[0;34m\u001b[0m\u001b[0;34m\u001b[0m\u001b[0m\n\u001b[0;32m--> 894\u001b[0;31m         \u001b[0mresult\u001b[0m \u001b[0;34m=\u001b[0m \u001b[0mself\u001b[0m\u001b[0;34m.\u001b[0m\u001b[0m_call\u001b[0m\u001b[0;34m(\u001b[0m\u001b[0;34m*\u001b[0m\u001b[0margs\u001b[0m\u001b[0;34m,\u001b[0m \u001b[0;34m**\u001b[0m\u001b[0mkwds\u001b[0m\u001b[0;34m)\u001b[0m\u001b[0;34m\u001b[0m\u001b[0;34m\u001b[0m\u001b[0m\n\u001b[0m\u001b[1;32m    895\u001b[0m \u001b[0;34m\u001b[0m\u001b[0m\n\u001b[1;32m    896\u001b[0m       \u001b[0mnew_tracing_count\u001b[0m \u001b[0;34m=\u001b[0m \u001b[0mself\u001b[0m\u001b[0;34m.\u001b[0m\u001b[0mexperimental_get_tracing_count\u001b[0m\u001b[0;34m(\u001b[0m\u001b[0;34m)\u001b[0m\u001b[0;34m\u001b[0m\u001b[0;34m\u001b[0m\u001b[0m\n",
            "\u001b[0;32m/usr/local/lib/python3.10/dist-packages/tensorflow/python/eager/polymorphic_function/polymorphic_function.py\u001b[0m in \u001b[0;36m_call\u001b[0;34m(self, *args, **kwds)\u001b[0m\n\u001b[1;32m    924\u001b[0m       \u001b[0;31m# In this case we have created variables on the first call, so we run the\u001b[0m\u001b[0;34m\u001b[0m\u001b[0;34m\u001b[0m\u001b[0m\n\u001b[1;32m    925\u001b[0m       \u001b[0;31m# defunned version which is guaranteed to never create variables.\u001b[0m\u001b[0;34m\u001b[0m\u001b[0;34m\u001b[0m\u001b[0m\n\u001b[0;32m--> 926\u001b[0;31m       \u001b[0;32mreturn\u001b[0m \u001b[0mself\u001b[0m\u001b[0;34m.\u001b[0m\u001b[0m_no_variable_creation_fn\u001b[0m\u001b[0;34m(\u001b[0m\u001b[0;34m*\u001b[0m\u001b[0margs\u001b[0m\u001b[0;34m,\u001b[0m \u001b[0;34m**\u001b[0m\u001b[0mkwds\u001b[0m\u001b[0;34m)\u001b[0m  \u001b[0;31m# pylint: disable=not-callable\u001b[0m\u001b[0;34m\u001b[0m\u001b[0;34m\u001b[0m\u001b[0m\n\u001b[0m\u001b[1;32m    927\u001b[0m     \u001b[0;32melif\u001b[0m \u001b[0mself\u001b[0m\u001b[0;34m.\u001b[0m\u001b[0m_variable_creation_fn\u001b[0m \u001b[0;32mis\u001b[0m \u001b[0;32mnot\u001b[0m \u001b[0;32mNone\u001b[0m\u001b[0;34m:\u001b[0m\u001b[0;34m\u001b[0m\u001b[0;34m\u001b[0m\u001b[0m\n\u001b[1;32m    928\u001b[0m       \u001b[0;31m# Release the lock early so that multiple threads can perform the call\u001b[0m\u001b[0;34m\u001b[0m\u001b[0;34m\u001b[0m\u001b[0m\n",
            "\u001b[0;32m/usr/local/lib/python3.10/dist-packages/tensorflow/python/eager/polymorphic_function/tracing_compiler.py\u001b[0m in \u001b[0;36m__call__\u001b[0;34m(self, *args, **kwargs)\u001b[0m\n\u001b[1;32m    141\u001b[0m       (concrete_function,\n\u001b[1;32m    142\u001b[0m        filtered_flat_args) = self._maybe_define_function(args, kwargs)\n\u001b[0;32m--> 143\u001b[0;31m     return concrete_function._call_flat(\n\u001b[0m\u001b[1;32m    144\u001b[0m         filtered_flat_args, captured_inputs=concrete_function.captured_inputs)  # pylint: disable=protected-access\n\u001b[1;32m    145\u001b[0m \u001b[0;34m\u001b[0m\u001b[0m\n",
            "\u001b[0;32m/usr/local/lib/python3.10/dist-packages/tensorflow/python/eager/polymorphic_function/monomorphic_function.py\u001b[0m in \u001b[0;36m_call_flat\u001b[0;34m(self, args, captured_inputs, cancellation_manager)\u001b[0m\n\u001b[1;32m   1755\u001b[0m         and executing_eagerly):\n\u001b[1;32m   1756\u001b[0m       \u001b[0;31m# No tape is watching; skip to running the function.\u001b[0m\u001b[0;34m\u001b[0m\u001b[0;34m\u001b[0m\u001b[0m\n\u001b[0;32m-> 1757\u001b[0;31m       return self._build_call_outputs(self._inference_function.call(\n\u001b[0m\u001b[1;32m   1758\u001b[0m           ctx, args, cancellation_manager=cancellation_manager))\n\u001b[1;32m   1759\u001b[0m     forward_backward = self._select_forward_and_backward_functions(\n",
            "\u001b[0;32m/usr/local/lib/python3.10/dist-packages/tensorflow/python/eager/polymorphic_function/monomorphic_function.py\u001b[0m in \u001b[0;36mcall\u001b[0;34m(self, ctx, args, cancellation_manager)\u001b[0m\n\u001b[1;32m    379\u001b[0m       \u001b[0;32mwith\u001b[0m \u001b[0m_InterpolateFunctionError\u001b[0m\u001b[0;34m(\u001b[0m\u001b[0mself\u001b[0m\u001b[0;34m)\u001b[0m\u001b[0;34m:\u001b[0m\u001b[0;34m\u001b[0m\u001b[0;34m\u001b[0m\u001b[0m\n\u001b[1;32m    380\u001b[0m         \u001b[0;32mif\u001b[0m \u001b[0mcancellation_manager\u001b[0m \u001b[0;32mis\u001b[0m \u001b[0;32mNone\u001b[0m\u001b[0;34m:\u001b[0m\u001b[0;34m\u001b[0m\u001b[0;34m\u001b[0m\u001b[0m\n\u001b[0;32m--> 381\u001b[0;31m           outputs = execute.execute(\n\u001b[0m\u001b[1;32m    382\u001b[0m               \u001b[0mstr\u001b[0m\u001b[0;34m(\u001b[0m\u001b[0mself\u001b[0m\u001b[0;34m.\u001b[0m\u001b[0msignature\u001b[0m\u001b[0;34m.\u001b[0m\u001b[0mname\u001b[0m\u001b[0;34m)\u001b[0m\u001b[0;34m,\u001b[0m\u001b[0;34m\u001b[0m\u001b[0;34m\u001b[0m\u001b[0m\n\u001b[1;32m    383\u001b[0m               \u001b[0mnum_outputs\u001b[0m\u001b[0;34m=\u001b[0m\u001b[0mself\u001b[0m\u001b[0;34m.\u001b[0m\u001b[0m_num_outputs\u001b[0m\u001b[0;34m,\u001b[0m\u001b[0;34m\u001b[0m\u001b[0;34m\u001b[0m\u001b[0m\n",
            "\u001b[0;32m/usr/local/lib/python3.10/dist-packages/tensorflow/python/eager/execute.py\u001b[0m in \u001b[0;36mquick_execute\u001b[0;34m(op_name, num_outputs, inputs, attrs, ctx, name)\u001b[0m\n\u001b[1;32m     50\u001b[0m   \u001b[0;32mtry\u001b[0m\u001b[0;34m:\u001b[0m\u001b[0;34m\u001b[0m\u001b[0;34m\u001b[0m\u001b[0m\n\u001b[1;32m     51\u001b[0m     \u001b[0mctx\u001b[0m\u001b[0;34m.\u001b[0m\u001b[0mensure_initialized\u001b[0m\u001b[0;34m(\u001b[0m\u001b[0;34m)\u001b[0m\u001b[0;34m\u001b[0m\u001b[0;34m\u001b[0m\u001b[0m\n\u001b[0;32m---> 52\u001b[0;31m     tensors = pywrap_tfe.TFE_Py_Execute(ctx._handle, device_name, op_name,\n\u001b[0m\u001b[1;32m     53\u001b[0m                                         inputs, attrs, num_outputs)\n\u001b[1;32m     54\u001b[0m   \u001b[0;32mexcept\u001b[0m \u001b[0mcore\u001b[0m\u001b[0;34m.\u001b[0m\u001b[0m_NotOkStatusException\u001b[0m \u001b[0;32mas\u001b[0m \u001b[0me\u001b[0m\u001b[0;34m:\u001b[0m\u001b[0;34m\u001b[0m\u001b[0;34m\u001b[0m\u001b[0m\n",
            "\u001b[0;31mKeyboardInterrupt\u001b[0m: "
          ]
        }
      ]
    },
    {
      "cell_type": "code",
      "source": [
        "# Calculate the classification report\n",
        "target_names = [\"Not Successful\", \"Successful\"]\n",
        "\n",
        "y_pred = least_loss_model.predict(X_test)\n",
        "y_pred = (y_pred > 0.5).astype(int).reshape(-1,)\n",
        "print(classification_report(y_test, y_pred, target_names=target_names))"
      ],
      "metadata": {
        "id": "rcgZ6TcKUn5r"
      },
      "execution_count": null,
      "outputs": []
    }
  ],
  "metadata": {
    "kernelspec": {
      "display_name": "Python 3",
      "language": "python",
      "name": "python3"
    },
    "language_info": {
      "codemirror_mode": {
        "name": "ipython",
        "version": 3
      },
      "file_extension": ".py",
      "mimetype": "text/x-python",
      "name": "python",
      "nbconvert_exporter": "python",
      "pygments_lexer": "ipython3",
      "version": "3.7.6"
    },
    "colab": {
      "provenance": [],
      "include_colab_link": true
    }
  },
  "nbformat": 4,
  "nbformat_minor": 0
}