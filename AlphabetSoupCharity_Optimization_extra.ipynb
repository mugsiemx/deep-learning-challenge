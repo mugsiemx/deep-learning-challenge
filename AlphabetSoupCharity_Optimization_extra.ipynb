{
  "cells": [
    {
      "cell_type": "markdown",
      "metadata": {
        "id": "view-in-github",
        "colab_type": "text"
      },
      "source": [
        "<a href=\"https://colab.research.google.com/github/mugsiemx/deep-learning-challenge/blob/main/AlphabetSoupCharity_Optimization_extra.ipynb\" target=\"_parent\"><img src=\"https://colab.research.google.com/assets/colab-badge.svg\" alt=\"Open In Colab\"/></a>"
      ]
    },
    {
      "cell_type": "markdown",
      "metadata": {
        "id": "Ahsk0UBXaPzo"
      },
      "source": [
        "## Preprocessing"
      ]
    },
    {
      "cell_type": "code",
      "source": [
        "# import the repository for the csv file\n",
        "! git clone https://github.com/mugsiemx/deep-learning-challenge"
      ],
      "metadata": {
        "id": "FnGqSNObDMuT",
        "colab": {
          "base_uri": "https://localhost:8080/"
        },
        "outputId": "64b81079-62f0-46cd-cf05-be739361f418"
      },
      "execution_count": 1,
      "outputs": [
        {
          "output_type": "stream",
          "name": "stdout",
          "text": [
            "Cloning into 'deep-learning-challenge'...\n",
            "remote: Enumerating objects: 166, done.\u001b[K\n",
            "remote: Counting objects: 100% (166/166), done.\u001b[K\n",
            "remote: Compressing objects: 100% (134/134), done.\u001b[K\n",
            "remote: Total 166 (delta 98), reused 52 (delta 29), pack-reused 0\u001b[K\n",
            "Receiving objects: 100% (166/166), 3.41 MiB | 11.51 MiB/s, done.\n",
            "Resolving deltas: 100% (98/98), done.\n"
          ]
        }
      ]
    },
    {
      "cell_type": "code",
      "execution_count": 2,
      "metadata": {
        "colab": {
          "base_uri": "https://localhost:8080/"
        },
        "id": "WzNBL7LyaPzq",
        "outputId": "490ce197-34b9-457e-c885-60771e8a1601"
      },
      "outputs": [
        {
          "output_type": "stream",
          "name": "stdout",
          "text": [
            "CPU times: user 7.76 ms, sys: 3.95 ms, total: 11.7 ms\n",
            "Wall time: 11.7 ms\n"
          ]
        },
        {
          "output_type": "execute_result",
          "data": {
            "text/plain": [
              "(EIN                        int64\n",
              " NAME                      string\n",
              " APPLICATION_TYPE          string\n",
              " AFFILIATION               string\n",
              " CLASSIFICATION            string\n",
              " USE_CASE                  string\n",
              " ORGANIZATION              string\n",
              " STATUS                     int64\n",
              " INCOME_AMT                string\n",
              " SPECIAL_CONSIDERATIONS    string\n",
              " ASK_AMT                    int64\n",
              " IS_SUCCESSFUL              int64\n",
              " dtype: object,\n",
              " (Delayed('int-3740ace6-ddcc-42b5-9290-092af380b802'), 12))"
            ]
          },
          "metadata": {},
          "execution_count": 2
        }
      ],
      "source": [
        "# Import our dependencies\n",
        "import matplotlib.pyplot as plt\n",
        "import dask.dataframe as dd\n",
        "import pandas as pd\n",
        "import numpy as np\n",
        "import tensorflow as tf\n",
        "from tensorflow import keras\n",
        "from imblearn.over_sampling import RandomOverSampler\n",
        "from sklearn.model_selection import train_test_split\n",
        "from sklearn.metrics import classification_report\n",
        "from sklearn.preprocessing import StandardScaler, LabelEncoder\n",
        "\n",
        "# read the CSV file from the Resources folder into a dask DataFrame\n",
        "## change the data types to strings and integers\n",
        "%time df = dd.read_csv('/content/deep-learning-challenge/Resources/charity_data.csv', low_memory=False,\\\n",
        "                       dtype={'APPLICATION_TYPE': 'string','AFFILIATION': 'string','CLASSIFICATION': 'string',\\\n",
        "                              'USE_CASE': 'string','ORGANIZATION': 'string','STATUS': 'int','INCOME_AMT': 'string',\\\n",
        "                              'SPECIAL_CONSIDERATIONS': 'string', 'NAME': 'string'}\\\n",
        "                       )\n",
        "# review the DataFrame\n",
        "df.dtypes, df.shape"
      ]
    },
    {
      "cell_type": "code",
      "execution_count": 3,
      "metadata": {
        "colab": {
          "base_uri": "https://localhost:8080/"
        },
        "id": "6ONtAijWaPzs",
        "outputId": "045548dc-0afd-41cb-816d-b7ee413f6512"
      },
      "outputs": [
        {
          "output_type": "stream",
          "name": "stdout",
          "text": [
            "<class 'dask.dataframe.core.DataFrame'>\n",
            "Columns: 11 entries, NAME to IS_SUCCESSFUL\n",
            "dtypes: int64(3), string(8)"
          ]
        },
        {
          "output_type": "execute_result",
          "data": {
            "text/plain": [
              "(None,\n",
              " NAME                      string\n",
              " APPLICATION_TYPE          string\n",
              " AFFILIATION               string\n",
              " CLASSIFICATION            string\n",
              " USE_CASE                  string\n",
              " ORGANIZATION              string\n",
              " STATUS                     int64\n",
              " INCOME_AMT                string\n",
              " SPECIAL_CONSIDERATIONS    string\n",
              " ASK_AMT                    int64\n",
              " IS_SUCCESSFUL              int64\n",
              " dtype: object)"
            ]
          },
          "metadata": {},
          "execution_count": 3
        }
      ],
      "source": [
        "# Drop the non-beneficial ID columns, 'EIN' and 'NAME'.\n",
        "# df = df.drop(['EIN','NAME'], axis=1)\n",
        "\n",
        "# revisited, dropping only EIN\n",
        "df = df.drop(['EIN'], axis=1)\n",
        "df.info(), df.dtypes"
      ]
    },
    {
      "cell_type": "code",
      "source": [
        "# create DataFrame with compute\n",
        "application_df = df.compute()\n",
        "application_df"
      ],
      "metadata": {
        "colab": {
          "base_uri": "https://localhost:8080/",
          "height": 921
        },
        "id": "HHxhSi0waq5V",
        "outputId": "6fcf7337-7241-4edc-8471-016304547e5f"
      },
      "execution_count": 4,
      "outputs": [
        {
          "output_type": "execute_result",
          "data": {
            "text/plain": [
              "                                                    NAME APPLICATION_TYPE  \\\n",
              "0                           BLUE KNIGHTS MOTORCYCLE CLUB              T10   \n",
              "1                 AMERICAN CHESAPEAKE CLUB CHARITABLE TR               T3   \n",
              "2                     ST CLOUD PROFESSIONAL FIREFIGHTERS               T5   \n",
              "3                         SOUTHSIDE ATHLETIC ASSOCIATION               T3   \n",
              "4               GENETIC RESEARCH INSTITUTE OF THE DESERT               T3   \n",
              "...                                                  ...              ...   \n",
              "34294              THE LIONS CLUB OF HONOLULU KAMEHAMEHA               T4   \n",
              "34295           INTERNATIONAL ASSOCIATION OF LIONS CLUBS               T4   \n",
              "34296                                PTA HAWAII CONGRESS               T3   \n",
              "34297  AMERICAN FEDERATION OF GOVERNMENT EMPLOYEES LO...               T5   \n",
              "34298                           WATERHOUSE CHARITABLE TR               T3   \n",
              "\n",
              "            AFFILIATION CLASSIFICATION      USE_CASE  ORGANIZATION  STATUS  \\\n",
              "0           Independent          C1000    ProductDev   Association       1   \n",
              "1           Independent          C2000  Preservation  Co-operative       1   \n",
              "2      CompanySponsored          C3000    ProductDev   Association       1   \n",
              "3      CompanySponsored          C2000  Preservation         Trust       1   \n",
              "4           Independent          C1000     Heathcare         Trust       1   \n",
              "...                 ...            ...           ...           ...     ...   \n",
              "34294       Independent          C1000    ProductDev   Association       1   \n",
              "34295  CompanySponsored          C3000    ProductDev   Association       1   \n",
              "34296  CompanySponsored          C2000  Preservation   Association       1   \n",
              "34297       Independent          C3000    ProductDev   Association       1   \n",
              "34298       Independent          C1000  Preservation  Co-operative       1   \n",
              "\n",
              "          INCOME_AMT SPECIAL_CONSIDERATIONS   ASK_AMT  IS_SUCCESSFUL  \n",
              "0                  0                      N      5000              1  \n",
              "1             1-9999                      N    108590              1  \n",
              "2                  0                      N      5000              0  \n",
              "3        10000-24999                      N      6692              1  \n",
              "4      100000-499999                      N    142590              1  \n",
              "...              ...                    ...       ...            ...  \n",
              "34294              0                      N      5000              0  \n",
              "34295              0                      N      5000              0  \n",
              "34296              0                      N      5000              0  \n",
              "34297              0                      N      5000              1  \n",
              "34298          1M-5M                      N  36500179              0  \n",
              "\n",
              "[34299 rows x 11 columns]"
            ],
            "text/html": [
              "\n",
              "  <div id=\"df-ce21ebf0-6cf2-4854-a051-23cd0a2f413e\">\n",
              "    <div class=\"colab-df-container\">\n",
              "      <div>\n",
              "<style scoped>\n",
              "    .dataframe tbody tr th:only-of-type {\n",
              "        vertical-align: middle;\n",
              "    }\n",
              "\n",
              "    .dataframe tbody tr th {\n",
              "        vertical-align: top;\n",
              "    }\n",
              "\n",
              "    .dataframe thead th {\n",
              "        text-align: right;\n",
              "    }\n",
              "</style>\n",
              "<table border=\"1\" class=\"dataframe\">\n",
              "  <thead>\n",
              "    <tr style=\"text-align: right;\">\n",
              "      <th></th>\n",
              "      <th>NAME</th>\n",
              "      <th>APPLICATION_TYPE</th>\n",
              "      <th>AFFILIATION</th>\n",
              "      <th>CLASSIFICATION</th>\n",
              "      <th>USE_CASE</th>\n",
              "      <th>ORGANIZATION</th>\n",
              "      <th>STATUS</th>\n",
              "      <th>INCOME_AMT</th>\n",
              "      <th>SPECIAL_CONSIDERATIONS</th>\n",
              "      <th>ASK_AMT</th>\n",
              "      <th>IS_SUCCESSFUL</th>\n",
              "    </tr>\n",
              "  </thead>\n",
              "  <tbody>\n",
              "    <tr>\n",
              "      <th>0</th>\n",
              "      <td>BLUE KNIGHTS MOTORCYCLE CLUB</td>\n",
              "      <td>T10</td>\n",
              "      <td>Independent</td>\n",
              "      <td>C1000</td>\n",
              "      <td>ProductDev</td>\n",
              "      <td>Association</td>\n",
              "      <td>1</td>\n",
              "      <td>0</td>\n",
              "      <td>N</td>\n",
              "      <td>5000</td>\n",
              "      <td>1</td>\n",
              "    </tr>\n",
              "    <tr>\n",
              "      <th>1</th>\n",
              "      <td>AMERICAN CHESAPEAKE CLUB CHARITABLE TR</td>\n",
              "      <td>T3</td>\n",
              "      <td>Independent</td>\n",
              "      <td>C2000</td>\n",
              "      <td>Preservation</td>\n",
              "      <td>Co-operative</td>\n",
              "      <td>1</td>\n",
              "      <td>1-9999</td>\n",
              "      <td>N</td>\n",
              "      <td>108590</td>\n",
              "      <td>1</td>\n",
              "    </tr>\n",
              "    <tr>\n",
              "      <th>2</th>\n",
              "      <td>ST CLOUD PROFESSIONAL FIREFIGHTERS</td>\n",
              "      <td>T5</td>\n",
              "      <td>CompanySponsored</td>\n",
              "      <td>C3000</td>\n",
              "      <td>ProductDev</td>\n",
              "      <td>Association</td>\n",
              "      <td>1</td>\n",
              "      <td>0</td>\n",
              "      <td>N</td>\n",
              "      <td>5000</td>\n",
              "      <td>0</td>\n",
              "    </tr>\n",
              "    <tr>\n",
              "      <th>3</th>\n",
              "      <td>SOUTHSIDE ATHLETIC ASSOCIATION</td>\n",
              "      <td>T3</td>\n",
              "      <td>CompanySponsored</td>\n",
              "      <td>C2000</td>\n",
              "      <td>Preservation</td>\n",
              "      <td>Trust</td>\n",
              "      <td>1</td>\n",
              "      <td>10000-24999</td>\n",
              "      <td>N</td>\n",
              "      <td>6692</td>\n",
              "      <td>1</td>\n",
              "    </tr>\n",
              "    <tr>\n",
              "      <th>4</th>\n",
              "      <td>GENETIC RESEARCH INSTITUTE OF THE DESERT</td>\n",
              "      <td>T3</td>\n",
              "      <td>Independent</td>\n",
              "      <td>C1000</td>\n",
              "      <td>Heathcare</td>\n",
              "      <td>Trust</td>\n",
              "      <td>1</td>\n",
              "      <td>100000-499999</td>\n",
              "      <td>N</td>\n",
              "      <td>142590</td>\n",
              "      <td>1</td>\n",
              "    </tr>\n",
              "    <tr>\n",
              "      <th>...</th>\n",
              "      <td>...</td>\n",
              "      <td>...</td>\n",
              "      <td>...</td>\n",
              "      <td>...</td>\n",
              "      <td>...</td>\n",
              "      <td>...</td>\n",
              "      <td>...</td>\n",
              "      <td>...</td>\n",
              "      <td>...</td>\n",
              "      <td>...</td>\n",
              "      <td>...</td>\n",
              "    </tr>\n",
              "    <tr>\n",
              "      <th>34294</th>\n",
              "      <td>THE LIONS CLUB OF HONOLULU KAMEHAMEHA</td>\n",
              "      <td>T4</td>\n",
              "      <td>Independent</td>\n",
              "      <td>C1000</td>\n",
              "      <td>ProductDev</td>\n",
              "      <td>Association</td>\n",
              "      <td>1</td>\n",
              "      <td>0</td>\n",
              "      <td>N</td>\n",
              "      <td>5000</td>\n",
              "      <td>0</td>\n",
              "    </tr>\n",
              "    <tr>\n",
              "      <th>34295</th>\n",
              "      <td>INTERNATIONAL ASSOCIATION OF LIONS CLUBS</td>\n",
              "      <td>T4</td>\n",
              "      <td>CompanySponsored</td>\n",
              "      <td>C3000</td>\n",
              "      <td>ProductDev</td>\n",
              "      <td>Association</td>\n",
              "      <td>1</td>\n",
              "      <td>0</td>\n",
              "      <td>N</td>\n",
              "      <td>5000</td>\n",
              "      <td>0</td>\n",
              "    </tr>\n",
              "    <tr>\n",
              "      <th>34296</th>\n",
              "      <td>PTA HAWAII CONGRESS</td>\n",
              "      <td>T3</td>\n",
              "      <td>CompanySponsored</td>\n",
              "      <td>C2000</td>\n",
              "      <td>Preservation</td>\n",
              "      <td>Association</td>\n",
              "      <td>1</td>\n",
              "      <td>0</td>\n",
              "      <td>N</td>\n",
              "      <td>5000</td>\n",
              "      <td>0</td>\n",
              "    </tr>\n",
              "    <tr>\n",
              "      <th>34297</th>\n",
              "      <td>AMERICAN FEDERATION OF GOVERNMENT EMPLOYEES LO...</td>\n",
              "      <td>T5</td>\n",
              "      <td>Independent</td>\n",
              "      <td>C3000</td>\n",
              "      <td>ProductDev</td>\n",
              "      <td>Association</td>\n",
              "      <td>1</td>\n",
              "      <td>0</td>\n",
              "      <td>N</td>\n",
              "      <td>5000</td>\n",
              "      <td>1</td>\n",
              "    </tr>\n",
              "    <tr>\n",
              "      <th>34298</th>\n",
              "      <td>WATERHOUSE CHARITABLE TR</td>\n",
              "      <td>T3</td>\n",
              "      <td>Independent</td>\n",
              "      <td>C1000</td>\n",
              "      <td>Preservation</td>\n",
              "      <td>Co-operative</td>\n",
              "      <td>1</td>\n",
              "      <td>1M-5M</td>\n",
              "      <td>N</td>\n",
              "      <td>36500179</td>\n",
              "      <td>0</td>\n",
              "    </tr>\n",
              "  </tbody>\n",
              "</table>\n",
              "<p>34299 rows × 11 columns</p>\n",
              "</div>\n",
              "      <button class=\"colab-df-convert\" onclick=\"convertToInteractive('df-ce21ebf0-6cf2-4854-a051-23cd0a2f413e')\"\n",
              "              title=\"Convert this dataframe to an interactive table.\"\n",
              "              style=\"display:none;\">\n",
              "        \n",
              "  <svg xmlns=\"http://www.w3.org/2000/svg\" height=\"24px\"viewBox=\"0 0 24 24\"\n",
              "       width=\"24px\">\n",
              "    <path d=\"M0 0h24v24H0V0z\" fill=\"none\"/>\n",
              "    <path d=\"M18.56 5.44l.94 2.06.94-2.06 2.06-.94-2.06-.94-.94-2.06-.94 2.06-2.06.94zm-11 1L8.5 8.5l.94-2.06 2.06-.94-2.06-.94L8.5 2.5l-.94 2.06-2.06.94zm10 10l.94 2.06.94-2.06 2.06-.94-2.06-.94-.94-2.06-.94 2.06-2.06.94z\"/><path d=\"M17.41 7.96l-1.37-1.37c-.4-.4-.92-.59-1.43-.59-.52 0-1.04.2-1.43.59L10.3 9.45l-7.72 7.72c-.78.78-.78 2.05 0 2.83L4 21.41c.39.39.9.59 1.41.59.51 0 1.02-.2 1.41-.59l7.78-7.78 2.81-2.81c.8-.78.8-2.07 0-2.86zM5.41 20L4 18.59l7.72-7.72 1.47 1.35L5.41 20z\"/>\n",
              "  </svg>\n",
              "      </button>\n",
              "      \n",
              "  <style>\n",
              "    .colab-df-container {\n",
              "      display:flex;\n",
              "      flex-wrap:wrap;\n",
              "      gap: 12px;\n",
              "    }\n",
              "\n",
              "    .colab-df-convert {\n",
              "      background-color: #E8F0FE;\n",
              "      border: none;\n",
              "      border-radius: 50%;\n",
              "      cursor: pointer;\n",
              "      display: none;\n",
              "      fill: #1967D2;\n",
              "      height: 32px;\n",
              "      padding: 0 0 0 0;\n",
              "      width: 32px;\n",
              "    }\n",
              "\n",
              "    .colab-df-convert:hover {\n",
              "      background-color: #E2EBFA;\n",
              "      box-shadow: 0px 1px 2px rgba(60, 64, 67, 0.3), 0px 1px 3px 1px rgba(60, 64, 67, 0.15);\n",
              "      fill: #174EA6;\n",
              "    }\n",
              "\n",
              "    [theme=dark] .colab-df-convert {\n",
              "      background-color: #3B4455;\n",
              "      fill: #D2E3FC;\n",
              "    }\n",
              "\n",
              "    [theme=dark] .colab-df-convert:hover {\n",
              "      background-color: #434B5C;\n",
              "      box-shadow: 0px 1px 3px 1px rgba(0, 0, 0, 0.15);\n",
              "      filter: drop-shadow(0px 1px 2px rgba(0, 0, 0, 0.3));\n",
              "      fill: #FFFFFF;\n",
              "    }\n",
              "  </style>\n",
              "\n",
              "      <script>\n",
              "        const buttonEl =\n",
              "          document.querySelector('#df-ce21ebf0-6cf2-4854-a051-23cd0a2f413e button.colab-df-convert');\n",
              "        buttonEl.style.display =\n",
              "          google.colab.kernel.accessAllowed ? 'block' : 'none';\n",
              "\n",
              "        async function convertToInteractive(key) {\n",
              "          const element = document.querySelector('#df-ce21ebf0-6cf2-4854-a051-23cd0a2f413e');\n",
              "          const dataTable =\n",
              "            await google.colab.kernel.invokeFunction('convertToInteractive',\n",
              "                                                     [key], {});\n",
              "          if (!dataTable) return;\n",
              "\n",
              "          const docLinkHtml = 'Like what you see? Visit the ' +\n",
              "            '<a target=\"_blank\" href=https://colab.research.google.com/notebooks/data_table.ipynb>data table notebook</a>'\n",
              "            + ' to learn more about interactive tables.';\n",
              "          element.innerHTML = '';\n",
              "          dataTable['output_type'] = 'display_data';\n",
              "          await google.colab.output.renderOutput(dataTable, element);\n",
              "          const docLink = document.createElement('div');\n",
              "          docLink.innerHTML = docLinkHtml;\n",
              "          element.appendChild(docLink);\n",
              "        }\n",
              "      </script>\n",
              "    </div>\n",
              "  </div>\n",
              "  "
            ]
          },
          "metadata": {},
          "execution_count": 4
        }
      ]
    },
    {
      "cell_type": "markdown",
      "source": [
        "# Analyze individual columns for optimization opportunities"
      ],
      "metadata": {
        "id": "An1ouGyYm29r"
      }
    },
    {
      "cell_type": "code",
      "execution_count": 5,
      "metadata": {
        "colab": {
          "base_uri": "https://localhost:8080/"
        },
        "id": "2I6Xxhb4aPzs",
        "outputId": "83ff739a-b012-4fcd-cf2f-86e6065fb3f2"
      },
      "outputs": [
        {
          "output_type": "execute_result",
          "data": {
            "text/plain": [
              "NAME                      19568\n",
              "APPLICATION_TYPE             17\n",
              "AFFILIATION                   6\n",
              "CLASSIFICATION               71\n",
              "USE_CASE                      5\n",
              "ORGANIZATION                  4\n",
              "STATUS                        2\n",
              "INCOME_AMT                    9\n",
              "SPECIAL_CONSIDERATIONS        2\n",
              "ASK_AMT                    8747\n",
              "IS_SUCCESSFUL                 2\n",
              "dtype: int64"
            ]
          },
          "metadata": {},
          "execution_count": 5
        }
      ],
      "source": [
        "# Determine the number of unique values in each column.\n",
        "application_df.nunique()"
      ]
    },
    {
      "cell_type": "markdown",
      "source": [
        "* NAME"
      ],
      "metadata": {
        "id": "aPBxueZfNM5t"
      }
    },
    {
      "cell_type": "code",
      "source": [
        "nam_counts = application_df['NAME'].value_counts()\n",
        "nam_counts"
      ],
      "metadata": {
        "colab": {
          "base_uri": "https://localhost:8080/"
        },
        "id": "zsJXdfMmNJEI",
        "outputId": "03e0d2ec-629d-46e6-ccb2-fafa4877ba5e"
      },
      "execution_count": 6,
      "outputs": [
        {
          "output_type": "execute_result",
          "data": {
            "text/plain": [
              "PARENT BOOSTER USA INC                               1260\n",
              "TOPS CLUB INC                                         765\n",
              "UNITED STATES BOWLING CONGRESS INC                    700\n",
              "WASHINGTON STATE UNIVERSITY                           492\n",
              "AMATEUR ATHLETIC UNION OF THE UNITED STATES INC       408\n",
              "                                                     ... \n",
              "POM-POMS CASTLE                                         1\n",
              "FOUNDATION FOR INTERVENTIONAL RADIOLOGICAL RES...       1\n",
              "DARE U TO CARE OUTREACH MINISTRY                        1\n",
              "GEFFEN PLAYHOUSE INC                                    1\n",
              "WATERHOUSE CHARITABLE TR                                1\n",
              "Name: NAME, Length: 19568, dtype: Int64"
            ]
          },
          "metadata": {},
          "execution_count": 6
        }
      ]
    },
    {
      "cell_type": "code",
      "source": [
        "application_df.groupby(['IS_SUCCESSFUL','NAME'])['IS_SUCCESSFUL'].agg('count')"
      ],
      "metadata": {
        "colab": {
          "base_uri": "https://localhost:8080/"
        },
        "id": "523VOZH3NJ5-",
        "outputId": "32fbdc9b-16f6-4d44-e522-8ffa25fa4b94"
      },
      "execution_count": 7,
      "outputs": [
        {
          "output_type": "execute_result",
          "data": {
            "text/plain": [
              "IS_SUCCESSFUL  NAME                                     \n",
              "0              100 BLACK MEN OF WEST GEORGIA INC            1\n",
              "               1150 WEBSTER STREET INC                      1\n",
              "               146TH ALUMNI ASSOCIATION                     1\n",
              "               1K NATION INC                                1\n",
              "               2041 FOUNDATION INCORPORATED                 1\n",
              "                                                           ..\n",
              "1              ZOZ AMBA FOUNDATION                          1\n",
              "               ZUMAS RESCUE RANCH INC                       1\n",
              "               ZUNEN AGRIBUSINESS SOLUTIONS                 1\n",
              "               ZUNI MOUNTAIN ENVIRONMENTAL ACTION LEAGUE    1\n",
              "               ZURICH PUBLISHING FOUNDATION INC             1\n",
              "Name: IS_SUCCESSFUL, Length: 19828, dtype: int64"
            ]
          },
          "metadata": {},
          "execution_count": 7
        }
      ]
    },
    {
      "cell_type": "markdown",
      "source": [
        "* APPLICATION_TYPE"
      ],
      "metadata": {
        "id": "xFj9VRK6v_W7"
      }
    },
    {
      "cell_type": "code",
      "source": [
        "app_counts = application_df['APPLICATION_TYPE'].value_counts()\n",
        "app_counts"
      ],
      "metadata": {
        "colab": {
          "base_uri": "https://localhost:8080/"
        },
        "id": "gHSaGGFTwVpq",
        "outputId": "7032eeb9-4ef3-4a71-88a0-09f1e106922f"
      },
      "execution_count": 8,
      "outputs": [
        {
          "output_type": "execute_result",
          "data": {
            "text/plain": [
              "T3     27037\n",
              "T4      1542\n",
              "T6      1216\n",
              "T5      1173\n",
              "T19     1065\n",
              "T8       737\n",
              "T7       725\n",
              "T10      528\n",
              "T9       156\n",
              "T13       66\n",
              "T12       27\n",
              "T2        16\n",
              "T25        3\n",
              "T14        3\n",
              "T29        2\n",
              "T15        2\n",
              "T17        1\n",
              "Name: APPLICATION_TYPE, dtype: Int64"
            ]
          },
          "metadata": {},
          "execution_count": 8
        }
      ]
    },
    {
      "cell_type": "code",
      "source": [
        "application_df.groupby(['IS_SUCCESSFUL','APPLICATION_TYPE'])['IS_SUCCESSFUL'].agg('count')"
      ],
      "metadata": {
        "colab": {
          "base_uri": "https://localhost:8080/"
        },
        "id": "0uky7D5rtG5A",
        "outputId": "1ecbaeec-e006-4994-cc81-bac6fe231a09"
      },
      "execution_count": 9,
      "outputs": [
        {
          "output_type": "execute_result",
          "data": {
            "text/plain": [
              "IS_SUCCESSFUL  APPLICATION_TYPE\n",
              "0              T10                    64\n",
              "               T12                     3\n",
              "               T13                     5\n",
              "               T19                   864\n",
              "               T2                      7\n",
              "               T25                     1\n",
              "               T3                  12649\n",
              "               T4                   1071\n",
              "               T5                    273\n",
              "               T6                    316\n",
              "               T7                    315\n",
              "               T8                    426\n",
              "               T9                     44\n",
              "1              T10                   464\n",
              "               T12                    24\n",
              "               T13                    61\n",
              "               T14                     3\n",
              "               T15                     2\n",
              "               T17                     1\n",
              "               T19                   201\n",
              "               T2                      9\n",
              "               T25                     2\n",
              "               T29                     2\n",
              "               T3                  14388\n",
              "               T4                    471\n",
              "               T5                    900\n",
              "               T6                    900\n",
              "               T7                    410\n",
              "               T8                    311\n",
              "               T9                    112\n",
              "Name: IS_SUCCESSFUL, dtype: int64"
            ]
          },
          "metadata": {},
          "execution_count": 9
        }
      ]
    },
    {
      "cell_type": "markdown",
      "source": [
        "* AFFILIATION"
      ],
      "metadata": {
        "id": "kJaiI-DEwPXO"
      }
    },
    {
      "cell_type": "code",
      "source": [
        "afl_counts = application_df['AFFILIATION'].value_counts()\n",
        "afl_counts"
      ],
      "metadata": {
        "colab": {
          "base_uri": "https://localhost:8080/"
        },
        "id": "i1UYdUdZweed",
        "outputId": "fdb8615e-713b-49fc-f95f-9d4119081ff2"
      },
      "execution_count": 10,
      "outputs": [
        {
          "output_type": "execute_result",
          "data": {
            "text/plain": [
              "Independent         18480\n",
              "CompanySponsored    15705\n",
              "Family/Parent          64\n",
              "National               33\n",
              "Regional               13\n",
              "Other                   4\n",
              "Name: AFFILIATION, dtype: Int64"
            ]
          },
          "metadata": {},
          "execution_count": 10
        }
      ]
    },
    {
      "cell_type": "code",
      "source": [
        "application_df.groupby(['IS_SUCCESSFUL','AFFILIATION'])['IS_SUCCESSFUL'].agg('count')"
      ],
      "metadata": {
        "colab": {
          "base_uri": "https://localhost:8080/"
        },
        "id": "8y7lhbRpmX5E",
        "outputId": "11280ba0-e72c-4f01-d62a-09ed04518d67"
      },
      "execution_count": 11,
      "outputs": [
        {
          "output_type": "execute_result",
          "data": {
            "text/plain": [
              "IS_SUCCESSFUL  AFFILIATION     \n",
              "0              CompanySponsored    10493\n",
              "               Family/Parent          28\n",
              "               Independent          5499\n",
              "               National               13\n",
              "               Regional                5\n",
              "1              CompanySponsored     5212\n",
              "               Family/Parent          36\n",
              "               Independent         12981\n",
              "               National               20\n",
              "               Other                   4\n",
              "               Regional                8\n",
              "Name: IS_SUCCESSFUL, dtype: int64"
            ]
          },
          "metadata": {},
          "execution_count": 11
        }
      ]
    },
    {
      "cell_type": "markdown",
      "source": [
        "* CLASSIFICATION"
      ],
      "metadata": {
        "id": "Q9WmAI33wlFc"
      }
    },
    {
      "cell_type": "code",
      "source": [
        "cls_counts = application_df['CLASSIFICATION'].value_counts()\n",
        "cls_counts"
      ],
      "metadata": {
        "colab": {
          "base_uri": "https://localhost:8080/"
        },
        "id": "aqMoTOWtwuH-",
        "outputId": "2e7d8177-4c64-46af-81a1-8ac79427c762"
      },
      "execution_count": 12,
      "outputs": [
        {
          "output_type": "execute_result",
          "data": {
            "text/plain": [
              "C1000    17326\n",
              "C2000     6074\n",
              "C1200     4837\n",
              "C3000     1918\n",
              "C2100     1883\n",
              "         ...  \n",
              "C5200        1\n",
              "C2600        1\n",
              "C4200        1\n",
              "C2190        1\n",
              "C2150        1\n",
              "Name: CLASSIFICATION, Length: 71, dtype: Int64"
            ]
          },
          "metadata": {},
          "execution_count": 12
        }
      ]
    },
    {
      "cell_type": "code",
      "source": [
        "application_df.groupby(['IS_SUCCESSFUL','CLASSIFICATION'])['IS_SUCCESSFUL'].agg('count')"
      ],
      "metadata": {
        "colab": {
          "base_uri": "https://localhost:8080/"
        },
        "id": "C2d4eFwVnQ2U",
        "outputId": "1db95e1e-33a0-4ed8-9e39-47f35fc2063f"
      },
      "execution_count": 13,
      "outputs": [
        {
          "output_type": "execute_result",
          "data": {
            "text/plain": [
              "IS_SUCCESSFUL  CLASSIFICATION\n",
              "0              C0                   1\n",
              "               C1000             7566\n",
              "               C1200             2599\n",
              "               C1230                6\n",
              "               C1236                1\n",
              "                                 ... \n",
              "1              C7200               28\n",
              "               C7210                7\n",
              "               C8000               14\n",
              "               C8200                1\n",
              "               C8210                1\n",
              "Name: IS_SUCCESSFUL, Length: 108, dtype: int64"
            ]
          },
          "metadata": {},
          "execution_count": 13
        }
      ]
    },
    {
      "cell_type": "markdown",
      "source": [
        "* USE_CASE"
      ],
      "metadata": {
        "id": "OscEgEzvw0M_"
      }
    },
    {
      "cell_type": "code",
      "source": [
        "use_counts = application_df['USE_CASE'].value_counts()\n",
        "use_counts"
      ],
      "metadata": {
        "colab": {
          "base_uri": "https://localhost:8080/"
        },
        "id": "5WLtFpO2w4F5",
        "outputId": "823269d8-04d3-41ca-88ff-474a69d103f3"
      },
      "execution_count": 14,
      "outputs": [
        {
          "output_type": "execute_result",
          "data": {
            "text/plain": [
              "Preservation     28095\n",
              "ProductDev        5671\n",
              "CommunityServ      384\n",
              "Heathcare          146\n",
              "Other                3\n",
              "Name: USE_CASE, dtype: Int64"
            ]
          },
          "metadata": {},
          "execution_count": 14
        }
      ]
    },
    {
      "cell_type": "code",
      "source": [
        "application_df.groupby(['IS_SUCCESSFUL','USE_CASE'])['IS_SUCCESSFUL'].agg('count')"
      ],
      "metadata": {
        "colab": {
          "base_uri": "https://localhost:8080/"
        },
        "id": "JNBOpMTMnRAD",
        "outputId": "b321001a-251d-43b5-81ed-09e6d6e1a488"
      },
      "execution_count": 15,
      "outputs": [
        {
          "output_type": "execute_result",
          "data": {
            "text/plain": [
              "IS_SUCCESSFUL  USE_CASE     \n",
              "0              CommunityServ      250\n",
              "               Heathcare           83\n",
              "               Preservation     12978\n",
              "               ProductDev        2727\n",
              "1              CommunityServ      134\n",
              "               Heathcare           63\n",
              "               Other                3\n",
              "               Preservation     15117\n",
              "               ProductDev        2944\n",
              "Name: IS_SUCCESSFUL, dtype: int64"
            ]
          },
          "metadata": {},
          "execution_count": 15
        }
      ]
    },
    {
      "cell_type": "markdown",
      "source": [
        "* ORGANIZATION"
      ],
      "metadata": {
        "id": "tqcDME6fxAG7"
      }
    },
    {
      "cell_type": "code",
      "source": [
        "org_counts = application_df['ORGANIZATION'].value_counts()\n",
        "org_counts"
      ],
      "metadata": {
        "colab": {
          "base_uri": "https://localhost:8080/"
        },
        "id": "vUx8jBm4vriL",
        "outputId": "097b1c68-425a-4e8d-a708-c6fe17b94f2e"
      },
      "execution_count": 16,
      "outputs": [
        {
          "output_type": "execute_result",
          "data": {
            "text/plain": [
              "Trust           23515\n",
              "Association     10255\n",
              "Co-operative      486\n",
              "Corporation        43\n",
              "Name: ORGANIZATION, dtype: Int64"
            ]
          },
          "metadata": {},
          "execution_count": 16
        }
      ]
    },
    {
      "cell_type": "code",
      "source": [
        "application_df.groupby(['IS_SUCCESSFUL','ORGANIZATION'])['IS_SUCCESSFUL'].agg('count')"
      ],
      "metadata": {
        "colab": {
          "base_uri": "https://localhost:8080/"
        },
        "id": "PgTjJXAtnRL-",
        "outputId": "e35a4b4a-f0d7-499e-a4c6-a5b6d0082e5b"
      },
      "execution_count": 17,
      "outputs": [
        {
          "output_type": "execute_result",
          "data": {
            "text/plain": [
              "IS_SUCCESSFUL  ORGANIZATION\n",
              "0              Association      6202\n",
              "               Co-operative      119\n",
              "               Corporation        10\n",
              "               Trust            9707\n",
              "1              Association      4053\n",
              "               Co-operative      367\n",
              "               Corporation        33\n",
              "               Trust           13808\n",
              "Name: IS_SUCCESSFUL, dtype: int64"
            ]
          },
          "metadata": {},
          "execution_count": 17
        }
      ]
    },
    {
      "cell_type": "markdown",
      "source": [
        "* STATUS"
      ],
      "metadata": {
        "id": "DNnqme7FyTxN"
      }
    },
    {
      "cell_type": "code",
      "source": [
        "sts_counts = application_df['STATUS'].value_counts()\n",
        "sts_counts"
      ],
      "metadata": {
        "colab": {
          "base_uri": "https://localhost:8080/"
        },
        "id": "HGizG0TznliI",
        "outputId": "2e1f2663-7608-4838-bde7-79e858052dfe"
      },
      "execution_count": 18,
      "outputs": [
        {
          "output_type": "execute_result",
          "data": {
            "text/plain": [
              "1    34294\n",
              "0        5\n",
              "Name: STATUS, dtype: int64"
            ]
          },
          "metadata": {},
          "execution_count": 18
        }
      ]
    },
    {
      "cell_type": "code",
      "source": [
        "application_df.groupby(['IS_SUCCESSFUL','STATUS'])['IS_SUCCESSFUL'].agg('count')"
      ],
      "metadata": {
        "colab": {
          "base_uri": "https://localhost:8080/"
        },
        "id": "l4blWy1ZySaN",
        "outputId": "b86cc0aa-e6c4-42b4-e976-646c0ca6308e"
      },
      "execution_count": 19,
      "outputs": [
        {
          "output_type": "execute_result",
          "data": {
            "text/plain": [
              "IS_SUCCESSFUL  STATUS\n",
              "0              0             2\n",
              "               1         16036\n",
              "1              0             3\n",
              "               1         18258\n",
              "Name: IS_SUCCESSFUL, dtype: int64"
            ]
          },
          "metadata": {},
          "execution_count": 19
        }
      ]
    },
    {
      "cell_type": "markdown",
      "source": [
        "* INCOME_AMT"
      ],
      "metadata": {
        "id": "cCy9qe8VxOBq"
      }
    },
    {
      "cell_type": "code",
      "source": [
        "inc_counts = application_df['INCOME_AMT'].value_counts()\n",
        "inc_counts"
      ],
      "metadata": {
        "colab": {
          "base_uri": "https://localhost:8080/"
        },
        "id": "UCQkA9xAnb_i",
        "outputId": "b4316341-7cfc-434f-d47e-3116b11cc399"
      },
      "execution_count": 20,
      "outputs": [
        {
          "output_type": "execute_result",
          "data": {
            "text/plain": [
              "0                24388\n",
              "25000-99999       3747\n",
              "100000-499999     3374\n",
              "1M-5M              955\n",
              "1-9999             728\n",
              "10000-24999        543\n",
              "10M-50M            240\n",
              "5M-10M             185\n",
              "50M+               139\n",
              "Name: INCOME_AMT, dtype: Int64"
            ]
          },
          "metadata": {},
          "execution_count": 20
        }
      ]
    },
    {
      "cell_type": "code",
      "source": [
        "application_df.groupby(['IS_SUCCESSFUL','INCOME_AMT'])['IS_SUCCESSFUL'].agg('count')"
      ],
      "metadata": {
        "colab": {
          "base_uri": "https://localhost:8080/"
        },
        "id": "hGS33IYaxS8q",
        "outputId": "c8e94af3-35ee-41f7-d39b-290648c21b19"
      },
      "execution_count": 21,
      "outputs": [
        {
          "output_type": "execute_result",
          "data": {
            "text/plain": [
              "IS_SUCCESSFUL  INCOME_AMT   \n",
              "0              0                11811\n",
              "               1-9999             175\n",
              "               10000-24999        175\n",
              "               100000-499999     1422\n",
              "               10M-50M            143\n",
              "               1M-5M              510\n",
              "               25000-99999       1612\n",
              "               50M+                92\n",
              "               5M-10M              98\n",
              "1              0                12577\n",
              "               1-9999             553\n",
              "               10000-24999        368\n",
              "               100000-499999     1952\n",
              "               10M-50M             97\n",
              "               1M-5M              445\n",
              "               25000-99999       2135\n",
              "               50M+                47\n",
              "               5M-10M              87\n",
              "Name: IS_SUCCESSFUL, dtype: int64"
            ]
          },
          "metadata": {},
          "execution_count": 21
        }
      ]
    },
    {
      "cell_type": "markdown",
      "source": [
        "* SPECIAL_CONSIDERATIONS"
      ],
      "metadata": {
        "id": "JuoBJkP0ykFz"
      }
    },
    {
      "cell_type": "code",
      "source": [
        "spc_counts = application_df['SPECIAL_CONSIDERATIONS'].value_counts()\n",
        "spc_counts"
      ],
      "metadata": {
        "colab": {
          "base_uri": "https://localhost:8080/"
        },
        "id": "JVjJyrEP47mq",
        "outputId": "e4867b96-9271-4a9d-87a2-76d2594edebc"
      },
      "execution_count": 22,
      "outputs": [
        {
          "output_type": "execute_result",
          "data": {
            "text/plain": [
              "N    34272\n",
              "Y       27\n",
              "Name: SPECIAL_CONSIDERATIONS, dtype: Int64"
            ]
          },
          "metadata": {},
          "execution_count": 22
        }
      ]
    },
    {
      "cell_type": "code",
      "source": [
        "application_df.groupby(['IS_SUCCESSFUL','SPECIAL_CONSIDERATIONS'])['IS_SUCCESSFUL'].agg('count')"
      ],
      "metadata": {
        "colab": {
          "base_uri": "https://localhost:8080/"
        },
        "id": "IEDlJvbJykVL",
        "outputId": "6667538d-620d-451d-af5d-10d38a8d21af"
      },
      "execution_count": 23,
      "outputs": [
        {
          "output_type": "execute_result",
          "data": {
            "text/plain": [
              "IS_SUCCESSFUL  SPECIAL_CONSIDERATIONS\n",
              "0              N                         16028\n",
              "               Y                            10\n",
              "1              N                         18244\n",
              "               Y                            17\n",
              "Name: IS_SUCCESSFUL, dtype: int64"
            ]
          },
          "metadata": {},
          "execution_count": 23
        }
      ]
    },
    {
      "cell_type": "markdown",
      "source": [
        "* ASK_AMT"
      ],
      "metadata": {
        "id": "HCID8ftoxZce"
      }
    },
    {
      "cell_type": "code",
      "source": [
        "ask_counts = application_df['ASK_AMT'].value_counts()\n",
        "ask_counts"
      ],
      "metadata": {
        "colab": {
          "base_uri": "https://localhost:8080/"
        },
        "id": "R8wnWkNZnle7",
        "outputId": "303616d4-391d-4aef-d1c6-912ede91f85a"
      },
      "execution_count": 24,
      "outputs": [
        {
          "output_type": "execute_result",
          "data": {
            "text/plain": [
              "5000        25398\n",
              "10478           3\n",
              "15583           3\n",
              "63981           3\n",
              "6725            3\n",
              "            ...  \n",
              "5371754         1\n",
              "30060           1\n",
              "43091152        1\n",
              "18683           1\n",
              "36500179        1\n",
              "Name: ASK_AMT, Length: 8747, dtype: int64"
            ]
          },
          "metadata": {},
          "execution_count": 24
        }
      ]
    },
    {
      "cell_type": "code",
      "source": [
        "application_df.groupby(['IS_SUCCESSFUL','ASK_AMT'])['IS_SUCCESSFUL'].agg('count')"
      ],
      "metadata": {
        "colab": {
          "base_uri": "https://localhost:8080/"
        },
        "id": "s1BTxYoUxeLx",
        "outputId": "0f682aa7-f50f-4b01-a674-09ec27eaf9b7"
      },
      "execution_count": 25,
      "outputs": [
        {
          "output_type": "execute_result",
          "data": {
            "text/plain": [
              "IS_SUCCESSFUL  ASK_AMT   \n",
              "0              5000          12095\n",
              "               5006              2\n",
              "               5040              1\n",
              "               5044              1\n",
              "               5050              1\n",
              "                             ...  \n",
              "1              1281905997        1\n",
              "               1736232349        1\n",
              "               2310256039        1\n",
              "               3391919220        1\n",
              "               8597806340        1\n",
              "Name: IS_SUCCESSFUL, Length: 8823, dtype: int64"
            ]
          },
          "metadata": {},
          "execution_count": 25
        }
      ]
    },
    {
      "cell_type": "markdown",
      "source": [
        "\n",
        "# Create bins for features with a low number of \"bucket\" counts\n",
        "\n",
        "---\n",
        "\n"
      ],
      "metadata": {
        "id": "4pwXimnyow3c"
      }
    },
    {
      "cell_type": "code",
      "source": [
        "# NAME - Revise default bins\n",
        "name_types_to_replace = nam_counts[nam_counts < 100].index.values\n",
        "    \n",
        "# # Replace in dataframe\n",
        "for nam in name_types_to_replace:\n",
        "    application_df['NAME'] = application_df['NAME'].replace(nam,\"Other\")\n",
        "\n",
        "# Check to make sure binning was successful\n",
        "application_df['NAME'].value_counts()"
      ],
      "metadata": {
        "colab": {
          "base_uri": "https://localhost:8080/"
        },
        "id": "edqEXHv8N6Y_",
        "outputId": "9960ac00-bdc1-4c63-febd-31e66e98d7c6"
      },
      "execution_count": 26,
      "outputs": [
        {
          "output_type": "execute_result",
          "data": {
            "text/plain": [
              "Other                                                25987\n",
              "PARENT BOOSTER USA INC                                1260\n",
              "TOPS CLUB INC                                          765\n",
              "UNITED STATES BOWLING CONGRESS INC                     700\n",
              "WASHINGTON STATE UNIVERSITY                            492\n",
              "AMATEUR ATHLETIC UNION OF THE UNITED STATES INC        408\n",
              "PTA TEXAS CONGRESS                                     368\n",
              "SOROPTIMIST INTERNATIONAL OF THE AMERICAS INC          331\n",
              "ALPHA PHI SIGMA                                        313\n",
              "TOASTMASTERS INTERNATIONAL                             293\n",
              "MOST WORSHIPFUL STRINGER FREE AND ACCEPTED MASONS      287\n",
              "LITTLE LEAGUE BASEBALL INC                             277\n",
              "INTERNATIONAL ASSOCIATION OF LIONS CLUBS               266\n",
              "MOMS CLUB                                              210\n",
              "INTERNATIONAL ASSOCIATION OF SHEET METAL AIR R...      206\n",
              "AMERICAN ASSOCIATION OF UNIVERSITY WOMEN               197\n",
              "FARMERS EDUCATIONAL AND COOPERATIVE UNION OF A...      166\n",
              "KNIGHTS OF COLUMBUS                                    158\n",
              "HABITAT FOR HUMANITY INTERNATIONAL INC                 154\n",
              "TENNESSEE ORDER OF THE EASTERN STAR                    151\n",
              "VETERANS OF FOREIGN WARS OF THE UNITED STATES ...      144\n",
              "PTA UTAH CONGRESS                                      140\n",
              "THE UNITED STATES PONY CLUBS INC                       136\n",
              "CIVITAN INTERNATIONAL                                  131\n",
              "SIGMA BETA DELTA INC                                   127\n",
              "HONOR SOCIETY OF PHI KAPPA PHI                         107\n",
              "MONTANA 4-H FOUNDATION INC                             107\n",
              "WASHINGTON STATE GRANGE                                106\n",
              "UNIVERSITY OF WYOMING                                  105\n",
              "DEMOLAY INTERNATIONAL                                  104\n",
              "SERTOMA INC                                            103\n",
              "Name: NAME, dtype: Int64"
            ]
          },
          "metadata": {},
          "execution_count": 26
        }
      ]
    },
    {
      "cell_type": "code",
      "execution_count": 27,
      "metadata": {
        "id": "EZe6qfotaPzt",
        "outputId": "204868d4-08c8-4acd-9baa-84543536aba2",
        "colab": {
          "base_uri": "https://localhost:8080/"
        }
      },
      "outputs": [
        {
          "output_type": "execute_result",
          "data": {
            "text/plain": [
              "T3       27037\n",
              "T4        1542\n",
              "T6        1216\n",
              "T5        1173\n",
              "T19       1065\n",
              "T8         737\n",
              "T7         725\n",
              "T10        528\n",
              "Other      276\n",
              "Name: APPLICATION_TYPE, dtype: Int64"
            ]
          },
          "metadata": {},
          "execution_count": 27
        }
      ],
      "source": [
        "# APPLICATION_TYPE - Revise default bins\n",
        "application_types_to_replace = app_counts[app_counts < 500].index.values\n",
        "    \n",
        "# # Replace in dataframe\n",
        "for app in application_types_to_replace:\n",
        "    application_df['APPLICATION_TYPE'] = application_df['APPLICATION_TYPE'].replace(app,\"Other\")\n",
        "\n",
        "# Check to make sure binning was successful\n",
        "application_df['APPLICATION_TYPE'].value_counts()"
      ]
    },
    {
      "cell_type": "code",
      "source": [
        "# # AFFILIATION - Revise default bins\n",
        "# affiliations_to_replace = afl_counts[afl_counts < 15000].index.values\n",
        "\n",
        "# # Replace in dataframe\n",
        "# for afl in affiliations_to_replace:\n",
        "#     application_df['AFFILIATION'] = application_df['AFFILIATION'].replace(afl,\"Other\")\n",
        "    \n",
        "# # Check to make sure binning was successful\n",
        "# application_df['AFFILIATION'].value_counts()"
      ],
      "metadata": {
        "id": "L1X1pj99sxl1"
      },
      "execution_count": 28,
      "outputs": []
    },
    {
      "cell_type": "code",
      "execution_count": 29,
      "metadata": {
        "id": "gu-SfyiXaPzt",
        "outputId": "9ca126be-cbd8-4560-e884-71e19ede15f1",
        "colab": {
          "base_uri": "https://localhost:8080/"
        }
      },
      "outputs": [
        {
          "output_type": "execute_result",
          "data": {
            "text/plain": [
              "C1000    17326\n",
              "C2000     6074\n",
              "C1200     4837\n",
              "C3000     1918\n",
              "C2100     1883\n",
              "C7000      777\n",
              "Other      669\n",
              "C1700      287\n",
              "C4000      194\n",
              "C5000      116\n",
              "C1270      114\n",
              "C2700      104\n",
              "Name: CLASSIFICATION, dtype: Int64"
            ]
          },
          "metadata": {},
          "execution_count": 29
        }
      ],
      "source": [
        "# CLASSIFICATION - Revise default bins\n",
        "classification_to_replace = cls_counts[cls_counts < 100].index.values\n",
        "\n",
        "# Replace in dataframe\n",
        "for cls in classification_to_replace:\n",
        "    application_df['CLASSIFICATION'] = application_df['CLASSIFICATION'].replace(cls,\"Other\")\n",
        "    \n",
        "# Check to make sure binning was successful\n",
        "application_df['CLASSIFICATION'].value_counts()"
      ]
    },
    {
      "cell_type": "code",
      "source": [
        "# USE_CASE - Revise default bins\n",
        "use_case_to_replace = use_counts[use_counts < 2000].index.values\n",
        "\n",
        "# Replace in dataframe\n",
        "for use in use_case_to_replace:\n",
        "    application_df['USE_CASE'] = application_df['USE_CASE'].replace(use,\"Other\")\n",
        "    \n",
        "# Check to make sure binning was successful\n",
        "application_df['USE_CASE'].value_counts()"
      ],
      "metadata": {
        "colab": {
          "base_uri": "https://localhost:8080/"
        },
        "id": "gvuZIcLP6NPQ",
        "outputId": "34b9c4bc-26bf-4e7b-d74a-bb22b09c77a3"
      },
      "execution_count": 30,
      "outputs": [
        {
          "output_type": "execute_result",
          "data": {
            "text/plain": [
              "Preservation    28095\n",
              "ProductDev       5671\n",
              "Other             533\n",
              "Name: USE_CASE, dtype: Int64"
            ]
          },
          "metadata": {},
          "execution_count": 30
        }
      ]
    },
    {
      "cell_type": "code",
      "source": [
        "# ASK_AMT - Revise default bins\n",
        "application_df['ask_amt_bin'] = pd.qcut(application_df['ASK_AMT'], duplicates='drop', q=10)\n",
        "application_df.groupby(['IS_SUCCESSFUL','ask_amt_bin'])['IS_SUCCESSFUL'].agg('count')"
      ],
      "metadata": {
        "colab": {
          "base_uri": "https://localhost:8080/"
        },
        "id": "ET1L4zQH7ma5",
        "outputId": "7dc31b85-8b09-4f1d-f436-9d73c809fabd"
      },
      "execution_count": 31,
      "outputs": [
        {
          "output_type": "execute_result",
          "data": {
            "text/plain": [
              "IS_SUCCESSFUL  ask_amt_bin             \n",
              "0              (4999.999, 30898.8]         12899\n",
              "               (30898.8, 196546.2]          1462\n",
              "               (196546.2, 8597806340.0]     1677\n",
              "1              (4999.999, 30898.8]         14540\n",
              "               (30898.8, 196546.2]          1968\n",
              "               (196546.2, 8597806340.0]     1753\n",
              "Name: IS_SUCCESSFUL, dtype: int64"
            ]
          },
          "metadata": {},
          "execution_count": 31
        }
      ]
    },
    {
      "cell_type": "code",
      "source": [
        "application_df['ask_amt_bin'].value_counts()"
      ],
      "metadata": {
        "colab": {
          "base_uri": "https://localhost:8080/"
        },
        "id": "v6BaBB278zre",
        "outputId": "da5de2a7-a7f8-4450-e384-62d9921b6ac8"
      },
      "execution_count": 32,
      "outputs": [
        {
          "output_type": "execute_result",
          "data": {
            "text/plain": [
              "(4999.999, 30898.8]         27439\n",
              "(30898.8, 196546.2]          3430\n",
              "(196546.2, 8597806340.0]     3430\n",
              "Name: ask_amt_bin, dtype: int64"
            ]
          },
          "metadata": {},
          "execution_count": 32
        }
      ]
    },
    {
      "cell_type": "markdown",
      "source": [
        "# Drop unproductive columns, convert categorical variables into zeroes/ones, confirm df"
      ],
      "metadata": {
        "id": "qX9yD1DJx6ue"
      }
    },
    {
      "cell_type": "code",
      "source": [
        "application_df = application_df.drop(['STATUS', 'SPECIAL_CONSIDERATIONS', 'ASK_AMT', 'AFFILIATION'], axis=1)\n",
        "df.info()"
      ],
      "metadata": {
        "colab": {
          "base_uri": "https://localhost:8080/"
        },
        "id": "ik8jH28Ax7th",
        "outputId": "cbc95bd8-68aa-4042-a51f-f41e82b1e102"
      },
      "execution_count": 33,
      "outputs": [
        {
          "output_type": "stream",
          "name": "stdout",
          "text": [
            "<class 'dask.dataframe.core.DataFrame'>\n",
            "Columns: 11 entries, NAME to IS_SUCCESSFUL\n",
            "dtypes: int64(3), string(8)"
          ]
        }
      ]
    },
    {
      "cell_type": "code",
      "source": [
        "application_df"
      ],
      "metadata": {
        "id": "r_5EC-Vec7ab",
        "outputId": "d2a9a5e7-43b1-4755-cdf7-fb64389a2a03",
        "colab": {
          "base_uri": "https://localhost:8080/",
          "height": 658
        }
      },
      "execution_count": 34,
      "outputs": [
        {
          "output_type": "execute_result",
          "data": {
            "text/plain": [
              "                                           NAME APPLICATION_TYPE  \\\n",
              "0                                         Other              T10   \n",
              "1                                         Other               T3   \n",
              "2                                         Other               T5   \n",
              "3                                         Other               T3   \n",
              "4                                         Other               T3   \n",
              "...                                         ...              ...   \n",
              "34294                                     Other               T4   \n",
              "34295  INTERNATIONAL ASSOCIATION OF LIONS CLUBS               T4   \n",
              "34296                                     Other               T3   \n",
              "34297                                     Other               T5   \n",
              "34298                                     Other               T3   \n",
              "\n",
              "      CLASSIFICATION      USE_CASE  ORGANIZATION     INCOME_AMT  \\\n",
              "0              C1000    ProductDev   Association              0   \n",
              "1              C2000  Preservation  Co-operative         1-9999   \n",
              "2              C3000    ProductDev   Association              0   \n",
              "3              C2000  Preservation         Trust    10000-24999   \n",
              "4              C1000         Other         Trust  100000-499999   \n",
              "...              ...           ...           ...            ...   \n",
              "34294          C1000    ProductDev   Association              0   \n",
              "34295          C3000    ProductDev   Association              0   \n",
              "34296          C2000  Preservation   Association              0   \n",
              "34297          C3000    ProductDev   Association              0   \n",
              "34298          C1000  Preservation  Co-operative          1M-5M   \n",
              "\n",
              "       IS_SUCCESSFUL               ask_amt_bin  \n",
              "0                  1       (4999.999, 30898.8]  \n",
              "1                  1       (30898.8, 196546.2]  \n",
              "2                  0       (4999.999, 30898.8]  \n",
              "3                  1       (4999.999, 30898.8]  \n",
              "4                  1       (30898.8, 196546.2]  \n",
              "...              ...                       ...  \n",
              "34294              0       (4999.999, 30898.8]  \n",
              "34295              0       (4999.999, 30898.8]  \n",
              "34296              0       (4999.999, 30898.8]  \n",
              "34297              1       (4999.999, 30898.8]  \n",
              "34298              0  (196546.2, 8597806340.0]  \n",
              "\n",
              "[34299 rows x 8 columns]"
            ],
            "text/html": [
              "\n",
              "  <div id=\"df-3704131a-26d8-49ae-8746-9fffc0312f71\">\n",
              "    <div class=\"colab-df-container\">\n",
              "      <div>\n",
              "<style scoped>\n",
              "    .dataframe tbody tr th:only-of-type {\n",
              "        vertical-align: middle;\n",
              "    }\n",
              "\n",
              "    .dataframe tbody tr th {\n",
              "        vertical-align: top;\n",
              "    }\n",
              "\n",
              "    .dataframe thead th {\n",
              "        text-align: right;\n",
              "    }\n",
              "</style>\n",
              "<table border=\"1\" class=\"dataframe\">\n",
              "  <thead>\n",
              "    <tr style=\"text-align: right;\">\n",
              "      <th></th>\n",
              "      <th>NAME</th>\n",
              "      <th>APPLICATION_TYPE</th>\n",
              "      <th>CLASSIFICATION</th>\n",
              "      <th>USE_CASE</th>\n",
              "      <th>ORGANIZATION</th>\n",
              "      <th>INCOME_AMT</th>\n",
              "      <th>IS_SUCCESSFUL</th>\n",
              "      <th>ask_amt_bin</th>\n",
              "    </tr>\n",
              "  </thead>\n",
              "  <tbody>\n",
              "    <tr>\n",
              "      <th>0</th>\n",
              "      <td>Other</td>\n",
              "      <td>T10</td>\n",
              "      <td>C1000</td>\n",
              "      <td>ProductDev</td>\n",
              "      <td>Association</td>\n",
              "      <td>0</td>\n",
              "      <td>1</td>\n",
              "      <td>(4999.999, 30898.8]</td>\n",
              "    </tr>\n",
              "    <tr>\n",
              "      <th>1</th>\n",
              "      <td>Other</td>\n",
              "      <td>T3</td>\n",
              "      <td>C2000</td>\n",
              "      <td>Preservation</td>\n",
              "      <td>Co-operative</td>\n",
              "      <td>1-9999</td>\n",
              "      <td>1</td>\n",
              "      <td>(30898.8, 196546.2]</td>\n",
              "    </tr>\n",
              "    <tr>\n",
              "      <th>2</th>\n",
              "      <td>Other</td>\n",
              "      <td>T5</td>\n",
              "      <td>C3000</td>\n",
              "      <td>ProductDev</td>\n",
              "      <td>Association</td>\n",
              "      <td>0</td>\n",
              "      <td>0</td>\n",
              "      <td>(4999.999, 30898.8]</td>\n",
              "    </tr>\n",
              "    <tr>\n",
              "      <th>3</th>\n",
              "      <td>Other</td>\n",
              "      <td>T3</td>\n",
              "      <td>C2000</td>\n",
              "      <td>Preservation</td>\n",
              "      <td>Trust</td>\n",
              "      <td>10000-24999</td>\n",
              "      <td>1</td>\n",
              "      <td>(4999.999, 30898.8]</td>\n",
              "    </tr>\n",
              "    <tr>\n",
              "      <th>4</th>\n",
              "      <td>Other</td>\n",
              "      <td>T3</td>\n",
              "      <td>C1000</td>\n",
              "      <td>Other</td>\n",
              "      <td>Trust</td>\n",
              "      <td>100000-499999</td>\n",
              "      <td>1</td>\n",
              "      <td>(30898.8, 196546.2]</td>\n",
              "    </tr>\n",
              "    <tr>\n",
              "      <th>...</th>\n",
              "      <td>...</td>\n",
              "      <td>...</td>\n",
              "      <td>...</td>\n",
              "      <td>...</td>\n",
              "      <td>...</td>\n",
              "      <td>...</td>\n",
              "      <td>...</td>\n",
              "      <td>...</td>\n",
              "    </tr>\n",
              "    <tr>\n",
              "      <th>34294</th>\n",
              "      <td>Other</td>\n",
              "      <td>T4</td>\n",
              "      <td>C1000</td>\n",
              "      <td>ProductDev</td>\n",
              "      <td>Association</td>\n",
              "      <td>0</td>\n",
              "      <td>0</td>\n",
              "      <td>(4999.999, 30898.8]</td>\n",
              "    </tr>\n",
              "    <tr>\n",
              "      <th>34295</th>\n",
              "      <td>INTERNATIONAL ASSOCIATION OF LIONS CLUBS</td>\n",
              "      <td>T4</td>\n",
              "      <td>C3000</td>\n",
              "      <td>ProductDev</td>\n",
              "      <td>Association</td>\n",
              "      <td>0</td>\n",
              "      <td>0</td>\n",
              "      <td>(4999.999, 30898.8]</td>\n",
              "    </tr>\n",
              "    <tr>\n",
              "      <th>34296</th>\n",
              "      <td>Other</td>\n",
              "      <td>T3</td>\n",
              "      <td>C2000</td>\n",
              "      <td>Preservation</td>\n",
              "      <td>Association</td>\n",
              "      <td>0</td>\n",
              "      <td>0</td>\n",
              "      <td>(4999.999, 30898.8]</td>\n",
              "    </tr>\n",
              "    <tr>\n",
              "      <th>34297</th>\n",
              "      <td>Other</td>\n",
              "      <td>T5</td>\n",
              "      <td>C3000</td>\n",
              "      <td>ProductDev</td>\n",
              "      <td>Association</td>\n",
              "      <td>0</td>\n",
              "      <td>1</td>\n",
              "      <td>(4999.999, 30898.8]</td>\n",
              "    </tr>\n",
              "    <tr>\n",
              "      <th>34298</th>\n",
              "      <td>Other</td>\n",
              "      <td>T3</td>\n",
              "      <td>C1000</td>\n",
              "      <td>Preservation</td>\n",
              "      <td>Co-operative</td>\n",
              "      <td>1M-5M</td>\n",
              "      <td>0</td>\n",
              "      <td>(196546.2, 8597806340.0]</td>\n",
              "    </tr>\n",
              "  </tbody>\n",
              "</table>\n",
              "<p>34299 rows × 8 columns</p>\n",
              "</div>\n",
              "      <button class=\"colab-df-convert\" onclick=\"convertToInteractive('df-3704131a-26d8-49ae-8746-9fffc0312f71')\"\n",
              "              title=\"Convert this dataframe to an interactive table.\"\n",
              "              style=\"display:none;\">\n",
              "        \n",
              "  <svg xmlns=\"http://www.w3.org/2000/svg\" height=\"24px\"viewBox=\"0 0 24 24\"\n",
              "       width=\"24px\">\n",
              "    <path d=\"M0 0h24v24H0V0z\" fill=\"none\"/>\n",
              "    <path d=\"M18.56 5.44l.94 2.06.94-2.06 2.06-.94-2.06-.94-.94-2.06-.94 2.06-2.06.94zm-11 1L8.5 8.5l.94-2.06 2.06-.94-2.06-.94L8.5 2.5l-.94 2.06-2.06.94zm10 10l.94 2.06.94-2.06 2.06-.94-2.06-.94-.94-2.06-.94 2.06-2.06.94z\"/><path d=\"M17.41 7.96l-1.37-1.37c-.4-.4-.92-.59-1.43-.59-.52 0-1.04.2-1.43.59L10.3 9.45l-7.72 7.72c-.78.78-.78 2.05 0 2.83L4 21.41c.39.39.9.59 1.41.59.51 0 1.02-.2 1.41-.59l7.78-7.78 2.81-2.81c.8-.78.8-2.07 0-2.86zM5.41 20L4 18.59l7.72-7.72 1.47 1.35L5.41 20z\"/>\n",
              "  </svg>\n",
              "      </button>\n",
              "      \n",
              "  <style>\n",
              "    .colab-df-container {\n",
              "      display:flex;\n",
              "      flex-wrap:wrap;\n",
              "      gap: 12px;\n",
              "    }\n",
              "\n",
              "    .colab-df-convert {\n",
              "      background-color: #E8F0FE;\n",
              "      border: none;\n",
              "      border-radius: 50%;\n",
              "      cursor: pointer;\n",
              "      display: none;\n",
              "      fill: #1967D2;\n",
              "      height: 32px;\n",
              "      padding: 0 0 0 0;\n",
              "      width: 32px;\n",
              "    }\n",
              "\n",
              "    .colab-df-convert:hover {\n",
              "      background-color: #E2EBFA;\n",
              "      box-shadow: 0px 1px 2px rgba(60, 64, 67, 0.3), 0px 1px 3px 1px rgba(60, 64, 67, 0.15);\n",
              "      fill: #174EA6;\n",
              "    }\n",
              "\n",
              "    [theme=dark] .colab-df-convert {\n",
              "      background-color: #3B4455;\n",
              "      fill: #D2E3FC;\n",
              "    }\n",
              "\n",
              "    [theme=dark] .colab-df-convert:hover {\n",
              "      background-color: #434B5C;\n",
              "      box-shadow: 0px 1px 3px 1px rgba(0, 0, 0, 0.15);\n",
              "      filter: drop-shadow(0px 1px 2px rgba(0, 0, 0, 0.3));\n",
              "      fill: #FFFFFF;\n",
              "    }\n",
              "  </style>\n",
              "\n",
              "      <script>\n",
              "        const buttonEl =\n",
              "          document.querySelector('#df-3704131a-26d8-49ae-8746-9fffc0312f71 button.colab-df-convert');\n",
              "        buttonEl.style.display =\n",
              "          google.colab.kernel.accessAllowed ? 'block' : 'none';\n",
              "\n",
              "        async function convertToInteractive(key) {\n",
              "          const element = document.querySelector('#df-3704131a-26d8-49ae-8746-9fffc0312f71');\n",
              "          const dataTable =\n",
              "            await google.colab.kernel.invokeFunction('convertToInteractive',\n",
              "                                                     [key], {});\n",
              "          if (!dataTable) return;\n",
              "\n",
              "          const docLinkHtml = 'Like what you see? Visit the ' +\n",
              "            '<a target=\"_blank\" href=https://colab.research.google.com/notebooks/data_table.ipynb>data table notebook</a>'\n",
              "            + ' to learn more about interactive tables.';\n",
              "          element.innerHTML = '';\n",
              "          dataTable['output_type'] = 'display_data';\n",
              "          await google.colab.output.renderOutput(dataTable, element);\n",
              "          const docLink = document.createElement('div');\n",
              "          docLink.innerHTML = docLinkHtml;\n",
              "          element.appendChild(docLink);\n",
              "        }\n",
              "      </script>\n",
              "    </div>\n",
              "  </div>\n",
              "  "
            ]
          },
          "metadata": {},
          "execution_count": 34
        }
      ]
    },
    {
      "cell_type": "code",
      "source": [
        "application_df.info()"
      ],
      "metadata": {
        "colab": {
          "base_uri": "https://localhost:8080/"
        },
        "id": "-r6vZkbNzrLs",
        "outputId": "f24c59d9-44a3-4338-8fb9-dec8e97d278c"
      },
      "execution_count": 35,
      "outputs": [
        {
          "output_type": "stream",
          "name": "stdout",
          "text": [
            "<class 'pandas.core.frame.DataFrame'>\n",
            "RangeIndex: 34299 entries, 0 to 34298\n",
            "Data columns (total 8 columns):\n",
            " #   Column            Non-Null Count  Dtype   \n",
            "---  ------            --------------  -----   \n",
            " 0   NAME              34299 non-null  string  \n",
            " 1   APPLICATION_TYPE  34299 non-null  string  \n",
            " 2   CLASSIFICATION    34299 non-null  string  \n",
            " 3   USE_CASE          34299 non-null  string  \n",
            " 4   ORGANIZATION      34299 non-null  string  \n",
            " 5   INCOME_AMT        34299 non-null  string  \n",
            " 6   IS_SUCCESSFUL     34299 non-null  int64   \n",
            " 7   ask_amt_bin       34299 non-null  category\n",
            "dtypes: category(1), int64(1), string(6)\n",
            "memory usage: 1.9 MB\n"
          ]
        }
      ]
    },
    {
      "cell_type": "code",
      "execution_count": 36,
      "metadata": {
        "id": "jrinVNBJaPzu",
        "colab": {
          "base_uri": "https://localhost:8080/",
          "height": 574
        },
        "outputId": "5669faf0-643b-4b84-d5b6-876acb4f2544"
      },
      "outputs": [
        {
          "output_type": "execute_result",
          "data": {
            "text/plain": [
              "       IS_SUCCESSFUL  NAME_ALPHA PHI SIGMA  \\\n",
              "0                  1                     0   \n",
              "1                  1                     0   \n",
              "2                  0                     0   \n",
              "3                  1                     0   \n",
              "4                  1                     0   \n",
              "...              ...                   ...   \n",
              "34294              0                     0   \n",
              "34295              0                     0   \n",
              "34296              0                     0   \n",
              "34297              1                     0   \n",
              "34298              0                     0   \n",
              "\n",
              "       NAME_AMATEUR ATHLETIC UNION OF THE UNITED STATES INC  \\\n",
              "0                                                      0      \n",
              "1                                                      0      \n",
              "2                                                      0      \n",
              "3                                                      0      \n",
              "4                                                      0      \n",
              "...                                                  ...      \n",
              "34294                                                  0      \n",
              "34295                                                  0      \n",
              "34296                                                  0      \n",
              "34297                                                  0      \n",
              "34298                                                  0      \n",
              "\n",
              "       NAME_AMERICAN ASSOCIATION OF UNIVERSITY WOMEN  \\\n",
              "0                                                  0   \n",
              "1                                                  0   \n",
              "2                                                  0   \n",
              "3                                                  0   \n",
              "4                                                  0   \n",
              "...                                              ...   \n",
              "34294                                              0   \n",
              "34295                                              0   \n",
              "34296                                              0   \n",
              "34297                                              0   \n",
              "34298                                              0   \n",
              "\n",
              "       NAME_CIVITAN INTERNATIONAL  NAME_DEMOLAY INTERNATIONAL  \\\n",
              "0                               0                           0   \n",
              "1                               0                           0   \n",
              "2                               0                           0   \n",
              "3                               0                           0   \n",
              "4                               0                           0   \n",
              "...                           ...                         ...   \n",
              "34294                           0                           0   \n",
              "34295                           0                           0   \n",
              "34296                           0                           0   \n",
              "34297                           0                           0   \n",
              "34298                           0                           0   \n",
              "\n",
              "       NAME_FARMERS EDUCATIONAL AND COOPERATIVE UNION OF AMERICA  \\\n",
              "0                                                      0           \n",
              "1                                                      0           \n",
              "2                                                      0           \n",
              "3                                                      0           \n",
              "4                                                      0           \n",
              "...                                                  ...           \n",
              "34294                                                  0           \n",
              "34295                                                  0           \n",
              "34296                                                  0           \n",
              "34297                                                  0           \n",
              "34298                                                  0           \n",
              "\n",
              "       NAME_HABITAT FOR HUMANITY INTERNATIONAL INC  \\\n",
              "0                                                0   \n",
              "1                                                0   \n",
              "2                                                0   \n",
              "3                                                0   \n",
              "4                                                0   \n",
              "...                                            ...   \n",
              "34294                                            0   \n",
              "34295                                            0   \n",
              "34296                                            0   \n",
              "34297                                            0   \n",
              "34298                                            0   \n",
              "\n",
              "       NAME_HONOR SOCIETY OF PHI KAPPA PHI  \\\n",
              "0                                        0   \n",
              "1                                        0   \n",
              "2                                        0   \n",
              "3                                        0   \n",
              "4                                        0   \n",
              "...                                    ...   \n",
              "34294                                    0   \n",
              "34295                                    0   \n",
              "34296                                    0   \n",
              "34297                                    0   \n",
              "34298                                    0   \n",
              "\n",
              "       NAME_INTERNATIONAL ASSOCIATION OF LIONS CLUBS  ...  \\\n",
              "0                                                  0  ...   \n",
              "1                                                  0  ...   \n",
              "2                                                  0  ...   \n",
              "3                                                  0  ...   \n",
              "4                                                  0  ...   \n",
              "...                                              ...  ...   \n",
              "34294                                              0  ...   \n",
              "34295                                              1  ...   \n",
              "34296                                              0  ...   \n",
              "34297                                              0  ...   \n",
              "34298                                              0  ...   \n",
              "\n",
              "       INCOME_AMT_10000-24999  INCOME_AMT_100000-499999  INCOME_AMT_10M-50M  \\\n",
              "0                           0                         0                   0   \n",
              "1                           0                         0                   0   \n",
              "2                           0                         0                   0   \n",
              "3                           1                         0                   0   \n",
              "4                           0                         1                   0   \n",
              "...                       ...                       ...                 ...   \n",
              "34294                       0                         0                   0   \n",
              "34295                       0                         0                   0   \n",
              "34296                       0                         0                   0   \n",
              "34297                       0                         0                   0   \n",
              "34298                       0                         0                   0   \n",
              "\n",
              "       INCOME_AMT_1M-5M  INCOME_AMT_25000-99999  INCOME_AMT_50M+  \\\n",
              "0                     0                       0                0   \n",
              "1                     0                       0                0   \n",
              "2                     0                       0                0   \n",
              "3                     0                       0                0   \n",
              "4                     0                       0                0   \n",
              "...                 ...                     ...              ...   \n",
              "34294                 0                       0                0   \n",
              "34295                 0                       0                0   \n",
              "34296                 0                       0                0   \n",
              "34297                 0                       0                0   \n",
              "34298                 1                       0                0   \n",
              "\n",
              "       INCOME_AMT_5M-10M  ask_amt_bin_(4999.999, 30898.8]  \\\n",
              "0                      0                                1   \n",
              "1                      0                                0   \n",
              "2                      0                                1   \n",
              "3                      0                                1   \n",
              "4                      0                                0   \n",
              "...                  ...                              ...   \n",
              "34294                  0                                1   \n",
              "34295                  0                                1   \n",
              "34296                  0                                1   \n",
              "34297                  0                                1   \n",
              "34298                  0                                0   \n",
              "\n",
              "       ask_amt_bin_(30898.8, 196546.2]  ask_amt_bin_(196546.2, 8597806340.0]  \n",
              "0                                    0                                     0  \n",
              "1                                    1                                     0  \n",
              "2                                    0                                     0  \n",
              "3                                    0                                     0  \n",
              "4                                    1                                     0  \n",
              "...                                ...                                   ...  \n",
              "34294                                0                                     0  \n",
              "34295                                0                                     0  \n",
              "34296                                0                                     0  \n",
              "34297                                0                                     0  \n",
              "34298                                0                                     1  \n",
              "\n",
              "[34299 rows x 72 columns]"
            ],
            "text/html": [
              "\n",
              "  <div id=\"df-76e7a62b-7d2b-4ffe-a80a-dbd48e7895e8\">\n",
              "    <div class=\"colab-df-container\">\n",
              "      <div>\n",
              "<style scoped>\n",
              "    .dataframe tbody tr th:only-of-type {\n",
              "        vertical-align: middle;\n",
              "    }\n",
              "\n",
              "    .dataframe tbody tr th {\n",
              "        vertical-align: top;\n",
              "    }\n",
              "\n",
              "    .dataframe thead th {\n",
              "        text-align: right;\n",
              "    }\n",
              "</style>\n",
              "<table border=\"1\" class=\"dataframe\">\n",
              "  <thead>\n",
              "    <tr style=\"text-align: right;\">\n",
              "      <th></th>\n",
              "      <th>IS_SUCCESSFUL</th>\n",
              "      <th>NAME_ALPHA PHI SIGMA</th>\n",
              "      <th>NAME_AMATEUR ATHLETIC UNION OF THE UNITED STATES INC</th>\n",
              "      <th>NAME_AMERICAN ASSOCIATION OF UNIVERSITY WOMEN</th>\n",
              "      <th>NAME_CIVITAN INTERNATIONAL</th>\n",
              "      <th>NAME_DEMOLAY INTERNATIONAL</th>\n",
              "      <th>NAME_FARMERS EDUCATIONAL AND COOPERATIVE UNION OF AMERICA</th>\n",
              "      <th>NAME_HABITAT FOR HUMANITY INTERNATIONAL INC</th>\n",
              "      <th>NAME_HONOR SOCIETY OF PHI KAPPA PHI</th>\n",
              "      <th>NAME_INTERNATIONAL ASSOCIATION OF LIONS CLUBS</th>\n",
              "      <th>...</th>\n",
              "      <th>INCOME_AMT_10000-24999</th>\n",
              "      <th>INCOME_AMT_100000-499999</th>\n",
              "      <th>INCOME_AMT_10M-50M</th>\n",
              "      <th>INCOME_AMT_1M-5M</th>\n",
              "      <th>INCOME_AMT_25000-99999</th>\n",
              "      <th>INCOME_AMT_50M+</th>\n",
              "      <th>INCOME_AMT_5M-10M</th>\n",
              "      <th>ask_amt_bin_(4999.999, 30898.8]</th>\n",
              "      <th>ask_amt_bin_(30898.8, 196546.2]</th>\n",
              "      <th>ask_amt_bin_(196546.2, 8597806340.0]</th>\n",
              "    </tr>\n",
              "  </thead>\n",
              "  <tbody>\n",
              "    <tr>\n",
              "      <th>0</th>\n",
              "      <td>1</td>\n",
              "      <td>0</td>\n",
              "      <td>0</td>\n",
              "      <td>0</td>\n",
              "      <td>0</td>\n",
              "      <td>0</td>\n",
              "      <td>0</td>\n",
              "      <td>0</td>\n",
              "      <td>0</td>\n",
              "      <td>0</td>\n",
              "      <td>...</td>\n",
              "      <td>0</td>\n",
              "      <td>0</td>\n",
              "      <td>0</td>\n",
              "      <td>0</td>\n",
              "      <td>0</td>\n",
              "      <td>0</td>\n",
              "      <td>0</td>\n",
              "      <td>1</td>\n",
              "      <td>0</td>\n",
              "      <td>0</td>\n",
              "    </tr>\n",
              "    <tr>\n",
              "      <th>1</th>\n",
              "      <td>1</td>\n",
              "      <td>0</td>\n",
              "      <td>0</td>\n",
              "      <td>0</td>\n",
              "      <td>0</td>\n",
              "      <td>0</td>\n",
              "      <td>0</td>\n",
              "      <td>0</td>\n",
              "      <td>0</td>\n",
              "      <td>0</td>\n",
              "      <td>...</td>\n",
              "      <td>0</td>\n",
              "      <td>0</td>\n",
              "      <td>0</td>\n",
              "      <td>0</td>\n",
              "      <td>0</td>\n",
              "      <td>0</td>\n",
              "      <td>0</td>\n",
              "      <td>0</td>\n",
              "      <td>1</td>\n",
              "      <td>0</td>\n",
              "    </tr>\n",
              "    <tr>\n",
              "      <th>2</th>\n",
              "      <td>0</td>\n",
              "      <td>0</td>\n",
              "      <td>0</td>\n",
              "      <td>0</td>\n",
              "      <td>0</td>\n",
              "      <td>0</td>\n",
              "      <td>0</td>\n",
              "      <td>0</td>\n",
              "      <td>0</td>\n",
              "      <td>0</td>\n",
              "      <td>...</td>\n",
              "      <td>0</td>\n",
              "      <td>0</td>\n",
              "      <td>0</td>\n",
              "      <td>0</td>\n",
              "      <td>0</td>\n",
              "      <td>0</td>\n",
              "      <td>0</td>\n",
              "      <td>1</td>\n",
              "      <td>0</td>\n",
              "      <td>0</td>\n",
              "    </tr>\n",
              "    <tr>\n",
              "      <th>3</th>\n",
              "      <td>1</td>\n",
              "      <td>0</td>\n",
              "      <td>0</td>\n",
              "      <td>0</td>\n",
              "      <td>0</td>\n",
              "      <td>0</td>\n",
              "      <td>0</td>\n",
              "      <td>0</td>\n",
              "      <td>0</td>\n",
              "      <td>0</td>\n",
              "      <td>...</td>\n",
              "      <td>1</td>\n",
              "      <td>0</td>\n",
              "      <td>0</td>\n",
              "      <td>0</td>\n",
              "      <td>0</td>\n",
              "      <td>0</td>\n",
              "      <td>0</td>\n",
              "      <td>1</td>\n",
              "      <td>0</td>\n",
              "      <td>0</td>\n",
              "    </tr>\n",
              "    <tr>\n",
              "      <th>4</th>\n",
              "      <td>1</td>\n",
              "      <td>0</td>\n",
              "      <td>0</td>\n",
              "      <td>0</td>\n",
              "      <td>0</td>\n",
              "      <td>0</td>\n",
              "      <td>0</td>\n",
              "      <td>0</td>\n",
              "      <td>0</td>\n",
              "      <td>0</td>\n",
              "      <td>...</td>\n",
              "      <td>0</td>\n",
              "      <td>1</td>\n",
              "      <td>0</td>\n",
              "      <td>0</td>\n",
              "      <td>0</td>\n",
              "      <td>0</td>\n",
              "      <td>0</td>\n",
              "      <td>0</td>\n",
              "      <td>1</td>\n",
              "      <td>0</td>\n",
              "    </tr>\n",
              "    <tr>\n",
              "      <th>...</th>\n",
              "      <td>...</td>\n",
              "      <td>...</td>\n",
              "      <td>...</td>\n",
              "      <td>...</td>\n",
              "      <td>...</td>\n",
              "      <td>...</td>\n",
              "      <td>...</td>\n",
              "      <td>...</td>\n",
              "      <td>...</td>\n",
              "      <td>...</td>\n",
              "      <td>...</td>\n",
              "      <td>...</td>\n",
              "      <td>...</td>\n",
              "      <td>...</td>\n",
              "      <td>...</td>\n",
              "      <td>...</td>\n",
              "      <td>...</td>\n",
              "      <td>...</td>\n",
              "      <td>...</td>\n",
              "      <td>...</td>\n",
              "      <td>...</td>\n",
              "    </tr>\n",
              "    <tr>\n",
              "      <th>34294</th>\n",
              "      <td>0</td>\n",
              "      <td>0</td>\n",
              "      <td>0</td>\n",
              "      <td>0</td>\n",
              "      <td>0</td>\n",
              "      <td>0</td>\n",
              "      <td>0</td>\n",
              "      <td>0</td>\n",
              "      <td>0</td>\n",
              "      <td>0</td>\n",
              "      <td>...</td>\n",
              "      <td>0</td>\n",
              "      <td>0</td>\n",
              "      <td>0</td>\n",
              "      <td>0</td>\n",
              "      <td>0</td>\n",
              "      <td>0</td>\n",
              "      <td>0</td>\n",
              "      <td>1</td>\n",
              "      <td>0</td>\n",
              "      <td>0</td>\n",
              "    </tr>\n",
              "    <tr>\n",
              "      <th>34295</th>\n",
              "      <td>0</td>\n",
              "      <td>0</td>\n",
              "      <td>0</td>\n",
              "      <td>0</td>\n",
              "      <td>0</td>\n",
              "      <td>0</td>\n",
              "      <td>0</td>\n",
              "      <td>0</td>\n",
              "      <td>0</td>\n",
              "      <td>1</td>\n",
              "      <td>...</td>\n",
              "      <td>0</td>\n",
              "      <td>0</td>\n",
              "      <td>0</td>\n",
              "      <td>0</td>\n",
              "      <td>0</td>\n",
              "      <td>0</td>\n",
              "      <td>0</td>\n",
              "      <td>1</td>\n",
              "      <td>0</td>\n",
              "      <td>0</td>\n",
              "    </tr>\n",
              "    <tr>\n",
              "      <th>34296</th>\n",
              "      <td>0</td>\n",
              "      <td>0</td>\n",
              "      <td>0</td>\n",
              "      <td>0</td>\n",
              "      <td>0</td>\n",
              "      <td>0</td>\n",
              "      <td>0</td>\n",
              "      <td>0</td>\n",
              "      <td>0</td>\n",
              "      <td>0</td>\n",
              "      <td>...</td>\n",
              "      <td>0</td>\n",
              "      <td>0</td>\n",
              "      <td>0</td>\n",
              "      <td>0</td>\n",
              "      <td>0</td>\n",
              "      <td>0</td>\n",
              "      <td>0</td>\n",
              "      <td>1</td>\n",
              "      <td>0</td>\n",
              "      <td>0</td>\n",
              "    </tr>\n",
              "    <tr>\n",
              "      <th>34297</th>\n",
              "      <td>1</td>\n",
              "      <td>0</td>\n",
              "      <td>0</td>\n",
              "      <td>0</td>\n",
              "      <td>0</td>\n",
              "      <td>0</td>\n",
              "      <td>0</td>\n",
              "      <td>0</td>\n",
              "      <td>0</td>\n",
              "      <td>0</td>\n",
              "      <td>...</td>\n",
              "      <td>0</td>\n",
              "      <td>0</td>\n",
              "      <td>0</td>\n",
              "      <td>0</td>\n",
              "      <td>0</td>\n",
              "      <td>0</td>\n",
              "      <td>0</td>\n",
              "      <td>1</td>\n",
              "      <td>0</td>\n",
              "      <td>0</td>\n",
              "    </tr>\n",
              "    <tr>\n",
              "      <th>34298</th>\n",
              "      <td>0</td>\n",
              "      <td>0</td>\n",
              "      <td>0</td>\n",
              "      <td>0</td>\n",
              "      <td>0</td>\n",
              "      <td>0</td>\n",
              "      <td>0</td>\n",
              "      <td>0</td>\n",
              "      <td>0</td>\n",
              "      <td>0</td>\n",
              "      <td>...</td>\n",
              "      <td>0</td>\n",
              "      <td>0</td>\n",
              "      <td>0</td>\n",
              "      <td>1</td>\n",
              "      <td>0</td>\n",
              "      <td>0</td>\n",
              "      <td>0</td>\n",
              "      <td>0</td>\n",
              "      <td>0</td>\n",
              "      <td>1</td>\n",
              "    </tr>\n",
              "  </tbody>\n",
              "</table>\n",
              "<p>34299 rows × 72 columns</p>\n",
              "</div>\n",
              "      <button class=\"colab-df-convert\" onclick=\"convertToInteractive('df-76e7a62b-7d2b-4ffe-a80a-dbd48e7895e8')\"\n",
              "              title=\"Convert this dataframe to an interactive table.\"\n",
              "              style=\"display:none;\">\n",
              "        \n",
              "  <svg xmlns=\"http://www.w3.org/2000/svg\" height=\"24px\"viewBox=\"0 0 24 24\"\n",
              "       width=\"24px\">\n",
              "    <path d=\"M0 0h24v24H0V0z\" fill=\"none\"/>\n",
              "    <path d=\"M18.56 5.44l.94 2.06.94-2.06 2.06-.94-2.06-.94-.94-2.06-.94 2.06-2.06.94zm-11 1L8.5 8.5l.94-2.06 2.06-.94-2.06-.94L8.5 2.5l-.94 2.06-2.06.94zm10 10l.94 2.06.94-2.06 2.06-.94-2.06-.94-.94-2.06-.94 2.06-2.06.94z\"/><path d=\"M17.41 7.96l-1.37-1.37c-.4-.4-.92-.59-1.43-.59-.52 0-1.04.2-1.43.59L10.3 9.45l-7.72 7.72c-.78.78-.78 2.05 0 2.83L4 21.41c.39.39.9.59 1.41.59.51 0 1.02-.2 1.41-.59l7.78-7.78 2.81-2.81c.8-.78.8-2.07 0-2.86zM5.41 20L4 18.59l7.72-7.72 1.47 1.35L5.41 20z\"/>\n",
              "  </svg>\n",
              "      </button>\n",
              "      \n",
              "  <style>\n",
              "    .colab-df-container {\n",
              "      display:flex;\n",
              "      flex-wrap:wrap;\n",
              "      gap: 12px;\n",
              "    }\n",
              "\n",
              "    .colab-df-convert {\n",
              "      background-color: #E8F0FE;\n",
              "      border: none;\n",
              "      border-radius: 50%;\n",
              "      cursor: pointer;\n",
              "      display: none;\n",
              "      fill: #1967D2;\n",
              "      height: 32px;\n",
              "      padding: 0 0 0 0;\n",
              "      width: 32px;\n",
              "    }\n",
              "\n",
              "    .colab-df-convert:hover {\n",
              "      background-color: #E2EBFA;\n",
              "      box-shadow: 0px 1px 2px rgba(60, 64, 67, 0.3), 0px 1px 3px 1px rgba(60, 64, 67, 0.15);\n",
              "      fill: #174EA6;\n",
              "    }\n",
              "\n",
              "    [theme=dark] .colab-df-convert {\n",
              "      background-color: #3B4455;\n",
              "      fill: #D2E3FC;\n",
              "    }\n",
              "\n",
              "    [theme=dark] .colab-df-convert:hover {\n",
              "      background-color: #434B5C;\n",
              "      box-shadow: 0px 1px 3px 1px rgba(0, 0, 0, 0.15);\n",
              "      filter: drop-shadow(0px 1px 2px rgba(0, 0, 0, 0.3));\n",
              "      fill: #FFFFFF;\n",
              "    }\n",
              "  </style>\n",
              "\n",
              "      <script>\n",
              "        const buttonEl =\n",
              "          document.querySelector('#df-76e7a62b-7d2b-4ffe-a80a-dbd48e7895e8 button.colab-df-convert');\n",
              "        buttonEl.style.display =\n",
              "          google.colab.kernel.accessAllowed ? 'block' : 'none';\n",
              "\n",
              "        async function convertToInteractive(key) {\n",
              "          const element = document.querySelector('#df-76e7a62b-7d2b-4ffe-a80a-dbd48e7895e8');\n",
              "          const dataTable =\n",
              "            await google.colab.kernel.invokeFunction('convertToInteractive',\n",
              "                                                     [key], {});\n",
              "          if (!dataTable) return;\n",
              "\n",
              "          const docLinkHtml = 'Like what you see? Visit the ' +\n",
              "            '<a target=\"_blank\" href=https://colab.research.google.com/notebooks/data_table.ipynb>data table notebook</a>'\n",
              "            + ' to learn more about interactive tables.';\n",
              "          element.innerHTML = '';\n",
              "          dataTable['output_type'] = 'display_data';\n",
              "          await google.colab.output.renderOutput(dataTable, element);\n",
              "          const docLink = document.createElement('div');\n",
              "          docLink.innerHTML = docLinkHtml;\n",
              "          element.appendChild(docLink);\n",
              "        }\n",
              "      </script>\n",
              "    </div>\n",
              "  </div>\n",
              "  "
            ]
          },
          "metadata": {},
          "execution_count": 36
        }
      ],
      "source": [
        "# Convert categorical data to numeric with `pd.get_dummies`\n",
        "clean_df = application_df.copy()\n",
        "clean_df = pd.get_dummies(application_df)\n",
        "clean_df"
      ]
    },
    {
      "cell_type": "code",
      "source": [
        "clean_df.info()"
      ],
      "metadata": {
        "id": "CdpEHlzvjxCW",
        "outputId": "28217646-2eba-4dee-b70f-d9dde235a74e",
        "colab": {
          "base_uri": "https://localhost:8080/"
        }
      },
      "execution_count": 37,
      "outputs": [
        {
          "output_type": "stream",
          "name": "stdout",
          "text": [
            "<class 'pandas.core.frame.DataFrame'>\n",
            "RangeIndex: 34299 entries, 0 to 34298\n",
            "Data columns (total 72 columns):\n",
            " #   Column                                                                   Non-Null Count  Dtype\n",
            "---  ------                                                                   --------------  -----\n",
            " 0   IS_SUCCESSFUL                                                            34299 non-null  int64\n",
            " 1   NAME_ALPHA PHI SIGMA                                                     34299 non-null  uint8\n",
            " 2   NAME_AMATEUR ATHLETIC UNION OF THE UNITED STATES INC                     34299 non-null  uint8\n",
            " 3   NAME_AMERICAN ASSOCIATION OF UNIVERSITY WOMEN                            34299 non-null  uint8\n",
            " 4   NAME_CIVITAN INTERNATIONAL                                               34299 non-null  uint8\n",
            " 5   NAME_DEMOLAY INTERNATIONAL                                               34299 non-null  uint8\n",
            " 6   NAME_FARMERS EDUCATIONAL AND COOPERATIVE UNION OF AMERICA                34299 non-null  uint8\n",
            " 7   NAME_HABITAT FOR HUMANITY INTERNATIONAL INC                              34299 non-null  uint8\n",
            " 8   NAME_HONOR SOCIETY OF PHI KAPPA PHI                                      34299 non-null  uint8\n",
            " 9   NAME_INTERNATIONAL ASSOCIATION OF LIONS CLUBS                            34299 non-null  uint8\n",
            " 10  NAME_INTERNATIONAL ASSOCIATION OF SHEET METAL AIR RAIL & TRANSPORTATION  34299 non-null  uint8\n",
            " 11  NAME_KNIGHTS OF COLUMBUS                                                 34299 non-null  uint8\n",
            " 12  NAME_LITTLE LEAGUE BASEBALL INC                                          34299 non-null  uint8\n",
            " 13  NAME_MOMS CLUB                                                           34299 non-null  uint8\n",
            " 14  NAME_MONTANA 4-H FOUNDATION INC                                          34299 non-null  uint8\n",
            " 15  NAME_MOST WORSHIPFUL STRINGER FREE AND ACCEPTED MASONS                   34299 non-null  uint8\n",
            " 16  NAME_Other                                                               34299 non-null  uint8\n",
            " 17  NAME_PARENT BOOSTER USA INC                                              34299 non-null  uint8\n",
            " 18  NAME_PTA TEXAS CONGRESS                                                  34299 non-null  uint8\n",
            " 19  NAME_PTA UTAH CONGRESS                                                   34299 non-null  uint8\n",
            " 20  NAME_SERTOMA INC                                                         34299 non-null  uint8\n",
            " 21  NAME_SIGMA BETA DELTA INC                                                34299 non-null  uint8\n",
            " 22  NAME_SOROPTIMIST INTERNATIONAL OF THE AMERICAS INC                       34299 non-null  uint8\n",
            " 23  NAME_TENNESSEE ORDER OF THE EASTERN STAR                                 34299 non-null  uint8\n",
            " 24  NAME_THE UNITED STATES PONY CLUBS INC                                    34299 non-null  uint8\n",
            " 25  NAME_TOASTMASTERS INTERNATIONAL                                          34299 non-null  uint8\n",
            " 26  NAME_TOPS CLUB INC                                                       34299 non-null  uint8\n",
            " 27  NAME_UNITED STATES BOWLING CONGRESS INC                                  34299 non-null  uint8\n",
            " 28  NAME_UNIVERSITY OF WYOMING                                               34299 non-null  uint8\n",
            " 29  NAME_VETERANS OF FOREIGN WARS OF THE UNITED STATES AUXILIARY             34299 non-null  uint8\n",
            " 30  NAME_WASHINGTON STATE GRANGE                                             34299 non-null  uint8\n",
            " 31  NAME_WASHINGTON STATE UNIVERSITY                                         34299 non-null  uint8\n",
            " 32  APPLICATION_TYPE_Other                                                   34299 non-null  uint8\n",
            " 33  APPLICATION_TYPE_T10                                                     34299 non-null  uint8\n",
            " 34  APPLICATION_TYPE_T19                                                     34299 non-null  uint8\n",
            " 35  APPLICATION_TYPE_T3                                                      34299 non-null  uint8\n",
            " 36  APPLICATION_TYPE_T4                                                      34299 non-null  uint8\n",
            " 37  APPLICATION_TYPE_T5                                                      34299 non-null  uint8\n",
            " 38  APPLICATION_TYPE_T6                                                      34299 non-null  uint8\n",
            " 39  APPLICATION_TYPE_T7                                                      34299 non-null  uint8\n",
            " 40  APPLICATION_TYPE_T8                                                      34299 non-null  uint8\n",
            " 41  CLASSIFICATION_C1000                                                     34299 non-null  uint8\n",
            " 42  CLASSIFICATION_C1200                                                     34299 non-null  uint8\n",
            " 43  CLASSIFICATION_C1270                                                     34299 non-null  uint8\n",
            " 44  CLASSIFICATION_C1700                                                     34299 non-null  uint8\n",
            " 45  CLASSIFICATION_C2000                                                     34299 non-null  uint8\n",
            " 46  CLASSIFICATION_C2100                                                     34299 non-null  uint8\n",
            " 47  CLASSIFICATION_C2700                                                     34299 non-null  uint8\n",
            " 48  CLASSIFICATION_C3000                                                     34299 non-null  uint8\n",
            " 49  CLASSIFICATION_C4000                                                     34299 non-null  uint8\n",
            " 50  CLASSIFICATION_C5000                                                     34299 non-null  uint8\n",
            " 51  CLASSIFICATION_C7000                                                     34299 non-null  uint8\n",
            " 52  CLASSIFICATION_Other                                                     34299 non-null  uint8\n",
            " 53  USE_CASE_Other                                                           34299 non-null  uint8\n",
            " 54  USE_CASE_Preservation                                                    34299 non-null  uint8\n",
            " 55  USE_CASE_ProductDev                                                      34299 non-null  uint8\n",
            " 56  ORGANIZATION_Association                                                 34299 non-null  uint8\n",
            " 57  ORGANIZATION_Co-operative                                                34299 non-null  uint8\n",
            " 58  ORGANIZATION_Corporation                                                 34299 non-null  uint8\n",
            " 59  ORGANIZATION_Trust                                                       34299 non-null  uint8\n",
            " 60  INCOME_AMT_0                                                             34299 non-null  uint8\n",
            " 61  INCOME_AMT_1-9999                                                        34299 non-null  uint8\n",
            " 62  INCOME_AMT_10000-24999                                                   34299 non-null  uint8\n",
            " 63  INCOME_AMT_100000-499999                                                 34299 non-null  uint8\n",
            " 64  INCOME_AMT_10M-50M                                                       34299 non-null  uint8\n",
            " 65  INCOME_AMT_1M-5M                                                         34299 non-null  uint8\n",
            " 66  INCOME_AMT_25000-99999                                                   34299 non-null  uint8\n",
            " 67  INCOME_AMT_50M+                                                          34299 non-null  uint8\n",
            " 68  INCOME_AMT_5M-10M                                                        34299 non-null  uint8\n",
            " 69  ask_amt_bin_(4999.999, 30898.8]                                          34299 non-null  uint8\n",
            " 70  ask_amt_bin_(30898.8, 196546.2]                                          34299 non-null  uint8\n",
            " 71  ask_amt_bin_(196546.2, 8597806340.0]                                     34299 non-null  uint8\n",
            "dtypes: int64(1), uint8(71)\n",
            "memory usage: 2.6 MB\n"
          ]
        }
      ]
    },
    {
      "cell_type": "code",
      "execution_count": 38,
      "metadata": {
        "id": "ooVVklu7aPzu"
      },
      "outputs": [],
      "source": [
        "df = clean_df.copy()"
      ]
    },
    {
      "cell_type": "markdown",
      "source": [
        "## Train, validation, test datasets"
      ],
      "metadata": {
        "id": "lVFrq93Y_89i"
      }
    },
    {
      "cell_type": "code",
      "source": [
        "# manually split instead of using train_test_split\n",
        "train, valid, test = np.split(df.sample(frac=1), [int(0.6*len(df)), int(0.8*len(df))]) "
      ],
      "metadata": {
        "id": "o5xEQLz0EOMl"
      },
      "execution_count": 39,
      "outputs": []
    },
    {
      "cell_type": "code",
      "source": [
        "# Separate the data into labels and features\n",
        "  # the y variable, the labels\n",
        "y = df['IS_SUCCESSFUL']\n",
        "  # the X variable, the features\n",
        "X = df.drop(columns='IS_SUCCESSFUL')\n",
        "\n",
        "# Split into testing and training sets using train_test_split\n",
        "X_train, X_test, y_train, y_test = train_test_split(X, y, random_state=1)\n",
        "X_valid, X_test, y_valid, y_test = train_test_split(X_test, y_test, random_state=1)\n",
        "\n",
        "# create datasets\n",
        "train = X_train.join(y_train)\n",
        "valid = X_valid.join(y_valid)\n",
        "test = X_test.join(y_test) "
      ],
      "metadata": {
        "id": "5Zo1elC8pEzn"
      },
      "execution_count": 40,
      "outputs": []
    },
    {
      "cell_type": "code",
      "source": [
        "def scale_dataset(dataframe, oversample=False):\n",
        "  # Split our preprocessed data into our features and target arrays\n",
        "  y = df.IS_SUCCESSFUL.values\n",
        "  X = df.drop(columns='IS_SUCCESSFUL').values\n",
        "\n",
        "  scaler = StandardScaler()\n",
        "  X = scaler.fit_transform(X)\n",
        "\n",
        "  # match lesser class to larger class # of samples\n",
        "  if oversample:\n",
        "    ros = RandomOverSampler()\n",
        "    X, y = ros.fit_resample(X, y)\n",
        "\n",
        "  data = np.hstack((X, np.reshape(y, (-1, 1))))\n",
        "\n",
        "  return data, X, y"
      ],
      "metadata": {
        "id": "vtK9Nuqz_6Xl"
      },
      "execution_count": 41,
      "outputs": []
    },
    {
      "cell_type": "code",
      "source": [
        "# rescale training data with random oversampler\n",
        "train, X_train, y_train = scale_dataset(train, oversample=True)\n",
        "valid, X_valid, y_valid = scale_dataset(valid, oversample=False)\n",
        "test, X_test, y_test = scale_dataset(test, oversample=False)"
      ],
      "metadata": {
        "id": "4ERNosU7GSmt"
      },
      "execution_count": 42,
      "outputs": []
    },
    {
      "cell_type": "code",
      "source": [
        "# # evenly rebalanced to equal the same number of samples\n",
        "len(y_train), sum(y_train == 1), sum(y_train == 0)"
      ],
      "metadata": {
        "id": "6joAgWkuG9-M",
        "outputId": "d0c64df6-c6b7-41d7-9d1b-b9172a93d274",
        "colab": {
          "base_uri": "https://localhost:8080/"
        }
      },
      "execution_count": 43,
      "outputs": [
        {
          "output_type": "execute_result",
          "data": {
            "text/plain": [
              "(36522, 18261, 18261)"
            ]
          },
          "metadata": {},
          "execution_count": 43
        }
      ]
    },
    {
      "cell_type": "markdown",
      "metadata": {
        "id": "3NwXHKT2aPzu"
      },
      "source": [
        "## Compile, Train and Evaluate the Model"
      ]
    },
    {
      "cell_type": "code",
      "source": [
        "# functions to plot the loss and accuracy\n",
        "def plot_history(history, a_score, l_score, node, dropout_probability, learning_rate, batch_size, epochs ):\n",
        "    # plot variables\n",
        "    acc = f'{a_score:.3%}'\n",
        "    los = f'{l_score}'\n",
        "    s_title = f'Model: StandardScaler with {number_input_features} Features, Accuracy: {acc}'\n",
        "    n_title = f'Nodes: {node}, dropout: {dropout_probability}, lr: {learning_rate}, epochs: {epochs}, batch_size: {batch_size}, Loss: {los}'\n",
        "\n",
        "    # plot\n",
        "    fig, (ax1, ax2) = plt.subplots(1, 2, figsize=(10, 4))\n",
        "    ax1.plot(history.history['loss'], label='loss')\n",
        "    ax1.plot(history.history['val_loss'], label='val_loss')\n",
        "    ax1.set_xlabel('Epoch')\n",
        "    ax1.set_ylabel('Binary crossentrophy')\n",
        "    ax1.legend()\n",
        "    ax1.grid(True)\n",
        "\n",
        "    ax2.plot(history.history['accuracy'], label='accuracy')\n",
        "    ax2.plot(history.history['val_accuracy'], label='val_accuracy')\n",
        "    ax2.set_xlabel('Epoch')\n",
        "    ax2.set_ylabel('Binary crossentrophy')\n",
        "    ax2.legend()\n",
        "    ax2.grid(True)\n",
        "\n",
        "    plt.suptitle(s_title)\n",
        "    plt.title(n_title, ha='left')\n",
        "    plt.show()"
      ],
      "metadata": {
        "id": "o_WabEQTZi2I"
      },
      "execution_count": 48,
      "outputs": []
    },
    {
      "cell_type": "code",
      "source": [
        "# define variables for quick access to training\n",
        "number_input_features = len(X_train[0])"
      ],
      "metadata": {
        "id": "_UHKesRRfi8a"
      },
      "execution_count": 45,
      "outputs": []
    },
    {
      "cell_type": "code",
      "execution_count": 46,
      "metadata": {
        "id": "j1-JdvpiaPzv"
      },
      "outputs": [],
      "source": [
        "def train_model(X_train, y_train, nodes, dropout_probability, learning_rate, batch_size, epochs):\n",
        "# Define the model - deep neural net, i.e., the number of input features and hidden nodes for each layer.\n",
        "  nn = tf.keras.models.Sequential([\n",
        "  # First hidden layer\n",
        "      tf.keras.layers.Dense(nodes, input_dim=number_input_features, activation=\"relu\"),\n",
        "      tf.keras.layers.Dropout(dropout_probability),\n",
        "  # Second hidden layer\n",
        "      tf.keras.layers.Dense(nodes, activation=\"relu\"),\n",
        "      tf.keras.layers.Dropout(dropout_probability),\n",
        "  # Output layer\n",
        "      tf.keras.layers.Dense(1, activation=\"sigmoid\")\n",
        "  ])\n",
        "  # Check the structure of the model\n",
        "  nn.summary()\n",
        "\n",
        "  # Compile the model\n",
        "  nn.compile(optimizer=tf.keras.optimizers.Adam(learning_rate), loss=\"binary_crossentropy\", metrics=[\"accuracy\"])\n",
        "\n",
        "  # Train the model\n",
        "  history = nn.fit(X_train, y_train, batch_size=batch_size, epochs=epochs, validation_data=(X_valid, y_valid), verbose=0)\n",
        "\n",
        "  return nn, history"
      ]
    },
    {
      "cell_type": "code",
      "source": [
        "# set up and run model predictions\n",
        "epochs = 100\n",
        "filepath = 'deep-learning-challenge/checkpoints/EXTRA_AlphabetSoupCharity.h5'\n",
        "\n",
        "# view the loss and accuracy of model\n",
        "least_val_loss = float('inf')\n",
        "least_loss_model = None\n",
        "\n",
        "for node in [8, 16, 24]:\n",
        "  for dropout_probability in [0, 0.2]:\n",
        "    for learning_rate in [0.01, 0.005, 0.001]:\n",
        "      for batch_size in [32, 64, 128]:\n",
        "        print(f'{node} nodes, dropout {dropout_probability}, lr {learning_rate}, batch size {batch_size}, epochs={epochs}')\n",
        "        nn, history = train_model(X_train, y_train, node, dropout_probability, learning_rate, batch_size, epochs)\n",
        "        loss_acc = nn.evaluate(X_valid, y_valid)\n",
        "        a_score = loss_acc[1]\n",
        "        l_score = loss_acc[0]\n",
        "        plot_history(history, a_score, l_score, node, dropout_probability, learning_rate, batch_size, epochs)\n",
        "        if l_score < least_val_loss:\n",
        "          least_val_loss = l_score\n",
        "          least_loss_model = nn\n",
        "          tf.keras.saving.save_model(\n",
        "          nn, filepath, overwrite=True, save_format=None)\n",
        "          "
      ],
      "metadata": {
        "id": "tcX3yblpQxRV",
        "outputId": "f042e485-9c62-4aad-e4c7-4f25efaacbfd",
        "colab": {
          "base_uri": "https://localhost:8080/",
          "height": 1000
        }
      },
      "execution_count": 49,
      "outputs": [
        {
          "output_type": "stream",
          "name": "stdout",
          "text": [
            "8 nodes, dropout 0, lr 0.01, batch size 32, epochs=100\n",
            "Model: \"sequential_1\"\n",
            "_________________________________________________________________\n",
            " Layer (type)                Output Shape              Param #   \n",
            "=================================================================\n",
            " dense_3 (Dense)             (None, 8)                 576       \n",
            "                                                                 \n",
            " dropout_2 (Dropout)         (None, 8)                 0         \n",
            "                                                                 \n",
            " dense_4 (Dense)             (None, 8)                 72        \n",
            "                                                                 \n",
            " dropout_3 (Dropout)         (None, 8)                 0         \n",
            "                                                                 \n",
            " dense_5 (Dense)             (None, 1)                 9         \n",
            "                                                                 \n",
            "=================================================================\n",
            "Total params: 657\n",
            "Trainable params: 657\n",
            "Non-trainable params: 0\n",
            "_________________________________________________________________\n",
            "1072/1072 [==============================] - 1s 1ms/step - loss: 0.4969 - accuracy: 0.7481\n"
          ]
        },
        {
          "output_type": "display_data",
          "data": {
            "text/plain": [
              "<Figure size 1000x400 with 2 Axes>"
            ],
            "image/png": "[encoded data removed]"
          },
          "metadata": {}
        },
        {
          "output_type": "stream",
          "name": "stdout",
          "text": [
            "8 nodes, dropout 0, lr 0.01, batch size 64, epochs=100\n",
            "Model: \"sequential_2\"\n",
            "_________________________________________________________________\n",
            " Layer (type)                Output Shape              Param #   \n",
            "=================================================================\n",
            " dense_6 (Dense)             (None, 8)                 576       \n",
            "                                                                 \n",
            " dropout_4 (Dropout)         (None, 8)                 0         \n",
            "                                                                 \n",
            " dense_7 (Dense)             (None, 8)                 72        \n",
            "                                                                 \n",
            " dropout_5 (Dropout)         (None, 8)                 0         \n",
            "                                                                 \n",
            " dense_8 (Dense)             (None, 1)                 9         \n",
            "                                                                 \n",
            "=================================================================\n",
            "Total params: 657\n",
            "Trainable params: 657\n",
            "Non-trainable params: 0\n",
            "_________________________________________________________________\n",
            "1072/1072 [==============================] - 1s 1ms/step - loss: 0.4952 - accuracy: 0.7517\n"
          ]
        },
        {
          "output_type": "display_data",
          "data": {
            "text/plain": [
              "<Figure size 1000x400 with 2 Axes>"
            ],
            "image/png": "[encoded data removed]"
          },
          "metadata": {}
        },
        {
          "output_type": "stream",
          "name": "stdout",
          "text": [
            "8 nodes, dropout 0, lr 0.01, batch size 128, epochs=100\n",
            "Model: \"sequential_3\"\n",
            "_________________________________________________________________\n",
            " Layer (type)                Output Shape              Param #   \n",
            "=================================================================\n",
            " dense_9 (Dense)             (None, 8)                 576       \n",
            "                                                                 \n",
            " dropout_6 (Dropout)         (None, 8)                 0         \n",
            "                                                                 \n",
            " dense_10 (Dense)            (None, 8)                 72        \n",
            "                                                                 \n",
            " dropout_7 (Dropout)         (None, 8)                 0         \n",
            "                                                                 \n",
            " dense_11 (Dense)            (None, 1)                 9         \n",
            "                                                                 \n",
            "=================================================================\n",
            "Total params: 657\n",
            "Trainable params: 657\n",
            "Non-trainable params: 0\n",
            "_________________________________________________________________\n",
            "1072/1072 [==============================] - 1s 1ms/step - loss: 0.4946 - accuracy: 0.7524\n"
          ]
        },
        {
          "output_type": "display_data",
          "data": {
            "text/plain": [
              "<Figure size 1000x400 with 2 Axes>"
            ],
            "image/png": "[encoded data removed]"
          },
          "metadata": {}
        },
        {
          "output_type": "stream",
          "name": "stdout",
          "text": [
            "8 nodes, dropout 0, lr 0.005, batch size 32, epochs=100\n",
            "Model: \"sequential_4\"\n",
            "_________________________________________________________________\n",
            " Layer (type)                Output Shape              Param #   \n",
            "=================================================================\n",
            " dense_12 (Dense)            (None, 8)                 576       \n",
            "                                                                 \n",
            " dropout_8 (Dropout)         (None, 8)                 0         \n",
            "                                                                 \n",
            " dense_13 (Dense)            (None, 8)                 72        \n",
            "                                                                 \n",
            " dropout_9 (Dropout)         (None, 8)                 0         \n",
            "                                                                 \n",
            " dense_14 (Dense)            (None, 1)                 9         \n",
            "                                                                 \n",
            "=================================================================\n",
            "Total params: 657\n",
            "Trainable params: 657\n",
            "Non-trainable params: 0\n",
            "_________________________________________________________________\n"
          ]
        },
        {
          "output_type": "error",
          "ename": "KeyboardInterrupt",
          "evalue": "ignored",
          "traceback": [
            "\u001b[0;31m---------------------------------------------------------------------------\u001b[0m",
            "\u001b[0;31mKeyboardInterrupt\u001b[0m                         Traceback (most recent call last)",
            "\u001b[0;32m<ipython-input-49-a7748ba37a82>\u001b[0m in \u001b[0;36m<cell line: 9>\u001b[0;34m()\u001b[0m\n\u001b[1;32m     12\u001b[0m       \u001b[0;32mfor\u001b[0m \u001b[0mbatch_size\u001b[0m \u001b[0;32min\u001b[0m \u001b[0;34m[\u001b[0m\u001b[0;36m32\u001b[0m\u001b[0;34m,\u001b[0m \u001b[0;36m64\u001b[0m\u001b[0;34m,\u001b[0m \u001b[0;36m128\u001b[0m\u001b[0;34m]\u001b[0m\u001b[0;34m:\u001b[0m\u001b[0;34m\u001b[0m\u001b[0;34m\u001b[0m\u001b[0m\n\u001b[1;32m     13\u001b[0m         \u001b[0mprint\u001b[0m\u001b[0;34m(\u001b[0m\u001b[0;34mf'{node} nodes, dropout {dropout_probability}, lr {learning_rate}, batch size {batch_size}, epochs={epochs}'\u001b[0m\u001b[0;34m)\u001b[0m\u001b[0;34m\u001b[0m\u001b[0;34m\u001b[0m\u001b[0m\n\u001b[0;32m---> 14\u001b[0;31m         \u001b[0mnn\u001b[0m\u001b[0;34m,\u001b[0m \u001b[0mhistory\u001b[0m \u001b[0;34m=\u001b[0m \u001b[0mtrain_model\u001b[0m\u001b[0;34m(\u001b[0m\u001b[0mX_train\u001b[0m\u001b[0;34m,\u001b[0m \u001b[0my_train\u001b[0m\u001b[0;34m,\u001b[0m \u001b[0mnode\u001b[0m\u001b[0;34m,\u001b[0m \u001b[0mdropout_probability\u001b[0m\u001b[0;34m,\u001b[0m \u001b[0mlearning_rate\u001b[0m\u001b[0;34m,\u001b[0m \u001b[0mbatch_size\u001b[0m\u001b[0;34m,\u001b[0m \u001b[0mepochs\u001b[0m\u001b[0;34m)\u001b[0m\u001b[0;34m\u001b[0m\u001b[0;34m\u001b[0m\u001b[0m\n\u001b[0m\u001b[1;32m     15\u001b[0m         \u001b[0mloss_acc\u001b[0m \u001b[0;34m=\u001b[0m \u001b[0mnn\u001b[0m\u001b[0;34m.\u001b[0m\u001b[0mevaluate\u001b[0m\u001b[0;34m(\u001b[0m\u001b[0mX_valid\u001b[0m\u001b[0;34m,\u001b[0m \u001b[0my_valid\u001b[0m\u001b[0;34m)\u001b[0m\u001b[0;34m\u001b[0m\u001b[0;34m\u001b[0m\u001b[0m\n\u001b[1;32m     16\u001b[0m         \u001b[0ma_score\u001b[0m \u001b[0;34m=\u001b[0m \u001b[0mloss_acc\u001b[0m\u001b[0;34m[\u001b[0m\u001b[0;36m1\u001b[0m\u001b[0;34m]\u001b[0m\u001b[0;34m\u001b[0m\u001b[0;34m\u001b[0m\u001b[0m\n",
            "\u001b[0;32m<ipython-input-46-cac909d81ccd>\u001b[0m in \u001b[0;36mtrain_model\u001b[0;34m(X_train, y_train, nodes, dropout_probability, learning_rate, batch_size, epochs)\u001b[0m\n\u001b[1;32m     18\u001b[0m \u001b[0;34m\u001b[0m\u001b[0m\n\u001b[1;32m     19\u001b[0m   \u001b[0;31m# Train the model\u001b[0m\u001b[0;34m\u001b[0m\u001b[0;34m\u001b[0m\u001b[0m\n\u001b[0;32m---> 20\u001b[0;31m   \u001b[0mhistory\u001b[0m \u001b[0;34m=\u001b[0m \u001b[0mnn\u001b[0m\u001b[0;34m.\u001b[0m\u001b[0mfit\u001b[0m\u001b[0;34m(\u001b[0m\u001b[0mX_train\u001b[0m\u001b[0;34m,\u001b[0m \u001b[0my_train\u001b[0m\u001b[0;34m,\u001b[0m \u001b[0mbatch_size\u001b[0m\u001b[0;34m=\u001b[0m\u001b[0mbatch_size\u001b[0m\u001b[0;34m,\u001b[0m \u001b[0mepochs\u001b[0m\u001b[0;34m=\u001b[0m\u001b[0mepochs\u001b[0m\u001b[0;34m,\u001b[0m \u001b[0mvalidation_data\u001b[0m\u001b[0;34m=\u001b[0m\u001b[0;34m(\u001b[0m\u001b[0mX_valid\u001b[0m\u001b[0;34m,\u001b[0m \u001b[0my_valid\u001b[0m\u001b[0;34m)\u001b[0m\u001b[0;34m,\u001b[0m \u001b[0mverbose\u001b[0m\u001b[0;34m=\u001b[0m\u001b[0;36m0\u001b[0m\u001b[0;34m)\u001b[0m\u001b[0;34m\u001b[0m\u001b[0;34m\u001b[0m\u001b[0m\n\u001b[0m\u001b[1;32m     21\u001b[0m \u001b[0;34m\u001b[0m\u001b[0m\n\u001b[1;32m     22\u001b[0m   \u001b[0;32mreturn\u001b[0m \u001b[0mnn\u001b[0m\u001b[0;34m,\u001b[0m \u001b[0mhistory\u001b[0m\u001b[0;34m\u001b[0m\u001b[0;34m\u001b[0m\u001b[0m\n",
            "\u001b[0;32m/usr/local/lib/python3.10/dist-packages/keras/utils/traceback_utils.py\u001b[0m in \u001b[0;36merror_handler\u001b[0;34m(*args, **kwargs)\u001b[0m\n\u001b[1;32m     63\u001b[0m         \u001b[0mfiltered_tb\u001b[0m \u001b[0;34m=\u001b[0m \u001b[0;32mNone\u001b[0m\u001b[0;34m\u001b[0m\u001b[0;34m\u001b[0m\u001b[0m\n\u001b[1;32m     64\u001b[0m         \u001b[0;32mtry\u001b[0m\u001b[0;34m:\u001b[0m\u001b[0;34m\u001b[0m\u001b[0;34m\u001b[0m\u001b[0m\n\u001b[0;32m---> 65\u001b[0;31m             \u001b[0;32mreturn\u001b[0m \u001b[0mfn\u001b[0m\u001b[0;34m(\u001b[0m\u001b[0;34m*\u001b[0m\u001b[0margs\u001b[0m\u001b[0;34m,\u001b[0m \u001b[0;34m**\u001b[0m\u001b[0mkwargs\u001b[0m\u001b[0;34m)\u001b[0m\u001b[0;34m\u001b[0m\u001b[0;34m\u001b[0m\u001b[0m\n\u001b[0m\u001b[1;32m     66\u001b[0m         \u001b[0;32mexcept\u001b[0m \u001b[0mException\u001b[0m \u001b[0;32mas\u001b[0m \u001b[0me\u001b[0m\u001b[0;34m:\u001b[0m\u001b[0;34m\u001b[0m\u001b[0;34m\u001b[0m\u001b[0m\n\u001b[1;32m     67\u001b[0m             \u001b[0mfiltered_tb\u001b[0m \u001b[0;34m=\u001b[0m \u001b[0m_process_traceback_frames\u001b[0m\u001b[0;34m(\u001b[0m\u001b[0me\u001b[0m\u001b[0;34m.\u001b[0m\u001b[0m__traceback__\u001b[0m\u001b[0;34m)\u001b[0m\u001b[0;34m\u001b[0m\u001b[0;34m\u001b[0m\u001b[0m\n",
            "\u001b[0;32m/usr/local/lib/python3.10/dist-packages/keras/engine/training.py\u001b[0m in \u001b[0;36mfit\u001b[0;34m(self, x, y, batch_size, epochs, verbose, callbacks, validation_split, validation_data, shuffle, class_weight, sample_weight, initial_epoch, steps_per_epoch, validation_steps, validation_batch_size, validation_freq, max_queue_size, workers, use_multiprocessing)\u001b[0m\n\u001b[1;32m   1727\u001b[0m                             \u001b[0msteps_per_execution\u001b[0m\u001b[0;34m=\u001b[0m\u001b[0mself\u001b[0m\u001b[0;34m.\u001b[0m\u001b[0m_steps_per_execution\u001b[0m\u001b[0;34m,\u001b[0m\u001b[0;34m\u001b[0m\u001b[0;34m\u001b[0m\u001b[0m\n\u001b[1;32m   1728\u001b[0m                         )\n\u001b[0;32m-> 1729\u001b[0;31m                     val_logs = self.evaluate(\n\u001b[0m\u001b[1;32m   1730\u001b[0m                         \u001b[0mx\u001b[0m\u001b[0;34m=\u001b[0m\u001b[0mval_x\u001b[0m\u001b[0;34m,\u001b[0m\u001b[0;34m\u001b[0m\u001b[0;34m\u001b[0m\u001b[0m\n\u001b[1;32m   1731\u001b[0m                         \u001b[0my\u001b[0m\u001b[0;34m=\u001b[0m\u001b[0mval_y\u001b[0m\u001b[0;34m,\u001b[0m\u001b[0;34m\u001b[0m\u001b[0;34m\u001b[0m\u001b[0m\n",
            "\u001b[0;32m/usr/local/lib/python3.10/dist-packages/keras/utils/traceback_utils.py\u001b[0m in \u001b[0;36merror_handler\u001b[0;34m(*args, **kwargs)\u001b[0m\n\u001b[1;32m     63\u001b[0m         \u001b[0mfiltered_tb\u001b[0m \u001b[0;34m=\u001b[0m \u001b[0;32mNone\u001b[0m\u001b[0;34m\u001b[0m\u001b[0;34m\u001b[0m\u001b[0m\n\u001b[1;32m     64\u001b[0m         \u001b[0;32mtry\u001b[0m\u001b[0;34m:\u001b[0m\u001b[0;34m\u001b[0m\u001b[0;34m\u001b[0m\u001b[0m\n\u001b[0;32m---> 65\u001b[0;31m             \u001b[0;32mreturn\u001b[0m \u001b[0mfn\u001b[0m\u001b[0;34m(\u001b[0m\u001b[0;34m*\u001b[0m\u001b[0margs\u001b[0m\u001b[0;34m,\u001b[0m \u001b[0;34m**\u001b[0m\u001b[0mkwargs\u001b[0m\u001b[0;34m)\u001b[0m\u001b[0;34m\u001b[0m\u001b[0;34m\u001b[0m\u001b[0m\n\u001b[0m\u001b[1;32m     66\u001b[0m         \u001b[0;32mexcept\u001b[0m \u001b[0mException\u001b[0m \u001b[0;32mas\u001b[0m \u001b[0me\u001b[0m\u001b[0;34m:\u001b[0m\u001b[0;34m\u001b[0m\u001b[0;34m\u001b[0m\u001b[0m\n\u001b[1;32m     67\u001b[0m             \u001b[0mfiltered_tb\u001b[0m \u001b[0;34m=\u001b[0m \u001b[0m_process_traceback_frames\u001b[0m\u001b[0;34m(\u001b[0m\u001b[0me\u001b[0m\u001b[0;34m.\u001b[0m\u001b[0m__traceback__\u001b[0m\u001b[0;34m)\u001b[0m\u001b[0;34m\u001b[0m\u001b[0;34m\u001b[0m\u001b[0m\n",
            "\u001b[0;32m/usr/local/lib/python3.10/dist-packages/keras/engine/training.py\u001b[0m in \u001b[0;36mevaluate\u001b[0;34m(self, x, y, batch_size, verbose, sample_weight, steps, callbacks, max_queue_size, workers, use_multiprocessing, return_dict, **kwargs)\u001b[0m\n\u001b[1;32m   2065\u001b[0m                 \u001b[0mself\u001b[0m\u001b[0;34m.\u001b[0m\u001b[0mreset_metrics\u001b[0m\u001b[0;34m(\u001b[0m\u001b[0;34m)\u001b[0m\u001b[0;34m\u001b[0m\u001b[0;34m\u001b[0m\u001b[0m\n\u001b[1;32m   2066\u001b[0m                 \u001b[0;32mwith\u001b[0m \u001b[0mdata_handler\u001b[0m\u001b[0;34m.\u001b[0m\u001b[0mcatch_stop_iteration\u001b[0m\u001b[0;34m(\u001b[0m\u001b[0;34m)\u001b[0m\u001b[0;34m:\u001b[0m\u001b[0;34m\u001b[0m\u001b[0;34m\u001b[0m\u001b[0m\n\u001b[0;32m-> 2067\u001b[0;31m                     \u001b[0;32mfor\u001b[0m \u001b[0mstep\u001b[0m \u001b[0;32min\u001b[0m \u001b[0mdata_handler\u001b[0m\u001b[0;34m.\u001b[0m\u001b[0msteps\u001b[0m\u001b[0;34m(\u001b[0m\u001b[0;34m)\u001b[0m\u001b[0;34m:\u001b[0m\u001b[0;34m\u001b[0m\u001b[0;34m\u001b[0m\u001b[0m\n\u001b[0m\u001b[1;32m   2068\u001b[0m                         with tf.profiler.experimental.Trace(\n\u001b[1;32m   2069\u001b[0m                             \u001b[0;34m\"test\"\u001b[0m\u001b[0;34m,\u001b[0m \u001b[0mstep_num\u001b[0m\u001b[0;34m=\u001b[0m\u001b[0mstep\u001b[0m\u001b[0;34m,\u001b[0m \u001b[0m_r\u001b[0m\u001b[0;34m=\u001b[0m\u001b[0;36m1\u001b[0m\u001b[0;34m\u001b[0m\u001b[0;34m\u001b[0m\u001b[0m\n",
            "\u001b[0;32m/usr/local/lib/python3.10/dist-packages/keras/engine/data_adapter.py\u001b[0m in \u001b[0;36msteps\u001b[0;34m(self)\u001b[0m\n\u001b[1;32m   1373\u001b[0m             \u001b[0;32mif\u001b[0m \u001b[0mself\u001b[0m\u001b[0;34m.\u001b[0m\u001b[0m_insufficient_data\u001b[0m\u001b[0;34m:\u001b[0m  \u001b[0;31m# Set by `catch_stop_iteration`.\u001b[0m\u001b[0;34m\u001b[0m\u001b[0;34m\u001b[0m\u001b[0m\n\u001b[1;32m   1374\u001b[0m                 \u001b[0;32mbreak\u001b[0m\u001b[0;34m\u001b[0m\u001b[0;34m\u001b[0m\u001b[0m\n\u001b[0;32m-> 1375\u001b[0;31m             \u001b[0moriginal_spe\u001b[0m \u001b[0;34m=\u001b[0m \u001b[0mself\u001b[0m\u001b[0;34m.\u001b[0m\u001b[0m_steps_per_execution\u001b[0m\u001b[0;34m.\u001b[0m\u001b[0mnumpy\u001b[0m\u001b[0;34m(\u001b[0m\u001b[0;34m)\u001b[0m\u001b[0;34m.\u001b[0m\u001b[0mitem\u001b[0m\u001b[0;34m(\u001b[0m\u001b[0;34m)\u001b[0m\u001b[0;34m\u001b[0m\u001b[0;34m\u001b[0m\u001b[0m\n\u001b[0m\u001b[1;32m   1376\u001b[0m             can_run_full_execution = (\n\u001b[1;32m   1377\u001b[0m                 \u001b[0moriginal_spe\u001b[0m \u001b[0;34m==\u001b[0m \u001b[0;36m1\u001b[0m\u001b[0;34m\u001b[0m\u001b[0;34m\u001b[0m\u001b[0m\n",
            "\u001b[0;32m/usr/local/lib/python3.10/dist-packages/tensorflow/python/ops/resource_variable_ops.py\u001b[0m in \u001b[0;36mnumpy\u001b[0;34m(self)\u001b[0m\n\u001b[1;32m    645\u001b[0m   \u001b[0;32mdef\u001b[0m \u001b[0mnumpy\u001b[0m\u001b[0;34m(\u001b[0m\u001b[0mself\u001b[0m\u001b[0;34m)\u001b[0m\u001b[0;34m:\u001b[0m\u001b[0;34m\u001b[0m\u001b[0;34m\u001b[0m\u001b[0m\n\u001b[1;32m    646\u001b[0m     \u001b[0;32mif\u001b[0m \u001b[0mcontext\u001b[0m\u001b[0;34m.\u001b[0m\u001b[0mexecuting_eagerly\u001b[0m\u001b[0;34m(\u001b[0m\u001b[0;34m)\u001b[0m\u001b[0;34m:\u001b[0m\u001b[0;34m\u001b[0m\u001b[0;34m\u001b[0m\u001b[0m\n\u001b[0;32m--> 647\u001b[0;31m       \u001b[0;32mreturn\u001b[0m \u001b[0mself\u001b[0m\u001b[0;34m.\u001b[0m\u001b[0mread_value\u001b[0m\u001b[0;34m(\u001b[0m\u001b[0;34m)\u001b[0m\u001b[0;34m.\u001b[0m\u001b[0mnumpy\u001b[0m\u001b[0;34m(\u001b[0m\u001b[0;34m)\u001b[0m\u001b[0;34m\u001b[0m\u001b[0;34m\u001b[0m\u001b[0m\n\u001b[0m\u001b[1;32m    648\u001b[0m     raise NotImplementedError(\n\u001b[1;32m    649\u001b[0m         \"numpy() is only available when eager execution is enabled.\")\n",
            "\u001b[0;31mKeyboardInterrupt\u001b[0m: "
          ]
        }
      ]
    },
    {
      "cell_type": "code",
      "source": [
        "# Calculate the classification report\n",
        "target_names = [\"Not Successful\", \"Successful\"]\n",
        "\n",
        "y_pred = least_loss_model.predict(X_test)\n",
        "y_pred = (y_pred > 0.5).astype(int).reshape(-1,)\n",
        "print(classification_report(y_test, y_pred, target_names=target_names))"
      ],
      "metadata": {
        "colab": {
          "base_uri": "https://localhost:8080/"
        },
        "id": "rcgZ6TcKUn5r",
        "outputId": "1706bd25-5ab4-4f48-d2f0-977d9c97174e"
      },
      "execution_count": 54,
      "outputs": [
        {
          "output_type": "stream",
          "name": "stdout",
          "text": [
            "1072/1072 [==============================] - 1s 1ms/step\n",
            "                precision    recall  f1-score   support\n",
            "\n",
            "Not Successful       0.85      0.57      0.68     16038\n",
            "    Successful       0.71      0.91      0.80     18261\n",
            "\n",
            "      accuracy                           0.75     34299\n",
            "     macro avg       0.78      0.74      0.74     34299\n",
            "  weighted avg       0.77      0.75      0.74     34299\n",
            "\n"
          ]
        }
      ]
    }
  ],
  "metadata": {
    "kernelspec": {
      "display_name": "Python 3",
      "language": "python",
      "name": "python3"
    },
    "language_info": {
      "codemirror_mode": {
        "name": "ipython",
        "version": 3
      },
      "file_extension": ".py",
      "mimetype": "text/x-python",
      "name": "python",
      "nbconvert_exporter": "python",
      "pygments_lexer": "ipython3",
      "version": "3.7.6"
    },
    "colab": {
      "provenance": [],
      "include_colab_link": true
    }
  },
  "nbformat": 4,
  "nbformat_minor": 0
}