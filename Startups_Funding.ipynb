{
  "cells": [
    {
      "cell_type": "markdown",
      "metadata": {
        "id": "view-in-github",
        "colab_type": "text"
      },
      "source": [
        "<a href=\"https://colab.research.google.com/github/mugsiemx/deep-learning-challenge/blob/main/Startups_Funding.ipynb\" target=\"_parent\"><img src=\"https://colab.research.google.com/assets/colab-badge.svg\" alt=\"Open In Colab\"/></a>"
      ]
    },
    {
      "cell_type": "markdown",
      "metadata": {
        "id": "Ahsk0UBXaPzo"
      },
      "source": [
        "## Preprocessing"
      ]
    },
    {
      "cell_type": "code",
      "source": [
        "# import the repository for the csv file\n",
        "! git clone https://github.com/mugsiemx/deep-learning-challenge"
      ],
      "metadata": {
        "id": "FnGqSNObDMuT",
        "outputId": "62083f11-6dca-4dbe-cc24-6fec1bdfb141",
        "colab": {
          "base_uri": "https://localhost:8080/"
        }
      },
      "execution_count": 2,
      "outputs": [
        {
          "output_type": "stream",
          "name": "stdout",
          "text": [
            "Cloning into 'deep-learning-challenge'...\n",
            "remote: Enumerating objects: 44, done.\u001b[K\n",
            "remote: Counting objects: 100% (44/44), done.\u001b[K\n",
            "remote: Compressing objects: 100% (37/37), done.\u001b[K\n",
            "remote: Total 44 (delta 18), reused 16 (delta 4), pack-reused 0\u001b[K\n",
            "Unpacking objects: 100% (44/44), 1.39 MiB | 3.06 MiB/s, done.\n"
          ]
        }
      ]
    },
    {
      "cell_type": "code",
      "execution_count": 61,
      "metadata": {
        "colab": {
          "base_uri": "https://localhost:8080/"
        },
        "id": "WzNBL7LyaPzq",
        "outputId": "49a6f09e-5a5e-45a7-9b22-43e5d00fe438"
      },
      "outputs": [
        {
          "output_type": "stream",
          "name": "stdout",
          "text": [
            "CPU times: user 17.3 ms, sys: 2.51 ms, total: 19.8 ms\n",
            "Wall time: 21.3 ms\n"
          ]
        },
        {
          "output_type": "execute_result",
          "data": {
            "text/plain": [
              "(EIN                        int64\n",
              " NAME                      object\n",
              " APPLICATION_TYPE          string\n",
              " AFFILIATION               string\n",
              " CLASSIFICATION            string\n",
              " USE_CASE                  string\n",
              " ORGANIZATION              string\n",
              " STATUS                    string\n",
              " INCOME_AMT                string\n",
              " SPECIAL_CONSIDERATIONS    string\n",
              " ASK_AMT                    int64\n",
              " IS_SUCCESSFUL              int64\n",
              " dtype: object,\n",
              " (Delayed('int-ec0c7c0f-b4c4-4128-93d7-e3e2eb805ef8'), 12))"
            ]
          },
          "metadata": {},
          "execution_count": 61
        }
      ],
      "source": [
        "# Import our dependencies\n",
        "from sklearn.model_selection import train_test_split\n",
        "from sklearn.preprocessing import StandardScaler\n",
        "import dask.dataframe as dd\n",
        "import pandas as pd\n",
        "import tensorflow as tf\n",
        "\n",
        "# #  Import and read the charity_data.csv.\n",
        "# import pandas as pd \n",
        "# application_df = pd.read_csv(\"/Resources/charity_data.csv\")\n",
        "# application_df.head()\n",
        "\n",
        "# read the CSV file from the Resources folder into a dask DataFrame\n",
        "%time df = dd.read_csv('/content/deep-learning-challenge/Resources/charity_data.csv', low_memory=False,\\\n",
        "                       dtype={'APPLICATION_TYPE': 'string[pyarrow]','AFFILIATION': 'string[pyarrow]','CLASSIFICATION': 'string[pyarrow]',\\\n",
        "                              'USE_CASE': 'string[pyarrow]','ORGANIZATION': 'string[pyarrow]','STATUS': 'string[pyarrow]','INCOME_AMT': 'string[pyarrow]',\\\n",
        "                              'SPECIAL_CONSIDERATIONS': 'string[pyarrow]'}\\\n",
        "                       )\n",
        "# review the DataFrame\n",
        "df.dtypes, df.shape"
      ]
    },
    {
      "cell_type": "code",
      "execution_count": 62,
      "metadata": {
        "colab": {
          "base_uri": "https://localhost:8080/"
        },
        "id": "6ONtAijWaPzs",
        "outputId": "7397cba3-56be-4445-96f1-329018107bda"
      },
      "outputs": [
        {
          "output_type": "stream",
          "name": "stdout",
          "text": [
            "<class 'dask.dataframe.core.DataFrame'>\n",
            "Columns: 10 entries, APPLICATION_TYPE to IS_SUCCESSFUL\n",
            "dtypes: int64(2), string(8)"
          ]
        },
        {
          "output_type": "execute_result",
          "data": {
            "text/plain": [
              "(None,\n",
              " APPLICATION_TYPE          string\n",
              " AFFILIATION               string\n",
              " CLASSIFICATION            string\n",
              " USE_CASE                  string\n",
              " ORGANIZATION              string\n",
              " STATUS                    string\n",
              " INCOME_AMT                string\n",
              " SPECIAL_CONSIDERATIONS    string\n",
              " ASK_AMT                    int64\n",
              " IS_SUCCESSFUL              int64\n",
              " dtype: object)"
            ]
          },
          "metadata": {},
          "execution_count": 62
        }
      ],
      "source": [
        "# Drop the non-beneficial ID columns, 'EIN' and 'NAME'.\n",
        "df = df.drop(['EIN','NAME'], axis=1)\n",
        "df.info(), df.dtypes"
      ]
    },
    {
      "cell_type": "code",
      "source": [
        "# create DataFrame\n",
        "application_df = df.compute()\n",
        "application_df"
      ],
      "metadata": {
        "colab": {
          "base_uri": "https://localhost:8080/",
          "height": 522
        },
        "id": "HHxhSi0waq5V",
        "outputId": "4aa9c968-35de-449f-c485-f9001d635044"
      },
      "execution_count": 63,
      "outputs": [
        {
          "output_type": "execute_result",
          "data": {
            "text/plain": [
              "      APPLICATION_TYPE       AFFILIATION CLASSIFICATION      USE_CASE  \\\n",
              "0                  T10       Independent          C1000    ProductDev   \n",
              "1                   T3       Independent          C2000  Preservation   \n",
              "2                   T5  CompanySponsored          C3000    ProductDev   \n",
              "3                   T3  CompanySponsored          C2000  Preservation   \n",
              "4                   T3       Independent          C1000     Heathcare   \n",
              "...                ...               ...            ...           ...   \n",
              "34294               T4       Independent          C1000    ProductDev   \n",
              "34295               T4  CompanySponsored          C3000    ProductDev   \n",
              "34296               T3  CompanySponsored          C2000  Preservation   \n",
              "34297               T5       Independent          C3000    ProductDev   \n",
              "34298               T3       Independent          C1000  Preservation   \n",
              "\n",
              "       ORGANIZATION STATUS     INCOME_AMT SPECIAL_CONSIDERATIONS   ASK_AMT  \\\n",
              "0       Association      1              0                      N      5000   \n",
              "1      Co-operative      1         1-9999                      N    108590   \n",
              "2       Association      1              0                      N      5000   \n",
              "3             Trust      1    10000-24999                      N      6692   \n",
              "4             Trust      1  100000-499999                      N    142590   \n",
              "...             ...    ...            ...                    ...       ...   \n",
              "34294   Association      1              0                      N      5000   \n",
              "34295   Association      1              0                      N      5000   \n",
              "34296   Association      1              0                      N      5000   \n",
              "34297   Association      1              0                      N      5000   \n",
              "34298  Co-operative      1          1M-5M                      N  36500179   \n",
              "\n",
              "       IS_SUCCESSFUL  \n",
              "0                  1  \n",
              "1                  1  \n",
              "2                  0  \n",
              "3                  1  \n",
              "4                  1  \n",
              "...              ...  \n",
              "34294              0  \n",
              "34295              0  \n",
              "34296              0  \n",
              "34297              1  \n",
              "34298              0  \n",
              "\n",
              "[34299 rows x 10 columns]"
            ],
            "text/html": [
              "\n",
              "  <div id=\"df-7a1e69a3-f684-4bf8-9b93-83202612098f\">\n",
              "    <div class=\"colab-df-container\">\n",
              "      <div>\n",
              "<style scoped>\n",
              "    .dataframe tbody tr th:only-of-type {\n",
              "        vertical-align: middle;\n",
              "    }\n",
              "\n",
              "    .dataframe tbody tr th {\n",
              "        vertical-align: top;\n",
              "    }\n",
              "\n",
              "    .dataframe thead th {\n",
              "        text-align: right;\n",
              "    }\n",
              "</style>\n",
              "<table border=\"1\" class=\"dataframe\">\n",
              "  <thead>\n",
              "    <tr style=\"text-align: right;\">\n",
              "      <th></th>\n",
              "      <th>APPLICATION_TYPE</th>\n",
              "      <th>AFFILIATION</th>\n",
              "      <th>CLASSIFICATION</th>\n",
              "      <th>USE_CASE</th>\n",
              "      <th>ORGANIZATION</th>\n",
              "      <th>STATUS</th>\n",
              "      <th>INCOME_AMT</th>\n",
              "      <th>SPECIAL_CONSIDERATIONS</th>\n",
              "      <th>ASK_AMT</th>\n",
              "      <th>IS_SUCCESSFUL</th>\n",
              "    </tr>\n",
              "  </thead>\n",
              "  <tbody>\n",
              "    <tr>\n",
              "      <th>0</th>\n",
              "      <td>T10</td>\n",
              "      <td>Independent</td>\n",
              "      <td>C1000</td>\n",
              "      <td>ProductDev</td>\n",
              "      <td>Association</td>\n",
              "      <td>1</td>\n",
              "      <td>0</td>\n",
              "      <td>N</td>\n",
              "      <td>5000</td>\n",
              "      <td>1</td>\n",
              "    </tr>\n",
              "    <tr>\n",
              "      <th>1</th>\n",
              "      <td>T3</td>\n",
              "      <td>Independent</td>\n",
              "      <td>C2000</td>\n",
              "      <td>Preservation</td>\n",
              "      <td>Co-operative</td>\n",
              "      <td>1</td>\n",
              "      <td>1-9999</td>\n",
              "      <td>N</td>\n",
              "      <td>108590</td>\n",
              "      <td>1</td>\n",
              "    </tr>\n",
              "    <tr>\n",
              "      <th>2</th>\n",
              "      <td>T5</td>\n",
              "      <td>CompanySponsored</td>\n",
              "      <td>C3000</td>\n",
              "      <td>ProductDev</td>\n",
              "      <td>Association</td>\n",
              "      <td>1</td>\n",
              "      <td>0</td>\n",
              "      <td>N</td>\n",
              "      <td>5000</td>\n",
              "      <td>0</td>\n",
              "    </tr>\n",
              "    <tr>\n",
              "      <th>3</th>\n",
              "      <td>T3</td>\n",
              "      <td>CompanySponsored</td>\n",
              "      <td>C2000</td>\n",
              "      <td>Preservation</td>\n",
              "      <td>Trust</td>\n",
              "      <td>1</td>\n",
              "      <td>10000-24999</td>\n",
              "      <td>N</td>\n",
              "      <td>6692</td>\n",
              "      <td>1</td>\n",
              "    </tr>\n",
              "    <tr>\n",
              "      <th>4</th>\n",
              "      <td>T3</td>\n",
              "      <td>Independent</td>\n",
              "      <td>C1000</td>\n",
              "      <td>Heathcare</td>\n",
              "      <td>Trust</td>\n",
              "      <td>1</td>\n",
              "      <td>100000-499999</td>\n",
              "      <td>N</td>\n",
              "      <td>142590</td>\n",
              "      <td>1</td>\n",
              "    </tr>\n",
              "    <tr>\n",
              "      <th>...</th>\n",
              "      <td>...</td>\n",
              "      <td>...</td>\n",
              "      <td>...</td>\n",
              "      <td>...</td>\n",
              "      <td>...</td>\n",
              "      <td>...</td>\n",
              "      <td>...</td>\n",
              "      <td>...</td>\n",
              "      <td>...</td>\n",
              "      <td>...</td>\n",
              "    </tr>\n",
              "    <tr>\n",
              "      <th>34294</th>\n",
              "      <td>T4</td>\n",
              "      <td>Independent</td>\n",
              "      <td>C1000</td>\n",
              "      <td>ProductDev</td>\n",
              "      <td>Association</td>\n",
              "      <td>1</td>\n",
              "      <td>0</td>\n",
              "      <td>N</td>\n",
              "      <td>5000</td>\n",
              "      <td>0</td>\n",
              "    </tr>\n",
              "    <tr>\n",
              "      <th>34295</th>\n",
              "      <td>T4</td>\n",
              "      <td>CompanySponsored</td>\n",
              "      <td>C3000</td>\n",
              "      <td>ProductDev</td>\n",
              "      <td>Association</td>\n",
              "      <td>1</td>\n",
              "      <td>0</td>\n",
              "      <td>N</td>\n",
              "      <td>5000</td>\n",
              "      <td>0</td>\n",
              "    </tr>\n",
              "    <tr>\n",
              "      <th>34296</th>\n",
              "      <td>T3</td>\n",
              "      <td>CompanySponsored</td>\n",
              "      <td>C2000</td>\n",
              "      <td>Preservation</td>\n",
              "      <td>Association</td>\n",
              "      <td>1</td>\n",
              "      <td>0</td>\n",
              "      <td>N</td>\n",
              "      <td>5000</td>\n",
              "      <td>0</td>\n",
              "    </tr>\n",
              "    <tr>\n",
              "      <th>34297</th>\n",
              "      <td>T5</td>\n",
              "      <td>Independent</td>\n",
              "      <td>C3000</td>\n",
              "      <td>ProductDev</td>\n",
              "      <td>Association</td>\n",
              "      <td>1</td>\n",
              "      <td>0</td>\n",
              "      <td>N</td>\n",
              "      <td>5000</td>\n",
              "      <td>1</td>\n",
              "    </tr>\n",
              "    <tr>\n",
              "      <th>34298</th>\n",
              "      <td>T3</td>\n",
              "      <td>Independent</td>\n",
              "      <td>C1000</td>\n",
              "      <td>Preservation</td>\n",
              "      <td>Co-operative</td>\n",
              "      <td>1</td>\n",
              "      <td>1M-5M</td>\n",
              "      <td>N</td>\n",
              "      <td>36500179</td>\n",
              "      <td>0</td>\n",
              "    </tr>\n",
              "  </tbody>\n",
              "</table>\n",
              "<p>34299 rows × 10 columns</p>\n",
              "</div>\n",
              "      <button class=\"colab-df-convert\" onclick=\"convertToInteractive('df-7a1e69a3-f684-4bf8-9b93-83202612098f')\"\n",
              "              title=\"Convert this dataframe to an interactive table.\"\n",
              "              style=\"display:none;\">\n",
              "        \n",
              "  <svg xmlns=\"http://www.w3.org/2000/svg\" height=\"24px\"viewBox=\"0 0 24 24\"\n",
              "       width=\"24px\">\n",
              "    <path d=\"M0 0h24v24H0V0z\" fill=\"none\"/>\n",
              "    <path d=\"M18.56 5.44l.94 2.06.94-2.06 2.06-.94-2.06-.94-.94-2.06-.94 2.06-2.06.94zm-11 1L8.5 8.5l.94-2.06 2.06-.94-2.06-.94L8.5 2.5l-.94 2.06-2.06.94zm10 10l.94 2.06.94-2.06 2.06-.94-2.06-.94-.94-2.06-.94 2.06-2.06.94z\"/><path d=\"M17.41 7.96l-1.37-1.37c-.4-.4-.92-.59-1.43-.59-.52 0-1.04.2-1.43.59L10.3 9.45l-7.72 7.72c-.78.78-.78 2.05 0 2.83L4 21.41c.39.39.9.59 1.41.59.51 0 1.02-.2 1.41-.59l7.78-7.78 2.81-2.81c.8-.78.8-2.07 0-2.86zM5.41 20L4 18.59l7.72-7.72 1.47 1.35L5.41 20z\"/>\n",
              "  </svg>\n",
              "      </button>\n",
              "      \n",
              "  <style>\n",
              "    .colab-df-container {\n",
              "      display:flex;\n",
              "      flex-wrap:wrap;\n",
              "      gap: 12px;\n",
              "    }\n",
              "\n",
              "    .colab-df-convert {\n",
              "      background-color: #E8F0FE;\n",
              "      border: none;\n",
              "      border-radius: 50%;\n",
              "      cursor: pointer;\n",
              "      display: none;\n",
              "      fill: #1967D2;\n",
              "      height: 32px;\n",
              "      padding: 0 0 0 0;\n",
              "      width: 32px;\n",
              "    }\n",
              "\n",
              "    .colab-df-convert:hover {\n",
              "      background-color: #E2EBFA;\n",
              "      box-shadow: 0px 1px 2px rgba(60, 64, 67, 0.3), 0px 1px 3px 1px rgba(60, 64, 67, 0.15);\n",
              "      fill: #174EA6;\n",
              "    }\n",
              "\n",
              "    [theme=dark] .colab-df-convert {\n",
              "      background-color: #3B4455;\n",
              "      fill: #D2E3FC;\n",
              "    }\n",
              "\n",
              "    [theme=dark] .colab-df-convert:hover {\n",
              "      background-color: #434B5C;\n",
              "      box-shadow: 0px 1px 3px 1px rgba(0, 0, 0, 0.15);\n",
              "      filter: drop-shadow(0px 1px 2px rgba(0, 0, 0, 0.3));\n",
              "      fill: #FFFFFF;\n",
              "    }\n",
              "  </style>\n",
              "\n",
              "      <script>\n",
              "        const buttonEl =\n",
              "          document.querySelector('#df-7a1e69a3-f684-4bf8-9b93-83202612098f button.colab-df-convert');\n",
              "        buttonEl.style.display =\n",
              "          google.colab.kernel.accessAllowed ? 'block' : 'none';\n",
              "\n",
              "        async function convertToInteractive(key) {\n",
              "          const element = document.querySelector('#df-7a1e69a3-f684-4bf8-9b93-83202612098f');\n",
              "          const dataTable =\n",
              "            await google.colab.kernel.invokeFunction('convertToInteractive',\n",
              "                                                     [key], {});\n",
              "          if (!dataTable) return;\n",
              "\n",
              "          const docLinkHtml = 'Like what you see? Visit the ' +\n",
              "            '<a target=\"_blank\" href=https://colab.research.google.com/notebooks/data_table.ipynb>data table notebook</a>'\n",
              "            + ' to learn more about interactive tables.';\n",
              "          element.innerHTML = '';\n",
              "          dataTable['output_type'] = 'display_data';\n",
              "          await google.colab.output.renderOutput(dataTable, element);\n",
              "          const docLink = document.createElement('div');\n",
              "          docLink.innerHTML = docLinkHtml;\n",
              "          element.appendChild(docLink);\n",
              "        }\n",
              "      </script>\n",
              "    </div>\n",
              "  </div>\n",
              "  "
            ]
          },
          "metadata": {},
          "execution_count": 63
        }
      ]
    },
    {
      "cell_type": "code",
      "source": [
        "# missing data\n",
        "# application_df.isnull"
      ],
      "metadata": {
        "id": "w3T22KXQcWIq"
      },
      "execution_count": null,
      "outputs": []
    },
    {
      "cell_type": "code",
      "execution_count": 64,
      "metadata": {
        "colab": {
          "base_uri": "https://localhost:8080/"
        },
        "id": "2I6Xxhb4aPzs",
        "outputId": "1fcdef00-8e5c-497b-9d04-a67e3e6846d1"
      },
      "outputs": [
        {
          "output_type": "execute_result",
          "data": {
            "text/plain": [
              "APPLICATION_TYPE            17\n",
              "AFFILIATION                  6\n",
              "CLASSIFICATION              71\n",
              "USE_CASE                     5\n",
              "ORGANIZATION                 4\n",
              "STATUS                       2\n",
              "INCOME_AMT                   9\n",
              "SPECIAL_CONSIDERATIONS       2\n",
              "ASK_AMT                   8747\n",
              "IS_SUCCESSFUL                2\n",
              "dtype: int64"
            ]
          },
          "metadata": {},
          "execution_count": 64
        }
      ],
      "source": [
        "# Determine the number of unique values in each column.\n",
        "application_df.nunique()"
      ]
    },
    {
      "cell_type": "code",
      "execution_count": 65,
      "metadata": {
        "colab": {
          "base_uri": "https://localhost:8080/"
        },
        "id": "FzyH72_FaPzs",
        "outputId": "9420b22d-182b-40bc-a21a-d6ae70c26369"
      },
      "outputs": [
        {
          "output_type": "execute_result",
          "data": {
            "text/plain": [
              "T3     27037\n",
              "T4      1542\n",
              "T6      1216\n",
              "T5      1173\n",
              "T19     1065\n",
              "T8       737\n",
              "T7       725\n",
              "T10      528\n",
              "T9       156\n",
              "T13       66\n",
              "T12       27\n",
              "T2        16\n",
              "T25        3\n",
              "T14        3\n",
              "T29        2\n",
              "T15        2\n",
              "T17        1\n",
              "Name: APPLICATION_TYPE, dtype: Int64"
            ]
          },
          "metadata": {},
          "execution_count": 65
        }
      ],
      "source": [
        "# Look at APPLICATION_TYPE value counts for binning\n",
        "app_counts = application_df['APPLICATION_TYPE'].value_counts()\n",
        "app_counts"
      ]
    },
    {
      "cell_type": "code",
      "execution_count": 66,
      "metadata": {
        "id": "EZe6qfotaPzt",
        "outputId": "9dfe8db6-0651-4019-aa0f-5f7c9b754fc7",
        "colab": {
          "base_uri": "https://localhost:8080/"
        }
      },
      "outputs": [
        {
          "output_type": "execute_result",
          "data": {
            "text/plain": [
              "T3       27037\n",
              "T4        1542\n",
              "T6        1216\n",
              "T5        1173\n",
              "T19       1065\n",
              "T8         737\n",
              "T7         725\n",
              "T10        528\n",
              "Other      276\n",
              "Name: APPLICATION_TYPE, dtype: Int64"
            ]
          },
          "metadata": {},
          "execution_count": 66
        }
      ],
      "source": [
        "# Choose a cutoff value and create a list of application types to be replaced\n",
        "# use the variable name `application_types_to_replace`\n",
        "application_types_to_replace = app_counts[app_counts < 500].index.values\n",
        "    \n",
        "# Replace in dataframe\n",
        "for app in application_types_to_replace:\n",
        "    application_df['APPLICATION_TYPE'] = application_df['APPLICATION_TYPE'].replace(app,\"Other\")\n",
        "\n",
        "# Check to make sure binning was successful\n",
        "application_df['APPLICATION_TYPE'].value_counts()"
      ]
    },
    {
      "cell_type": "code",
      "execution_count": 78,
      "metadata": {
        "id": "Zk_1-hY-aPzt",
        "outputId": "de6d19f0-334a-4a65-dc10-ea22c29470bd",
        "colab": {
          "base_uri": "https://localhost:8080/"
        }
      },
      "outputs": [
        {
          "output_type": "execute_result",
          "data": {
            "text/plain": [
              "C1000    17326\n",
              "C2000     6074\n",
              "C1200     4837\n",
              "C3000     1918\n",
              "C2100     1883\n",
              "         ...  \n",
              "C4120        1\n",
              "C8210        1\n",
              "C2561        1\n",
              "C4500        1\n",
              "C2150        1\n",
              "Name: CLASSIFICATION, Length: 71, dtype: Int64"
            ]
          },
          "metadata": {},
          "execution_count": 78
        }
      ],
      "source": [
        "# Look at CLASSIFICATION value counts for binning\n",
        "class_counts = application_df['CLASSIFICATION'].value_counts()\n",
        "class_counts"
      ]
    },
    {
      "cell_type": "code",
      "execution_count": 92,
      "metadata": {
        "id": "rBCOsq9ZaPzt",
        "outputId": "9b2419ca-779f-4f3d-9e1e-bdb46601560a",
        "colab": {
          "base_uri": "https://localhost:8080/"
        }
      },
      "outputs": [
        {
          "output_type": "execute_result",
          "data": {
            "text/plain": [
              "1        26\n",
              "2         5\n",
              "3         3\n",
              "6         3\n",
              "32        2\n",
              "5         2\n",
              "9         2\n",
              "10        2\n",
              "15        2\n",
              "194       1\n",
              "104       1\n",
              "114       1\n",
              "116       1\n",
              "1918      1\n",
              "287       1\n",
              "777       1\n",
              "1883      1\n",
              "75        1\n",
              "4837      1\n",
              "95        1\n",
              "17326     1\n",
              "58        1\n",
              "50        1\n",
              "36        1\n",
              "6074      1\n",
              "30        1\n",
              "20        1\n",
              "18        1\n",
              "16        1\n",
              "14        1\n",
              "11        1\n",
              "7         1\n",
              "34        1\n",
              "Name: CLASSIFICATION, dtype: Int64"
            ]
          },
          "metadata": {},
          "execution_count": 92
        }
      ],
      "source": [
        "# You may find it helpful to look at CLASSIFICATION value counts >1\n",
        "# listed all counts for counts in number of classifications for each classification (1000 is our 'Other' bin point)\n",
        "c = ((application_df['CLASSIFICATION'].value_counts()).value_counts().sort_values(ascending=False))\n",
        "c"
      ]
    },
    {
      "cell_type": "code",
      "execution_count": 93,
      "metadata": {
        "id": "gu-SfyiXaPzt",
        "outputId": "78b70fb6-84bf-4c5f-fe04-86d31f7ceea5",
        "colab": {
          "base_uri": "https://localhost:8080/"
        }
      },
      "outputs": [
        {
          "output_type": "execute_result",
          "data": {
            "text/plain": [
              "C1000    17326\n",
              "C2000     6074\n",
              "C1200     4837\n",
              "Other     2261\n",
              "C3000     1918\n",
              "C2100     1883\n",
              "Name: CLASSIFICATION, dtype: Int64"
            ]
          },
          "metadata": {},
          "execution_count": 93
        }
      ],
      "source": [
        "# Choose a cutoff value and create a list of classifications to be replaced\n",
        "# use the variable name `classifications_to_replace`\n",
        "classifications_to_replace = class_counts[class_counts < 1000].index.values\n",
        "\n",
        "# Replace in dataframe\n",
        "for cls in classifications_to_replace:\n",
        "    application_df['CLASSIFICATION'] = application_df['CLASSIFICATION'].replace(cls,\"Other\")\n",
        "    \n",
        "# Check to make sure binning was successful\n",
        "application_df['CLASSIFICATION'].value_counts()"
      ]
    },
    {
      "cell_type": "code",
      "execution_count": null,
      "metadata": {
        "id": "jrinVNBJaPzu"
      },
      "outputs": [],
      "source": [
        "# Convert categorical data to numeric with `pd.get_dummies`\n"
      ]
    },
    {
      "cell_type": "code",
      "execution_count": null,
      "metadata": {
        "id": "ooVVklu7aPzu"
      },
      "outputs": [],
      "source": [
        "# Split our preprocessed data into our features and target arrays\n",
        "#  YOUR CODE GOES HERE\n",
        "\n",
        "# Split the preprocessed data into a training and testing dataset\n",
        "#  YOUR CODE GOES HERE"
      ]
    },
    {
      "cell_type": "code",
      "execution_count": null,
      "metadata": {
        "id": "um9sCr2naPzu"
      },
      "outputs": [],
      "source": [
        "# Create a StandardScaler instances\n",
        "scaler = StandardScaler()\n",
        "\n",
        "# Fit the StandardScaler\n",
        "X_scaler = scaler.fit(X_train)\n",
        "\n",
        "# Scale the data\n",
        "X_train_scaled = X_scaler.transform(X_train)\n",
        "X_test_scaled = X_scaler.transform(X_test)"
      ]
    },
    {
      "cell_type": "markdown",
      "metadata": {
        "id": "3NwXHKT2aPzu"
      },
      "source": [
        "## Compile, Train and Evaluate the Model"
      ]
    },
    {
      "cell_type": "code",
      "execution_count": null,
      "metadata": {
        "id": "j1-JdvpiaPzv",
        "outputId": "f5dc303b-fe43-4fd7-9c0d-9f344a45c74d"
      },
      "outputs": [
        {
          "name": "stdout",
          "output_type": "stream",
          "text": [
            "WARNING:tensorflow:From Z:\\Travis\\anaconda3\\lib\\site-packages\\tensorflow\\python\\ops\\init_ops.py:1251: calling VarianceScaling.__init__ (from tensorflow.python.ops.init_ops) with dtype is deprecated and will be removed in a future version.\n",
            "Instructions for updating:\n",
            "Call initializer instance with the dtype argument instead of passing it to the constructor\n",
            "Model: \"sequential\"\n",
            "_________________________________________________________________\n",
            "Layer (type)                 Output Shape              Param #   \n",
            "=================================================================\n",
            "dense (Dense)                (None, 80)                3520      \n",
            "_________________________________________________________________\n",
            "dense_1 (Dense)              (None, 30)                2430      \n",
            "_________________________________________________________________\n",
            "dense_2 (Dense)              (None, 1)                 31        \n",
            "=================================================================\n",
            "Total params: 5,981\n",
            "Trainable params: 5,981\n",
            "Non-trainable params: 0\n",
            "_________________________________________________________________\n"
          ]
        }
      ],
      "source": [
        "# Define the model - deep neural net, i.e., the number of input features and hidden nodes for each layer.\n",
        "#  YOUR CODE GOES HERE\n",
        "\n",
        "nn = tf.keras.models.Sequential()\n",
        "\n",
        "# First hidden layer\n",
        "#  YOUR CODE GOES HERE\n",
        "\n",
        "# Second hidden layer\n",
        "#  YOUR CODE GOES HERE\n",
        "\n",
        "# Output layer\n",
        "#  YOUR CODE GOES HERE\n",
        "\n",
        "# Check the structure of the model\n",
        "nn.summary()"
      ]
    },
    {
      "cell_type": "code",
      "execution_count": null,
      "metadata": {
        "id": "pXqZhQx6aPzv",
        "outputId": "a310e295-b5a1-4e67-8089-5af9192aa434"
      },
      "outputs": [
        {
          "name": "stdout",
          "output_type": "stream",
          "text": [
            "WARNING:tensorflow:From Z:\\Travis\\anaconda3\\lib\\site-packages\\tensorflow\\python\\ops\\nn_impl.py:180: add_dispatch_support.<locals>.wrapper (from tensorflow.python.ops.array_ops) is deprecated and will be removed in a future version.\n",
            "Instructions for updating:\n",
            "Use tf.where in 2.0, which has the same broadcast rule as np.where\n"
          ]
        }
      ],
      "source": [
        "# Compile the model\n",
        "#  YOUR CODE GOES HERE"
      ]
    },
    {
      "cell_type": "code",
      "execution_count": null,
      "metadata": {
        "id": "562nCcj8aPzv",
        "outputId": "1b08cc46-334c-4b9a-997e-47780470aec6"
      },
      "outputs": [
        {
          "name": "stdout",
          "output_type": "stream",
          "text": [
            "Epoch 1/100\n",
            "25724/25724 [==============================] - 2s 80us/sample - loss: 0.5700 - acc: 0.7234\n",
            "Epoch 2/100\n",
            "25724/25724 [==============================] - 1s 44us/sample - loss: 0.5556 - acc: 0.7294\n",
            "Epoch 3/100\n",
            "25724/25724 [==============================] - 1s 43us/sample - loss: 0.5529 - acc: 0.7304\n",
            "Epoch 4/100\n",
            "25724/25724 [==============================] - 1s 49us/sample - loss: 0.5514 - acc: 0.7318\n",
            "Epoch 5/100\n",
            "25724/25724 [==============================] - 1s 48us/sample - loss: 0.5495 - acc: 0.7322\n",
            "Epoch 6/100\n",
            "25724/25724 [==============================] - 1s 46us/sample - loss: 0.5488 - acc: 0.7330\n",
            "Epoch 7/100\n",
            "25724/25724 [==============================] - 1s 47us/sample - loss: 0.5482 - acc: 0.7335\n",
            "Epoch 8/100\n",
            "25724/25724 [==============================] - 1s 44us/sample - loss: 0.5475 - acc: 0.7326\n",
            "Epoch 9/100\n",
            "25724/25724 [==============================] - 1s 48us/sample - loss: 0.5468 - acc: 0.73491s - lo\n",
            "Epoch 10/100\n",
            "25724/25724 [==============================] - 1s 49us/sample - loss: 0.5465 - acc: 0.7350\n",
            "Epoch 11/100\n",
            "25724/25724 [==============================] - 1s 47us/sample - loss: 0.5459 - acc: 0.7345\n",
            "Epoch 12/100\n",
            "25724/25724 [==============================] - 1s 45us/sample - loss: 0.5456 - acc: 0.7362\n",
            "Epoch 13/100\n",
            "25724/25724 [==============================] - 1s 50us/sample - loss: 0.5458 - acc: 0.7339\n",
            "Epoch 14/100\n",
            "25724/25724 [==============================] - 1s 47us/sample - loss: 0.5450 - acc: 0.7361\n",
            "Epoch 15/100\n",
            "25724/25724 [==============================] - 1s 46us/sample - loss: 0.5447 - acc: 0.7353\n",
            "Epoch 16/100\n",
            "25724/25724 [==============================] - 1s 45us/sample - loss: 0.5444 - acc: 0.7356\n",
            "Epoch 17/100\n",
            "25724/25724 [==============================] - 1s 45us/sample - loss: 0.5440 - acc: 0.7358\n",
            "Epoch 18/100\n",
            "25724/25724 [==============================] - 1s 45us/sample - loss: 0.5442 - acc: 0.7367\n",
            "Epoch 19/100\n",
            "25724/25724 [==============================] - 1s 45us/sample - loss: 0.5436 - acc: 0.7360\n",
            "Epoch 20/100\n",
            "25724/25724 [==============================] - 1s 44us/sample - loss: 0.5435 - acc: 0.7365\n",
            "Epoch 21/100\n",
            "25724/25724 [==============================] - 1s 44us/sample - loss: 0.5426 - acc: 0.7377\n",
            "Epoch 22/100\n",
            "25724/25724 [==============================] - 1s 44us/sample - loss: 0.5429 - acc: 0.7367\n",
            "Epoch 23/100\n",
            "25724/25724 [==============================] - 1s 42us/sample - loss: 0.5428 - acc: 0.7382\n",
            "Epoch 24/100\n",
            "25724/25724 [==============================] - 1s 45us/sample - loss: 0.5425 - acc: 0.7376\n",
            "Epoch 25/100\n",
            "25724/25724 [==============================] - 1s 44us/sample - loss: 0.5421 - acc: 0.7379\n",
            "Epoch 26/100\n",
            "25724/25724 [==============================] - 1s 46us/sample - loss: 0.5419 - acc: 0.7382\n",
            "Epoch 27/100\n",
            "25724/25724 [==============================] - 1s 56us/sample - loss: 0.5415 - acc: 0.7384\n",
            "Epoch 28/100\n",
            "25724/25724 [==============================] - 2s 67us/sample - loss: 0.5418 - acc: 0.7381\n",
            "Epoch 29/100\n",
            "25724/25724 [==============================] - 2s 60us/sample - loss: 0.5415 - acc: 0.7381\n",
            "Epoch 30/100\n",
            "25724/25724 [==============================] - 2s 61us/sample - loss: 0.5410 - acc: 0.7382\n",
            "Epoch 31/100\n",
            "25724/25724 [==============================] - 1s 45us/sample - loss: 0.5414 - acc: 0.7381\n",
            "Epoch 32/100\n",
            "25724/25724 [==============================] - 1s 48us/sample - loss: 0.5407 - acc: 0.7388\n",
            "Epoch 33/100\n",
            "25724/25724 [==============================] - 1s 44us/sample - loss: 0.5412 - acc: 0.7374\n",
            "Epoch 34/100\n",
            "25724/25724 [==============================] - 1s 45us/sample - loss: 0.5405 - acc: 0.7383\n",
            "Epoch 35/100\n",
            "25724/25724 [==============================] - 1s 49us/sample - loss: 0.5405 - acc: 0.7388\n",
            "Epoch 36/100\n",
            "25724/25724 [==============================] - 1s 51us/sample - loss: 0.5405 - acc: 0.7384\n",
            "Epoch 37/100\n",
            "25724/25724 [==============================] - 1s 47us/sample - loss: 0.5403 - acc: 0.7379\n",
            "Epoch 38/100\n",
            "25724/25724 [==============================] - 1s 49us/sample - loss: 0.5401 - acc: 0.7392\n",
            "Epoch 39/100\n",
            "25724/25724 [==============================] - 1s 48us/sample - loss: 0.5405 - acc: 0.7387\n",
            "Epoch 40/100\n",
            "25724/25724 [==============================] - 1s 47us/sample - loss: 0.5399 - acc: 0.7390\n",
            "Epoch 41/100\n",
            "25724/25724 [==============================] - 1s 47us/sample - loss: 0.5395 - acc: 0.7394\n",
            "Epoch 42/100\n",
            "25724/25724 [==============================] - 1s 47us/sample - loss: 0.5399 - acc: 0.7391\n",
            "Epoch 43/100\n",
            "25724/25724 [==============================] - 1s 53us/sample - loss: 0.5396 - acc: 0.7389\n",
            "Epoch 44/100\n",
            "25724/25724 [==============================] - 1s 46us/sample - loss: 0.5398 - acc: 0.7397\n",
            "Epoch 45/100\n",
            "25724/25724 [==============================] - 1s 45us/sample - loss: 0.5395 - acc: 0.7400\n",
            "Epoch 46/100\n",
            "25724/25724 [==============================] - 1s 48us/sample - loss: 0.5389 - acc: 0.7391\n",
            "Epoch 47/100\n",
            "25724/25724 [==============================] - 1s 46us/sample - loss: 0.5391 - acc: 0.7393\n",
            "Epoch 48/100\n",
            "25724/25724 [==============================] - 1s 47us/sample - loss: 0.5390 - acc: 0.7383\n",
            "Epoch 49/100\n",
            "25724/25724 [==============================] - 1s 47us/sample - loss: 0.5391 - acc: 0.7390\n",
            "Epoch 50/100\n",
            "25724/25724 [==============================] - 1s 53us/sample - loss: 0.5387 - acc: 0.7402\n",
            "Epoch 51/100\n",
            "25724/25724 [==============================] - 1s 49us/sample - loss: 0.5388 - acc: 0.7393\n",
            "Epoch 52/100\n",
            "25724/25724 [==============================] - 1s 48us/sample - loss: 0.5389 - acc: 0.7393\n",
            "Epoch 53/100\n",
            "25724/25724 [==============================] - 1s 49us/sample - loss: 0.5387 - acc: 0.7394\n",
            "Epoch 54/100\n",
            "25724/25724 [==============================] - 1s 50us/sample - loss: 0.5385 - acc: 0.7395\n",
            "Epoch 55/100\n",
            "25724/25724 [==============================] - 1s 48us/sample - loss: 0.5381 - acc: 0.7394\n",
            "Epoch 56/100\n",
            "25724/25724 [==============================] - 2s 60us/sample - loss: 0.5384 - acc: 0.7396\n",
            "Epoch 57/100\n",
            "25724/25724 [==============================] - 1s 51us/sample - loss: 0.5384 - acc: 0.7392\n",
            "Epoch 58/100\n",
            "25724/25724 [==============================] - 1s 52us/sample - loss: 0.5382 - acc: 0.7398\n",
            "Epoch 59/100\n",
            "25724/25724 [==============================] - 1s 51us/sample - loss: 0.5382 - acc: 0.7390\n",
            "Epoch 60/100\n",
            "25724/25724 [==============================] - 1s 58us/sample - loss: 0.5383 - acc: 0.7395\n",
            "Epoch 61/100\n",
            "25724/25724 [==============================] - 1s 48us/sample - loss: 0.5380 - acc: 0.7393\n",
            "Epoch 62/100\n",
            "25724/25724 [==============================] - 1s 54us/sample - loss: 0.5386 - acc: 0.7395\n",
            "Epoch 63/100\n",
            "25724/25724 [==============================] - 1s 53us/sample - loss: 0.5379 - acc: 0.7397\n",
            "Epoch 64/100\n",
            "25724/25724 [==============================] - 1s 54us/sample - loss: 0.5383 - acc: 0.7414\n",
            "Epoch 65/100\n",
            "25724/25724 [==============================] - 1s 57us/sample - loss: 0.5376 - acc: 0.74031s \n",
            "Epoch 66/100\n",
            "25724/25724 [==============================] - 1s 55us/sample - loss: 0.5378 - acc: 0.7407\n",
            "Epoch 67/100\n",
            "25724/25724 [==============================] - 2s 60us/sample - loss: 0.5378 - acc: 0.7402\n",
            "Epoch 68/100\n",
            "25724/25724 [==============================] - 2s 68us/sample - loss: 0.5374 - acc: 0.7403\n",
            "Epoch 69/100\n",
            "25724/25724 [==============================] - 1s 55us/sample - loss: 0.5376 - acc: 0.7400\n",
            "Epoch 70/100\n",
            "25724/25724 [==============================] - 1s 51us/sample - loss: 0.5377 - acc: 0.7404\n",
            "Epoch 71/100\n",
            "25724/25724 [==============================] - 1s 53us/sample - loss: 0.5377 - acc: 0.7402\n",
            "Epoch 72/100\n",
            "25724/25724 [==============================] - 2s 61us/sample - loss: 0.5374 - acc: 0.7403\n",
            "Epoch 73/100\n",
            "25724/25724 [==============================] - 1s 58us/sample - loss: 0.5375 - acc: 0.7400\n",
            "Epoch 74/100\n",
            "25724/25724 [==============================] - 2s 63us/sample - loss: 0.5373 - acc: 0.7407\n",
            "Epoch 75/100\n",
            "25724/25724 [==============================] - 2s 72us/sample - loss: 0.5371 - acc: 0.7402\n",
            "Epoch 76/100\n",
            "25724/25724 [==============================] - 2s 66us/sample - loss: 0.5372 - acc: 0.7404\n",
            "Epoch 77/100\n",
            "25724/25724 [==============================] - 2s 63us/sample - loss: 0.5372 - acc: 0.7399\n",
            "Epoch 78/100\n",
            "25724/25724 [==============================] - 1s 51us/sample - loss: 0.5378 - acc: 0.7409\n",
            "Epoch 79/100\n",
            "25724/25724 [==============================] - 2s 70us/sample - loss: 0.5370 - acc: 0.7410\n",
            "Epoch 80/100\n",
            "25724/25724 [==============================] - 1s 46us/sample - loss: 0.5371 - acc: 0.7402\n",
            "Epoch 81/100\n",
            "25724/25724 [==============================] - 1s 48us/sample - loss: 0.5368 - acc: 0.7414\n",
            "Epoch 82/100\n",
            "25724/25724 [==============================] - 1s 46us/sample - loss: 0.5366 - acc: 0.7413\n",
            "Epoch 83/100\n",
            "25724/25724 [==============================] - 1s 48us/sample - loss: 0.5368 - acc: 0.7405\n",
            "Epoch 84/100\n",
            "25724/25724 [==============================] - 2s 65us/sample - loss: 0.5367 - acc: 0.7407\n",
            "Epoch 85/100\n",
            "25724/25724 [==============================] - 2s 64us/sample - loss: 0.5368 - acc: 0.7404\n",
            "Epoch 86/100\n",
            "25724/25724 [==============================] - 2s 69us/sample - loss: 0.5365 - acc: 0.7408\n",
            "Epoch 87/100\n",
            "25724/25724 [==============================] - 1s 53us/sample - loss: 0.5371 - acc: 0.7407\n",
            "Epoch 88/100\n",
            "25724/25724 [==============================] - 1s 57us/sample - loss: 0.5367 - acc: 0.7410\n",
            "Epoch 89/100\n",
            "25724/25724 [==============================] - 1s 48us/sample - loss: 0.5366 - acc: 0.7409\n",
            "Epoch 90/100\n",
            "25724/25724 [==============================] - 1s 48us/sample - loss: 0.5365 - acc: 0.7409\n",
            "Epoch 91/100\n",
            "25724/25724 [==============================] - 1s 48us/sample - loss: 0.5360 - acc: 0.7414\n",
            "Epoch 92/100\n",
            "25724/25724 [==============================] - 1s 50us/sample - loss: 0.5370 - acc: 0.7406\n",
            "Epoch 93/100\n",
            "25724/25724 [==============================] - 1s 46us/sample - loss: 0.5365 - acc: 0.7411\n",
            "Epoch 94/100\n",
            "25724/25724 [==============================] - 1s 50us/sample - loss: 0.5366 - acc: 0.7409\n",
            "Epoch 95/100\n",
            "25724/25724 [==============================] - 1s 56us/sample - loss: 0.5362 - acc: 0.7411\n",
            "Epoch 96/100\n",
            "25724/25724 [==============================] - 1s 50us/sample - loss: 0.5361 - acc: 0.7404\n",
            "Epoch 97/100\n",
            "25724/25724 [==============================] - 1s 54us/sample - loss: 0.5361 - acc: 0.74130s - loss: 0.5380 - \n",
            "Epoch 98/100\n",
            "25724/25724 [==============================] - 2s 64us/sample - loss: 0.5365 - acc: 0.7407\n",
            "Epoch 99/100\n",
            "25724/25724 [==============================] - 2s 80us/sample - loss: 0.5360 - acc: 0.7396\n",
            "Epoch 100/100\n",
            "25724/25724 [==============================] - 2s 64us/sample - loss: 0.5360 - acc: 0.7416\n"
          ]
        }
      ],
      "source": [
        "# Train the model\n",
        "#  YOUR CODE GOES HERE"
      ]
    },
    {
      "cell_type": "code",
      "execution_count": null,
      "metadata": {
        "id": "bkhEHYeYaPzv",
        "outputId": "47a7d4d2-a7a5-4cd8-b075-5227e3a6aae3"
      },
      "outputs": [
        {
          "name": "stdout",
          "output_type": "stream",
          "text": [
            "8575/8575 - 0s - loss: 0.5578 - acc: 0.7263\n",
            "Loss: 0.557812534073699, Accuracy: 0.7262973785400391\n"
          ]
        }
      ],
      "source": [
        "#### Evaluate the model using the test data\n",
        "model_loss, model_accuracy = nn.evaluate(X_test_scaled,y_test,verbose=2)\n",
        "print(f\"Loss: {model_loss}, Accuracy: {model_accuracy}\")"
      ]
    },
    {
      "cell_type": "code",
      "source": [
        "# Evaluate the model using the test data\n",
        "model_loss, model_accuracy = nn.evaluate(X_test_scaled,y_test,verbose=2)\n",
        "print(f\"Loss: {model_loss}, Accuracy: {model_accuracy}\")"
      ],
      "metadata": {
        "id": "7xj_pK9DZg2u"
      },
      "execution_count": null,
      "outputs": []
    },
    {
      "cell_type": "code",
      "execution_count": null,
      "metadata": {
        "id": "Z8v35nDoaPzv"
      },
      "outputs": [],
      "source": [
        "# Export our model to HDF5 file\n",
        "#  YOUR CODE GOES HERE"
      ]
    }
  ],
  "metadata": {
    "kernelspec": {
      "display_name": "Python 3",
      "language": "python",
      "name": "python3"
    },
    "language_info": {
      "codemirror_mode": {
        "name": "ipython",
        "version": 3
      },
      "file_extension": ".py",
      "mimetype": "text/x-python",
      "name": "python",
      "nbconvert_exporter": "python",
      "pygments_lexer": "ipython3",
      "version": "3.7.6"
    },
    "colab": {
      "provenance": [],
      "include_colab_link": true
    }
  },
  "nbformat": 4,
  "nbformat_minor": 0
}